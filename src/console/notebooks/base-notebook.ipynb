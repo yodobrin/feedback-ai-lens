{
 "cells": [
  {
   "cell_type": "code",
   "execution_count": null,
   "metadata": {
    "dotnet_interactive": {
     "language": "csharp"
    },
    "polyglot_notebook": {
     "kernelName": "csharp"
    },
    "vscode": {
     "languageId": "polyglot-notebook"
    }
   },
   "outputs": [],
   "source": [
    "#r \"nuget: Azure.AI.OpenAI, 2.1.0\"\n",
    "#r \"nuget: DotNetEnv, 2.5.0\"\n",
    "\n",
    "using Azure;\n",
    "\n",
    "using DotNetEnv;\n",
    "\n",
    "using System.IO;\n",
    "using System.Text.Json;\n",
    "using System.ClientModel;\n",
    "\n",
    "using Azure.AI.OpenAI;\n",
    "using Azure.AI.OpenAI.Chat;\n",
    "\n",
    "using OpenAI.Chat;\n",
    "\n",
    "using OpenAI.Embeddings;"
   ]
  },
  {
   "cell_type": "code",
   "execution_count": null,
   "metadata": {
    "vscode": {
     "languageId": "polyglot-notebook"
    }
   },
   "outputs": [],
   "source": [
    "string _configurationFile = @\"../../../configuration/.env\";\n",
    "Env.Load(_configurationFile);\n",
    "    \n",
    "string oAiApiKey = Environment.GetEnvironmentVariable(\"AOAI_APIKEY\") ?? \"AOAI_APIKEY not found\";\n",
    "string oAiEndpoint = Environment.GetEnvironmentVariable(\"AOAI_ENDPOINT\") ?? \"AOAI_ENDPOINT not found\";\n",
    "string chatCompletionDeploymentName = Environment.GetEnvironmentVariable(\"CHATCOMPLETION_DEPLOYMENTNAME\") ?? \"CHATCOMPLETION_DEPLOYMENTNAME not found\";\n",
    "string embeddingDeploymentName = Environment.GetEnvironmentVariable(\"EMBEDDING_DEPLOYMENTNAME\") ?? \"EMBEDDING_DEPLOYMENTNAME not found\";\n",
    "    \n",
    "AzureKeyCredential azureKeyCredential = new AzureKeyCredential(oAiApiKey);\n",
    "AzureOpenAIClient openAIClient = new AzureOpenAIClient(new Uri(oAiEndpoint), azureKeyCredential);\n",
    "    \n",
    "Console.WriteLine($\"OpenAI Client created: {oAiEndpoint} with: {chatCompletionDeploymentName} and {embeddingDeploymentName} deployments\");"
   ]
  },
  {
   "cell_type": "code",
   "execution_count": null,
   "metadata": {
    "vscode": {
     "languageId": "polyglot-notebook"
    }
   },
   "outputs": [],
   "source": [
    "async Task<float[]> GetEmbeddingAsync(AzureOpenAIClient _openAIClient,string textToBeVecorized)\n",
    "{\n",
    "    // Prepare the embeddings options with the user story\\n\",\n",
    "    EmbeddingClient embeddingClient = _openAIClient.GetEmbeddingClient(embeddingDeploymentName);\n",
    "    ClientResult<OpenAIEmbedding> embeddingResult = await embeddingClient.GenerateEmbeddingAsync(textToBeVecorized);   \n",
    "    float[] response = embeddingResult?.Value?.ToFloats().ToArray() ?? new float[0];\n",
    "    return response;\n",
    "}"
   ]
  },
  {
   "cell_type": "code",
   "execution_count": null,
   "metadata": {
    "vscode": {
     "languageId": "polyglot-notebook"
    }
   },
   "outputs": [],
   "source": [
    "    float [] xx = await GetEmbeddingAsync(openAIClient,\"sample text to embed\");\n",
    "    Console.WriteLine($\"Embedding: {xx.Length}\");"
   ]
  },
  {
   "cell_type": "code",
   "execution_count": null,
   "metadata": {
    "vscode": {
     "languageId": "polyglot-notebook"
    }
   },
   "outputs": [],
   "source": [
    "async Task<string> CallOpenAI(AzureOpenAIClient _openAIClient, string prompt, string systemMessage, bool jsonResponse = true)\n",
    "{\n",
    "    // Get the chat client (using your deployment or model name)\n",
    "    ChatClient chatClient = _openAIClient.GetChatClient(chatCompletionDeploymentName);\n",
    "\n",
    "    ChatCompletionOptions chatComletionOptions = new ChatCompletionOptions(){\n",
    "        MaxOutputTokenCount = 150,\n",
    "        Temperature = 0.7f,\n",
    "        TopP = 1.0f,\n",
    "        FrequencyPenalty = 0.7f,\n",
    "        PresencePenalty = 0.7f,\n",
    "\n",
    "    };\n",
    "\n",
    "    chatComletionOptions.ResponseFormat = jsonResponse ? ChatResponseFormat.CreateJsonObjectFormat() : ChatResponseFormat.CreateTextFormat();\n",
    "\n",
    "    // Prepare your messages\n",
    "    ChatMessage[] messages = new ChatMessage[]\n",
    "    {\n",
    "        new SystemChatMessage(systemMessage),\n",
    "        new UserChatMessage(prompt)\n",
    "    };\n",
    "\n",
    "    // Call the chat completions endpoint with parameters directly\n",
    "    ChatCompletion completions = await chatClient.CompleteChatAsync(        \n",
    "    messages: messages, \n",
    "    options: chatComletionOptions);\n",
    "\n",
    "    // Get the text from the first completion choice\n",
    "    // var resp = completions.Content[0];\n",
    "    \n",
    "    string result = completions.Content[0].Text;\n",
    "    return result;\n",
    "}"
   ]
  },
  {
   "cell_type": "code",
   "execution_count": null,
   "metadata": {
    "vscode": {
     "languageId": "polyglot-notebook"
    }
   },
   "outputs": [],
   "source": [
    "string systemMessage = \n",
    "@\"You are an AI assistant that only answers wrong answers \n",
    "but stay in the domain of the question, \n",
    "and keep your answers short. \n",
    "For example, if the user asks for true or false, \n",
    "answer with a true or false statement. try to be funny or absurd. \n",
    "Always respond in the domain of the question.\";\n",
    "\n",
    "// Call your OpenAI method, presumably an async method that returns a string response\n",
    "var resp = await CallOpenAI(openAIClient, \n",
    "    \"who manufacures iPhone\",\n",
    "    systemMessage, false);\n",
    "\n",
    "// Print the result\n",
    "Console.WriteLine(resp);"
   ]
  }
 ],
 "metadata": {
  "kernelspec": {
   "display_name": ".NET (C#)",
   "language": "C#",
   "name": ".net-csharp"
  },
  "language_info": {
   "name": "python"
  },
  "polyglot_notebook": {
   "kernelInfo": {
    "defaultKernelName": "csharp",
    "items": [
     {
      "aliases": [],
      "name": "csharp"
     }
    ]
   }
  }
 },
 "nbformat": 4,
 "nbformat_minor": 2
}
