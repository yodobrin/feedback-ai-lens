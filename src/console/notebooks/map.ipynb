{
 "cells": [
  {
   "cell_type": "markdown",
   "metadata": {},
   "source": [
    "# Mapping survey responses\n",
    "\n",
    "This notebook, uses a python libraries to plot the location of the survey. The data is part of the `SurveyResponses` table, which is the raw data representation directly from the raw data file.\n",
    "\n",
    ">Note: You will need to have a local `sqlite` db file to run this notebook. The notebook at [raw2bronze.ipynb](cic/raw2bronze.ipynb) can be used to create the `sqlite` db file.\n",
    "\n",
    "The following libraries are used in this notebook:"
   ]
  },
  {
   "cell_type": "code",
   "execution_count": null,
   "metadata": {},
   "outputs": [],
   "source": [
    "! pip install folium"
   ]
  },
  {
   "cell_type": "code",
   "execution_count": null,
   "metadata": {},
   "outputs": [],
   "source": [
    "import folium\n",
    "import pandas as pd\n",
    "import sqlite3\n",
    "\n",
    "# Connect to your SQLite database and load your data (adjust the query as needed)\n",
    "conn = sqlite3.connect(\"fy25-raw.db\")\n",
    "query = \"SELECT ResponseId, LocationLatitude, LocationLongitude from SurveyResponses;\"\n",
    "df = pd.read_sql_query(query, conn)\n",
    "\n",
    "# Convert the latitude and longitude columns to numeric values, coercing errors to NaN\n",
    "df['LocationLatitude'] = pd.to_numeric(df['LocationLatitude'], errors='coerce')\n",
    "df['LocationLongitude'] = pd.to_numeric(df['LocationLongitude'], errors='coerce')\n",
    "\n",
    "# Optionally drop rows with invalid coordinates (NaN values)\n",
    "df = df.dropna(subset=['LocationLatitude', 'LocationLongitude'])\n",
    "\n",
    "# Create a map centered around the average location\n",
    "avg_lat = df['LocationLatitude'].mean()\n",
    "avg_lon = df['LocationLongitude'].mean()\n",
    "m = folium.Map(location=[avg_lat, avg_lon], zoom_start=6)\n",
    "\n",
    "# Add markers for each row\n",
    "for idx, row in df.iterrows():\n",
    "    folium.Marker(\n",
    "        location=[row['LocationLatitude'], row['LocationLongitude']],\n",
    "        popup=f\"ResponseId: {row['ResponseId']}\"\n",
    "    ).add_to(m)\n",
    "\n",
    "m  # Display the map"
   ]
  }
 ],
 "metadata": {
  "kernelspec": {
   "display_name": "Python 3",
   "language": "python",
   "name": "python3"
  },
  "language_info": {
   "codemirror_mode": {
    "name": "ipython",
    "version": 3
   },
   "file_extension": ".py",
   "mimetype": "text/x-python",
   "name": "python",
   "nbconvert_exporter": "python",
   "pygments_lexer": "ipython3",
   "version": "3.10.16"
  }
 },
 "nbformat": 4,
 "nbformat_minor": 2
}
