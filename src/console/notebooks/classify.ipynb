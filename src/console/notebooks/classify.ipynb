{
 "cells": [
  {
   "cell_type": "markdown",
   "metadata": {},
   "source": [
    "# Research grouping / clustering techniques"
   ]
  },
  {
   "cell_type": "markdown",
   "metadata": {},
   "source": [
    "## WAF Classification\n",
    "\n",
    "The baseline classification are based on Well Architected Framework (WAF) pillars. The WAF is a framework which is used in many scenarios and its a good starting point to classify the feedbacks. The WAF has 5 pillars:\n",
    "\n",
    "1. Operational Excellence\n",
    "2. Security\n",
    "3. Reliability\n",
    "4. Performance Efficiency\n",
    "5. Cost Optimization\n",
    "\n",
    "There are several techniques to classify feedbacks based on the WAF pillars, the concern is with the speed and total number of tokens that would be used to classify the entire set of feedbacks. The current volume is ~50K feedback items. The approach would be multi-step. During the initial transformation of the feedback to user stories we will instruct the LLM to also assign top classification (WAF pillar) to the feedback. The second step would be to assign the feedback a subcategory based on the specific pillar. This will reduce the size of each request allowing the LLM the efficiently to classify the feedbacks.\n",
    "\n",
    "Per Pillar, we created subcategories based on the specific pillar recommendations. The file `classes.json` contains the mapping of the subcategories to the pillars.\n",
    "The first step of the process is to generate embeddings for each class. The feedback already were transformed to user stories and then generated embedding based on the user story."
   ]
  },
  {
   "cell_type": "code",
   "execution_count": null,
   "metadata": {
    "dotnet_interactive": {
     "language": "csharp"
    },
    "polyglot_notebook": {
     "kernelName": "csharp"
    },
    "vscode": {
     "languageId": "polyglot-notebook"
    }
   },
   "outputs": [],
   "source": [
    "#r \"nuget: Azure.AI.OpenAI, 1.0.0-beta.12\"\n",
    "#r \"nuget: DotNetEnv, 2.5.0\"\n",
    "// ability to load the entire console project, so no need to create local classes\n",
    "# r \"../bin/Debug/net8.0/console.dll\"\n",
    "\n",
    "using Azure; \n",
    "using Azure.AI.OpenAI;\n",
    "using DotNetEnv;\n",
    "using System.IO;\n",
    "using System.Text.Json; \n",
    "using ProductLeaders.console.Models;\n",
    "\n",
    "var fed = new ProductLeaders.console.Models.FeedbackRecord();\n",
    "Console.WriteLine(fed.ClassificationLevels);"
   ]
  },
  {
   "cell_type": "markdown",
   "metadata": {},
   "source": [
    "## Creating OpenAI Client"
   ]
  },
  {
   "cell_type": "code",
   "execution_count": null,
   "metadata": {
    "dotnet_interactive": {
     "language": "csharp"
    },
    "polyglot_notebook": {
     "kernelName": "csharp"
    },
    "vscode": {
     "languageId": "polyglot-notebook"
    }
   },
   "outputs": [],
   "source": [
    "\n",
    "static string _configurationFile = @\"../../../configuration/.env\";\n",
    "Env.Load(_configurationFile);\n",
    "\n",
    "string oAiApiKey = Environment.GetEnvironmentVariable(\"AOAI_APIKEY\") ?? \"AOAI_APIKEY not found\";\n",
    "string oAiEndpoint = Environment.GetEnvironmentVariable(\"AOAI_ENDPOINT\") ?? \"AOAI_ENDPOINT not found\";\n",
    "string chatCompletionDeploymentName = Environment.GetEnvironmentVariable(\"CHATCOMPLETION_DEPLOYMENTNAME\") ?? \"CHATCOMPLETION_DEPLOYMENTNAME not found\";\n",
    "string embeddingDeploymentName = Environment.GetEnvironmentVariable(\"EMBEDDING_DEPLOYMENTNAME\") ?? \"EMBEDDING_DEPLOYMENTNAME not found\";\n",
    "\n",
    "AzureKeyCredential azureKeyCredential = new AzureKeyCredential(oAiApiKey);\n",
    "OpenAIClient openAIClient = new OpenAIClient(new Uri(oAiEndpoint), azureKeyCredential);\n",
    "\n",
    "Console.WriteLine($\"OpenAI Client created: {oAiEndpoint} with: {chatCompletionDeploymentName} and {embeddingDeploymentName} deployments\");"
   ]
  },
  {
   "cell_type": "markdown",
   "metadata": {},
   "source": [
    "### Get Embeddings\n",
    "\n",
    "helper method to get embeddings from OpenAI API."
   ]
  },
  {
   "cell_type": "code",
   "execution_count": null,
   "metadata": {
    "dotnet_interactive": {
     "language": "csharp"
    },
    "polyglot_notebook": {
     "kernelName": "csharp"
    },
    "vscode": {
     "languageId": "polyglot-notebook"
    }
   },
   "outputs": [],
   "source": [
    "async Task<float[]> GetEmbeddingAsync(string textToBeVecorized)\n",
    "{\n",
    "    // Prepare the embeddings options with the user story\n",
    "    EmbeddingsOptions embeddingsOptions = new EmbeddingsOptions(embeddingDeploymentName, new List<string> { textToBeVecorized });\n",
    "    var modelResponse = await openAIClient.GetEmbeddingsAsync( embeddingsOptions);\n",
    "    float[] response = modelResponse.Value.Data[0].Embedding.ToArray();\n",
    "    return response;\n",
    "}"
   ]
  },
  {
   "cell_type": "markdown",
   "metadata": {},
   "source": [
    "## Classification using preset classes\n",
    "\n",
    "The classes are based on the WAF pillars and subcategories. The classes are defined in the `classes.json` file. The classes are used to classify the feedbacks based on the WAF pillars. \n",
    "`WafRoot` and `WafItem` are classes used in the process of generating embeddings. The embeddings would be used to match the feedback to the classes."
   ]
  },
  {
   "cell_type": "markdown",
   "metadata": {},
   "source": [
    "## Generate embedding for the classes \n",
    "\n",
    "The classes are the subcategories of the WAF pillars. The embeddings are generated using `ada` model. First we load the json file with the classes. Then we will iterate through it creating embedding based on the class name and short description.\n",
    "Using a generic structure to maintain WAF topics."
   ]
  },
  {
   "cell_type": "code",
   "execution_count": null,
   "metadata": {
    "dotnet_interactive": {
     "language": "csharp"
    },
    "polyglot_notebook": {
     "kernelName": "csharp"
    },
    "vscode": {
     "languageId": "polyglot-notebook"
    }
   },
   "outputs": [],
   "source": [
    "var inputFilePath = \"new_classification.json\"; // Adjust path as needed\n",
    "var jsonString = File.ReadAllText(inputFilePath);\n",
    "\n",
    "// This deserializes into our WafRoot structure\n",
    "// var wafData = JsonSerializer.Deserialize<WafRoot>(jsonString);\n",
    "var classifications = JsonSerializer.Deserialize<List<ClassificationNode>>(jsonString, new JsonSerializerOptions\n",
    "{\n",
    "    PropertyNameCaseInsensitive = true\n",
    "});\n",
    "\n",
    "if (classifications == null)\n",
    "{\n",
    "    Console.WriteLine(\"Failed to deserialize JSON. Check file format.\");\n",
    "    return;\n",
    "}"
   ]
  },
  {
   "cell_type": "markdown",
   "metadata": {},
   "source": [
    "### Creating the embeddings\n",
    "\n",
    "Using the helper method, the embedding are added to the same class, and then will be saved to a new file."
   ]
  },
  {
   "cell_type": "code",
   "execution_count": null,
   "metadata": {
    "dotnet_interactive": {
     "language": "csharp"
    },
    "polyglot_notebook": {
     "kernelName": "csharp"
    },
    "vscode": {
     "languageId": "polyglot-notebook"
    }
   },
   "outputs": [],
   "source": [
    "async Task<List<ClassificationNode>> EmbedClassificationDataAsync(\n",
    "    List<ClassificationNode> classificationNodes)\n",
    "{\n",
    "    foreach (var node in classificationNodes)\n",
    "    {\n",
    "        // Build the text to embed, e.g. \"Topic:Definition\"\n",
    "        string textToEmbed = $\"{node.Topic}: {node.Definition}\";\n",
    "\n",
    "        // Call your actual embedding method (replace with real logic)\n",
    "        var embedding = await GetEmbeddingAsync(textToEmbed);\n",
    "        node.Embedded = embedding;\n",
    "\n",
    "        Console.WriteLine($\"Embedded => Topic: {node.Topic}\");\n",
    "\n",
    "        // Recursively embed all child topics\n",
    "        if (node.ChildTopics != null && node.ChildTopics.Count > 0)\n",
    "        {\n",
    "            await EmbedClassificationDataAsync(node.ChildTopics);\n",
    "        }\n",
    "    }\n",
    "\n",
    "    // Return the updated list\n",
    "    return classificationNodes;\n",
    "}"
   ]
  },
  {
   "cell_type": "markdown",
   "metadata": {
    "dotnet_interactive": {
     "language": "csharp"
    },
    "polyglot_notebook": {
     "kernelName": "csharp"
    }
   },
   "source": [
    "Saving the enriched classes to a new file."
   ]
  },
  {
   "cell_type": "code",
   "execution_count": null,
   "metadata": {
    "dotnet_interactive": {
     "language": "csharp"
    },
    "polyglot_notebook": {
     "kernelName": "csharp"
    },
    "vscode": {
     "languageId": "polyglot-notebook"
    }
   },
   "outputs": [],
   "source": [
    "var outputFilePath = \"classes_with_embeddings3.json\"; // Adjust path as needed\n",
    "\n",
    "var updatedWafData = await EmbedClassificationDataAsync(classifications);\n",
    "\n",
    "// Pretty-print for readability\n",
    "var options = new JsonSerializerOptions\n",
    "{\n",
    "    WriteIndented = true\n",
    "};\n",
    "\n",
    "var updatedJson = JsonSerializer.Serialize(updatedWafData, options);\n",
    "File.WriteAllText(outputFilePath, updatedJson);\n",
    "\n",
    "Console.WriteLine($\"Updated JSON with embeddings saved to {outputFilePath}.\");"
   ]
  },
  {
   "cell_type": "code",
   "execution_count": null,
   "metadata": {
    "dotnet_interactive": {
     "language": "csharp"
    },
    "polyglot_notebook": {
     "kernelName": "csharp"
    },
    "vscode": {
     "languageId": "polyglot-notebook"
    }
   },
   "outputs": [],
   "source": [
    "// loading the previously generated classes with embeddings\n",
    "var inputFilePath = \"classes_with_embeddings3.json\"; \n",
    "var jsonString = File.ReadAllText(inputFilePath);\n",
    "var classifications = JsonSerializer.Deserialize<List<ClassificationNode>>(jsonString, new JsonSerializerOptions\n",
    "{\n",
    "    PropertyNameCaseInsensitive = true\n",
    "});\n",
    "\n",
    "if (classifications == null)\n",
    "{\n",
    "    Console.WriteLine(\"Failed to deserialize JSON. Check file format.\");\n",
    "    return;\n",
    "}"
   ]
  },
  {
   "cell_type": "markdown",
   "metadata": {},
   "source": [
    "## Creating groups / clusters\n",
    "\n",
    "Now we will iterate through the list of feedback items and find the most similar class. The similarity is calculated using the cosine similarity. The feedback will be assigned to the class with the highest similarity. The feedback will be saved to a new file with the class assigned. An enhanced version of the class `FeedbackRecord` is created to store the class and the similarity."
   ]
  },
  {
   "cell_type": "markdown",
   "metadata": {},
   "source": [
    "helper class to calculate the similarity between the feedback and the classes."
   ]
  },
  {
   "cell_type": "code",
   "execution_count": null,
   "metadata": {
    "dotnet_interactive": {
     "language": "csharp"
    },
    "polyglot_notebook": {
     "kernelName": "csharp"
    },
    "vscode": {
     "languageId": "polyglot-notebook"
    }
   },
   "outputs": [],
   "source": [
    "public static class VectorMath\n",
    "{\n",
    "    // If your embeddings are guaranteed to be length 1536, you can fix that in the code.\n",
    "    // Or you can remove references to VectorDimension and just use vector.Length.\n",
    "\n",
    "    public const int VectorDimension = 1536;\n",
    "\n",
    "    public static float Length(float[] vector)\n",
    "    {\n",
    "        float sum = 0;\n",
    "        for (int i = 0; i < VectorDimension; i++)\n",
    "        {\n",
    "            sum += vector[i] * vector[i];\n",
    "        }\n",
    "        return (float)Math.Sqrt(sum);\n",
    "    }\n",
    "\n",
    "    public static float DotProduct(float[] a, float[] b)\n",
    "    {\n",
    "        float sum = 0;\n",
    "        for (int i = 0; i < VectorDimension; i++)\n",
    "        {\n",
    "            sum += a[i] * b[i];\n",
    "        }\n",
    "        return sum;\n",
    "    }\n",
    "\n",
    "    // Standard Cosine Similarity: dot(a, b) / (|a| * |b|)\n",
    "    public static float CosineSimilarity(float[] a, float[] b)\n",
    "    {\n",
    "        float dot = DotProduct(a, b);\n",
    "        float magA = Length(a);\n",
    "        float magB = Length(b);\n",
    "\n",
    "        // Handle potential divide-by-zero if either vector is all zeros\n",
    "        if (magA < 1e-8f || magB < 1e-8f) return 0f;\n",
    "\n",
    "        return dot / (magA * magB);\n",
    "    }\n",
    "}"
   ]
  },
  {
   "cell_type": "markdown",
   "metadata": {},
   "source": [
    "## Load Data\n",
    "\n",
    "Loading to memory the feedbacks with embeddings and the classes."
   ]
  },
  {
   "cell_type": "code",
   "execution_count": null,
   "metadata": {
    "dotnet_interactive": {
     "language": "csharp"
    },
    "polyglot_notebook": {
     "kernelName": "csharp"
    },
    "vscode": {
     "languageId": "polyglot-notebook"
    }
   },
   "outputs": [],
   "source": [
    "// the classifications are already loaded\n",
    "var feedbackJson = File.ReadAllText(\"adf.json\");\n",
    "var feedbackList = JsonSerializer.Deserialize<List<ProductLeaders.console.Models.FeedbackRecord>>(feedbackJson);"
   ]
  },
  {
   "cell_type": "markdown",
   "metadata": {
    "vscode": {
     "languageId": "polyglot-notebook"
    }
   },
   "source": [
    "## Classify the feedbacks"
   ]
  },
  {
   "cell_type": "code",
   "execution_count": null,
   "metadata": {
    "dotnet_interactive": {
     "language": "csharp"
    },
    "polyglot_notebook": {
     "kernelName": "csharp"
    },
    "vscode": {
     "languageId": "polyglot-notebook"
    }
   },
   "outputs": [],
   "source": [
    "float threshold = 0.7555f;"
   ]
  },
  {
   "cell_type": "code",
   "execution_count": null,
   "metadata": {
    "dotnet_interactive": {
     "language": "csharp"
    },
    "polyglot_notebook": {
     "kernelName": "csharp"
    },
    "vscode": {
     "languageId": "polyglot-notebook"
    }
   },
   "outputs": [],
   "source": [
    "public static List<(ClassificationNode Node, List<string> Path)> FlattenNodes(\n",
    "    List<ClassificationNode> nodes,\n",
    "    List<string> parentPath = null)\n",
    "{\n",
    "    var results = new List<(ClassificationNode, List<string>)>();\n",
    "\n",
    "    foreach (var node in nodes)\n",
    "    {\n",
    "        var currentPath = (parentPath == null || parentPath.Count == 0)\n",
    "            ? new List<string> { node.Topic }\n",
    "            : new List<string>(parentPath) { node.Topic };\n",
    "\n",
    "        // Add this node\n",
    "        results.Add((node, currentPath));\n",
    "\n",
    "        // Recurse if child topics exist\n",
    "        if (node.ChildTopics != null && node.ChildTopics.Count > 0)\n",
    "        {\n",
    "            results.AddRange(FlattenNodes(node.ChildTopics, currentPath));\n",
    "        }\n",
    "    }\n",
    "\n",
    "    return results;\n",
    "}"
   ]
  },
  {
   "cell_type": "code",
   "execution_count": null,
   "metadata": {
    "dotnet_interactive": {
     "language": "csharp"
    },
    "polyglot_notebook": {
     "kernelName": "csharp"
    },
    "vscode": {
     "languageId": "polyglot-notebook"
    }
   },
   "outputs": [],
   "source": [
    "public List<ProductLeaders.console.Models.FeedbackRecord> ClassifyItems(\n",
    "    List<ProductLeaders.console.Models.FeedbackRecord> feedbackList,\n",
    "    List<ClassificationNode> classificationNodes)\n",
    "{\n",
    "    if (classificationNodes == null || feedbackList == null)\n",
    "    {\n",
    "        Console.WriteLine(\"No classification nodes or feedback data provided.\");\n",
    "        return feedbackList;\n",
    "    }\n",
    "\n",
    "    // 1) Flatten the classification hierarchy\n",
    "    var allNodes = FlattenNodes(classificationNodes); \n",
    "    // allNodes is List<(ClassificationNode Node, List<string> Path)>\n",
    "\n",
    "    // 2) For each feedback, find the best match\n",
    "    foreach (var feedback in feedbackList)\n",
    "    {\n",
    "        float bestSimilarity = threshold;\n",
    "        (ClassificationNode bestNode, List<string> bestPath) = (null, null);\n",
    "\n",
    "        // If feedback has no embedding, skip or handle\n",
    "        if (feedback.Embedding == null)\n",
    "        {\n",
    "            Console.WriteLine($\"Feedback {feedback.Id} has no embedding. Skipping classification.\");\n",
    "            continue;\n",
    "        }\n",
    "\n",
    "        // 3) Compare to each classification node that has an embedding\n",
    "        foreach (var (node, path) in allNodes)\n",
    "        {\n",
    "            if (node.Embedded == null) \n",
    "                continue; // Node has no embedding => skip\n",
    "\n",
    "            float sim = VectorMath.CosineSimilarity(feedback.Embedding, node.Embedded);\n",
    "            \n",
    "            if (sim > bestSimilarity)\n",
    "            {\n",
    "                bestSimilarity = sim;\n",
    "                bestNode = node;\n",
    "                bestPath = path; // e.g., [\"Reliability\", \"Simplicity and efficiency\"]\n",
    "            }\n",
    "        }\n",
    "\n",
    "        // 4) Assign classification levels if we found something\n",
    "        feedback.ClassificationLevels.Clear();\n",
    "        if (bestNode != null && bestPath != null)\n",
    "        {\n",
    "            // e.g. bestPath = [\"Reliability\", \"Simplicity and efficiency\"]\n",
    "            feedback.ClassificationLevels.AddRange(bestPath);\n",
    "        }\n",
    "        else\n",
    "        {\n",
    "            feedback.ClassificationLevels.Add(\"Other - Unclassified\");\n",
    "            // Could store an empty list or note \"Unclassified\"\n",
    "        }\n",
    "    }\n",
    "\n",
    "    // Optionally, serialize updated feedback\n",
    "    var outputJson = JsonSerializer.Serialize(feedbackList, new JsonSerializerOptions { WriteIndented = true });\n",
    "    File.WriteAllText(\"feedback_classified.json\", outputJson);\n",
    "\n",
    "    Console.WriteLine(\"Classification complete! Output written to feedback_classified.json\");\n",
    "    return feedbackList;\n",
    "}"
   ]
  },
  {
   "cell_type": "code",
   "execution_count": null,
   "metadata": {
    "dotnet_interactive": {
     "language": "csharp"
    },
    "polyglot_notebook": {
     "kernelName": "csharp"
    },
    "vscode": {
     "languageId": "polyglot-notebook"
    }
   },
   "outputs": [],
   "source": [
    "feedbackList = ClassifyItems(feedbackList, classifications);"
   ]
  },
  {
   "cell_type": "markdown",
   "metadata": {},
   "source": [
    "## Review classifications"
   ]
  },
  {
   "cell_type": "code",
   "execution_count": null,
   "metadata": {
    "vscode": {
     "languageId": "polyglot-notebook"
    }
   },
   "outputs": [],
   "source": [
    "using System;\n",
    "using System.Collections.Generic;\n",
    "using System.Linq;\n",
    "\n",
    "// Assuming 'feedbackList' is your List<FeedbackRecord> that has WafPillar and WafSubCategory populated.\n",
    "\n",
    "Console.WriteLine(\"-----------------------------------------------------------------------------------------------\");\n",
    "Console.WriteLine(\"| ID               | Topic              | Sub Topic                | User Story       |\");\n",
    "Console.WriteLine(\"-----------------------------------------------------------------------------------------------\");\n",
    "\n",
    "foreach (var feedback in feedbackList)\n",
    "{\n",
    "    // Truncate or safely shorten strings if needed:\n",
    "    string idTrunc = (feedback.Id ?? \"\").PadRight(18).Substring(0, 18);\n",
    "\n",
    "    // Extract first and second levels (if they exist)\n",
    "    string pillar = feedback.ClassificationLevels.Count >= 1\n",
    "        ? feedback.ClassificationLevels[0]\n",
    "        : \"\";\n",
    "    string subCat = feedback.ClassificationLevels.Count >= 2\n",
    "        ? feedback.ClassificationLevels[1]\n",
    "        : \"\";\n",
    "\n",
    "    // Pad/Substring to maintain table alignment\n",
    "    string pillarTrunc = pillar.PadRight(24).Substring(0, 24);\n",
    "    string subCatTrunc = subCat.PadRight(28).Substring(0, 28);\n",
    "\n",
    "    // Adjust user story snippet as you prefer\n",
    "    string userStoryTrunc = feedback.UserStory ?? \"\";\n",
    "    if (userStoryTrunc.Length > 80)\n",
    "        userStoryTrunc = userStoryTrunc.Substring(0, 80) + \"...\";\n",
    "\n",
    "    // Print row\n",
    "    Console.WriteLine($\"| {idTrunc} | {pillarTrunc} | {subCatTrunc} | {userStoryTrunc} |\");\n",
    "}\n",
    "\n",
    "Console.WriteLine(\"-----------------------------------------------------------------------------------------------\");"
   ]
  },
  {
   "cell_type": "markdown",
   "metadata": {},
   "source": [
    "## Putting it together\n",
    "\n",
    "Check out the next notebook [report.md](./report.ipynb) for the generating the report."
   ]
  },
  {
   "cell_type": "code",
   "execution_count": null,
   "metadata": {
    "dotnet_interactive": {
     "language": "csharp"
    },
    "polyglot_notebook": {
     "kernelName": "csharp"
    },
    "vscode": {
     "languageId": "polyglot-notebook"
    }
   },
   "outputs": [],
   "source": [
    "public List<ProductLeaders.console.Models.FeedbackRecord> ClassifyItemsNRecord(\n",
    "    List<ProductLeaders.console.Models.FeedbackRecord> feedbackList,\n",
    "    List<ClassificationNode> classificationNodes)\n",
    "{\n",
    "    if (classificationNodes == null || feedbackList == null)\n",
    "    {\n",
    "        Console.WriteLine(\"No classification nodes or feedback data provided.\");\n",
    "        return feedbackList;\n",
    "    }\n",
    "\n",
    "    var allNodes = FlattenNodes(classificationNodes); // Flatten hierarchy\n",
    "\n",
    "    List<float> allSimilarities = new List<float>(); // Collect similarity scores for analysis\n",
    "\n",
    "    foreach (var feedback in feedbackList)\n",
    "    {\n",
    "        float bestSimilarity = float.NegativeInfinity;\n",
    "        (ClassificationNode bestNode, List<string> bestPath) = (null, null);\n",
    "\n",
    "        if (feedback.Embedding == null)\n",
    "        {\n",
    "            Console.WriteLine($\"Feedback {feedback.Id} has no embedding. Skipping classification.\");\n",
    "            continue;\n",
    "        }\n",
    "\n",
    "        foreach (var (node, path) in allNodes)\n",
    "        {\n",
    "            if (node.Embedded == null) \n",
    "                continue; // Node has no embedding => skip\n",
    "\n",
    "            float sim = VectorMath.CosineSimilarity(feedback.Embedding, node.Embedded);\n",
    "            allSimilarities.Add(sim); // Store for analysis\n",
    "\n",
    "            if (sim > bestSimilarity)\n",
    "            {\n",
    "                bestSimilarity = sim;\n",
    "                bestNode = node;\n",
    "                bestPath = path;\n",
    "            }\n",
    "        }\n",
    "\n",
    "        feedback.ClassificationLevels.Clear();\n",
    "        if (bestNode != null && bestPath != null)\n",
    "        {\n",
    "            feedback.ClassificationLevels.AddRange(bestPath);\n",
    "        }\n",
    "        else\n",
    "        {\n",
    "            feedback.ClassificationLevels.Add(\"Yoav\"); // Assign 'Other' as default\n",
    "        }\n",
    "\n",
    "        // Log best match for debugging\n",
    "        Console.WriteLine($\"Feedback {feedback.Id} - Best Similarity: {bestSimilarity}\");\n",
    "    }\n",
    "\n",
    "    // Save similarity scores for offline analysis\n",
    "    var similarityStats = new\n",
    "    {\n",
    "        Min = allSimilarities.Min(),\n",
    "        Max = allSimilarities.Max(),\n",
    "        Avg = allSimilarities.Average(),\n",
    "        Scores = allSimilarities\n",
    "    };\n",
    "    File.WriteAllText(\"similarity_scores.json\", JsonSerializer.Serialize(similarityStats, new JsonSerializerOptions { WriteIndented = true }));\n",
    "\n",
    "    Console.WriteLine(\"Classification complete! Similarity values saved to similarity_scores.json.\");\n",
    "    return feedbackList;\n",
    "}"
   ]
  }
 ],
 "metadata": {
  "kernelspec": {
   "display_name": ".NET (C#)",
   "language": "C#",
   "name": ".net-csharp"
  },
  "language_info": {
   "name": "python"
  },
  "polyglot_notebook": {
   "kernelInfo": {
    "defaultKernelName": "csharp",
    "items": [
     {
      "aliases": [],
      "name": "csharp"
     }
    ]
   }
  }
 },
 "nbformat": 4,
 "nbformat_minor": 2
}
