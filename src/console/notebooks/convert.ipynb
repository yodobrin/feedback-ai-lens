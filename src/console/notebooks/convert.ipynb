{
 "cells": [
  {
   "cell_type": "markdown",
   "metadata": {},
   "source": [
    "# Classification Structure\n",
    "\n",
    "At first, I used WAF as the idea to group items, after I noticed it is an effective way to perform grouping or clustering, I decided to generalize it further.\n",
    "This notebook was used to convert the older `classes.json` file to `new_classifications.json` file.\n",
    "\n",
    ">Note: This notebook is not going to be used further, it is provided as reference to the thought process."
   ]
  },
  {
   "cell_type": "code",
   "execution_count": null,
   "metadata": {
    "dotnet_interactive": {
     "language": "csharp"
    },
    "polyglot_notebook": {
     "kernelName": "csharp"
    },
    "vscode": {
     "languageId": "polyglot-notebook"
    }
   },
   "outputs": [],
   "source": [
    "#r \"nuget: Azure.AI.OpenAI, 1.0.0-beta.12\"\n",
    "#r \"nuget: DotNetEnv, 2.5.0\"\n",
    "\n",
    "using Azure; \n",
    "using Azure.AI.OpenAI;\n",
    "using DotNetEnv;\n",
    "using System.IO;\n",
    "using System.Text.Json; "
   ]
  },
  {
   "cell_type": "markdown",
   "metadata": {},
   "source": [
    "## Research Progress\n",
    "\n",
    "As further code iteration, it came to mind that specific classification is not the best approach. So a more generic classification class was created.\n",
    "The below is the older one, the new structure is maintained under the `Models` folder of the code."
   ]
  },
  {
   "cell_type": "code",
   "execution_count": null,
   "metadata": {
    "dotnet_interactive": {
     "language": "csharp"
    },
    "polyglot_notebook": {
     "kernelName": "csharp"
    },
    "vscode": {
     "languageId": "polyglot-notebook"
    }
   },
   "outputs": [],
   "source": [
    "using System.Text.Json;\n",
    "using System.Text.Json.Serialization;\n",
    "\n",
    "// Represents one \"pillar\" (e.g., \"Reliability\") which contains a dictionary\n",
    "// of subcategory name -> WafItem\n",
    "public class WafRoot : Dictionary<string, Dictionary<string, WafItem>> {}\n",
    "\n",
    "// Represents an individual subcategory item (e.g., \"Simplicity and efficiency\")\n",
    "public class WafItem\n",
    "{\n",
    "    [JsonPropertyName(\"id\")]\n",
    "    public string Id { get; set; }\n",
    "\n",
    "    [JsonPropertyName(\"definition\")]\n",
    "    public string Definition { get; set; }\n",
    "\n",
    "    // We'll add this array to hold our embedding\n",
    "    [JsonPropertyName(\"embedded\")]\n",
    "    public float[] Embedded { get; set; }\n",
    "}"
   ]
  },
  {
   "cell_type": "code",
   "execution_count": null,
   "metadata": {
    "dotnet_interactive": {
     "language": "csharp"
    },
    "polyglot_notebook": {
     "kernelName": "csharp"
    },
    "vscode": {
     "languageId": "polyglot-notebook"
    }
   },
   "outputs": [],
   "source": [
    "using System.Text.Json;\n",
    "\n",
    "// Suppose your old classification JSON is in \"old_classification.json\"\n",
    "string oldJson = File.ReadAllText(\"classes.json\");\n",
    "\n",
    "// This will load a WafRoot, effectively a Dictionary<string, Dictionary<string, WafItem>>\n",
    "var wafRoot = JsonSerializer.Deserialize<WafRoot>(oldJson);\n",
    "\n",
    "// Check if null or anything as needed\n",
    "if (wafRoot == null)\n",
    "{\n",
    "    Console.WriteLine(\"Failed to load or parse the legacy JSON.\");\n",
    "    return;\n",
    "}"
   ]
  },
  {
   "cell_type": "markdown",
   "metadata": {},
   "source": [
    "## Using classes from the Models folder\n",
    "\n",
    "As `polyglot` notebook are evaluated as script, classes with `namespace` cannot be used, my options were to maintain two classes, or to include the `console.dll` file. The decision is below:"
   ]
  },
  {
   "cell_type": "code",
   "execution_count": null,
   "metadata": {
    "dotnet_interactive": {
     "language": "csharp"
    },
    "polyglot_notebook": {
     "kernelName": "csharp"
    },
    "vscode": {
     "languageId": "polyglot-notebook"
    }
   },
   "outputs": [],
   "source": [
    "# r \"../bin/Debug/net8.0/console.dll\"\n",
    "using ProductLeaders.console.Models;\n"
   ]
  },
  {
   "cell_type": "markdown",
   "metadata": {},
   "source": [
    "## Converting\n",
    "\n",
    "It is straight forward, loading into the old structure and serializing it to the new one."
   ]
  },
  {
   "cell_type": "code",
   "execution_count": null,
   "metadata": {
    "dotnet_interactive": {
     "language": "csharp"
    },
    "polyglot_notebook": {
     "kernelName": "csharp"
    },
    "vscode": {
     "languageId": "polyglot-notebook"
    }
   },
   "outputs": [],
   "source": [
    "var classificationNodes = new List<ClassificationNode>();\n",
    "\n",
    "foreach (var (pillarName, subcategories) in wafRoot)\n",
    "{\n",
    "    // Create a parent ClassificationNode for the top-level pillar\n",
    "    var parentNode = new ClassificationNode\n",
    "    {\n",
    "        Topic = pillarName,\n",
    "        // We typically don't have an ID/Definition for the top-level in the legacy data,\n",
    "        // but you could set them if you wish:\n",
    "        Id = null,\n",
    "        Definition = null,\n",
    "        Embedded = null\n",
    "    };\n",
    "\n",
    "    // For each subcategory, create a child node\n",
    "    foreach (var (subTopicName, wafItem) in subcategories)\n",
    "    {\n",
    "        var childNode = new ClassificationNode\n",
    "        {\n",
    "            Topic = subTopicName,\n",
    "            Id = wafItem.Id,\n",
    "            Definition = wafItem.Definition,\n",
    "            Embedded = wafItem.Embedded\n",
    "        };\n",
    "\n",
    "        parentNode.ChildTopics.Add(childNode);\n",
    "    }\n",
    "\n",
    "    classificationNodes.Add(parentNode);\n",
    "}"
   ]
  },
  {
   "cell_type": "markdown",
   "metadata": {},
   "source": [
    "Saving to a file:"
   ]
  },
  {
   "cell_type": "code",
   "execution_count": null,
   "metadata": {
    "dotnet_interactive": {
     "language": "csharp"
    },
    "polyglot_notebook": {
     "kernelName": "csharp"
    },
    "vscode": {
     "languageId": "polyglot-notebook"
    }
   },
   "outputs": [],
   "source": [
    "var options = new JsonSerializerOptions { WriteIndented = true };\n",
    "string newFormatJson = JsonSerializer.Serialize(classificationNodes, options);\n",
    "\n",
    "// Save to file\n",
    "File.WriteAllText(\"new_classification.json\", newFormatJson);\n",
    "\n",
    "Console.WriteLine(\"Conversion complete. See new_classification.json for results.\");"
   ]
  }
 ],
 "metadata": {
  "kernelspec": {
   "display_name": ".NET (C#)",
   "language": "C#",
   "name": ".net-csharp"
  },
  "language_info": {
   "name": "python"
  },
  "polyglot_notebook": {
   "kernelInfo": {
    "defaultKernelName": "csharp",
    "items": [
     {
      "aliases": [],
      "name": "csharp"
     }
    ]
   }
  }
 },
 "nbformat": 4,
 "nbformat_minor": 2
}
