{
 "cells": [
  {
   "cell_type": "markdown",
   "metadata": {},
   "source": [
    "# Base Notebook - Identity Authentication\n",
    "\n",
    "This notebook provide basic capabilities to interface with azure open ai. It uses `identity` authentication to access the service.\n",
    "\n",
    "It uses the Azure OpenAI SDK 2.1.0."
   ]
  },
  {
   "cell_type": "code",
   "execution_count": null,
   "metadata": {
    "dotnet_interactive": {
     "language": "csharp"
    },
    "polyglot_notebook": {
     "kernelName": "csharp"
    },
    "vscode": {
     "languageId": "polyglot-notebook"
    }
   },
   "outputs": [],
   "source": [
    "#r \"nuget: Azure.AI.OpenAI, 2.1.0\"\n",
    "#r \"nuget: Azure.Identity, 1.8.0\"\n",
    "#r \"nuget: DotNetEnv, 2.5.0\"\n",
    "\n",
    "\n",
    "using Azure.Identity;\n",
    "using Azure;\n",
    "\n",
    "using DotNetEnv;\n",
    "\n",
    "using System.IO;\n",
    "using System.Text.Json;\n",
    "using System.ClientModel;\n",
    "\n",
    "using Azure.AI.OpenAI;\n",
    "using Azure.AI.OpenAI.Chat;\n",
    "\n",
    "using OpenAI.Chat;\n",
    "\n",
    "using OpenAI.Embeddings;"
   ]
  },
  {
   "cell_type": "code",
   "execution_count": null,
   "metadata": {
    "dotnet_interactive": {
     "language": "csharp"
    },
    "polyglot_notebook": {
     "kernelName": "csharp"
    },
    "vscode": {
     "languageId": "polyglot-notebook"
    }
   },
   "outputs": [],
   "source": [
    "\n",
    "string _configurationFile = @\"../../../configuration/.env\";\n",
    "Env.Load(_configurationFile);\n",
    "\n",
    "string oAiEndpoint = Environment.GetEnvironmentVariable(\"AOAI_ENDPOINT\") \n",
    "    ?? \"AOAI_ENDPOINT not found\";\n",
    "string chatCompletionDeploymentName = Environment.GetEnvironmentVariable(\"CHATCOMPLETION_DEPLOYMENTNAME\") \n",
    "    ?? \"CHATCOMPLETION_DEPLOYMENTNAME not found\";\n",
    "string embeddingDeploymentName = Environment.GetEnvironmentVariable(\"EMBEDDING_DEPLOYMENTNAME\") ?? \"EMBEDDING_DEPLOYMENTNAME not found\";\n",
    "var credential = new DefaultAzureCredential();\n",
    "\n",
    "// Now create the client using your identity:\n",
    "AzureOpenAIClient openAIClient = new AzureOpenAIClient(\n",
    "    new Uri(oAiEndpoint),\n",
    "    credential\n",
    ");\n",
    "\n",
    "Console.WriteLine($\"OpenAI Client created with user identity at: {oAiEndpoint}, using deployment: {chatCompletionDeploymentName}\");"
   ]
  },
  {
   "cell_type": "code",
   "execution_count": null,
   "metadata": {
    "dotnet_interactive": {
     "language": "csharp"
    },
    "polyglot_notebook": {
     "kernelName": "csharp"
    },
    "vscode": {
     "languageId": "polyglot-notebook"
    }
   },
   "outputs": [],
   "source": [
    "async Task<float[]> GetEmbeddingAsync(AzureOpenAIClient _openAIClient,string textToBeVecorized)\n",
    "{\n",
    "    // Prepare the embeddings options with the user story\\n\",\n",
    "    EmbeddingClient embeddingClient = _openAIClient.GetEmbeddingClient(embeddingDeploymentName);\n",
    "    ClientResult<OpenAIEmbedding> embeddingResult = await embeddingClient.GenerateEmbeddingAsync(textToBeVecorized);   \n",
    "    float[] response = embeddingResult?.Value?.ToFloats().ToArray() ?? new float[0];\n",
    "    return response;\n",
    "}"
   ]
  },
  {
   "cell_type": "code",
   "execution_count": null,
   "metadata": {
    "dotnet_interactive": {
     "language": "csharp"
    },
    "polyglot_notebook": {
     "kernelName": "csharp"
    },
    "vscode": {
     "languageId": "polyglot-notebook"
    }
   },
   "outputs": [],
   "source": [
    "    float [] xx = await GetEmbeddingAsync(openAIClient,\"sample text to embed\");\n",
    "    Console.WriteLine($\"Embedding: {xx.Length}\");"
   ]
  },
  {
   "cell_type": "code",
   "execution_count": null,
   "metadata": {
    "dotnet_interactive": {
     "language": "csharp"
    },
    "polyglot_notebook": {
     "kernelName": "csharp"
    },
    "vscode": {
     "languageId": "polyglot-notebook"
    }
   },
   "outputs": [],
   "source": [
    "async Task<string> CallOpenAI(AzureOpenAIClient _openAIClient, string prompt, string systemMessage, bool jsonResponse = true)\n",
    "{\n",
    "    // Get the chat client (using your deployment or model name)\n",
    "    ChatClient chatClient = _openAIClient.GetChatClient(chatCompletionDeploymentName);\n",
    "\n",
    "    ChatCompletionOptions chatComletionOptions = new ChatCompletionOptions(){\n",
    "        MaxOutputTokenCount = 450,\n",
    "        Temperature = 0.7f,\n",
    "        TopP = 1.0f,\n",
    "        FrequencyPenalty = 0.7f,\n",
    "        PresencePenalty = 0.7f,\n",
    "\n",
    "    };\n",
    "\n",
    "    chatComletionOptions.ResponseFormat = jsonResponse ? ChatResponseFormat.CreateJsonObjectFormat() : ChatResponseFormat.CreateTextFormat();\n",
    "\n",
    "    // Prepare your messages\n",
    "    ChatMessage[] messages = new ChatMessage[]\n",
    "    {\n",
    "        new SystemChatMessage(systemMessage),\n",
    "        new UserChatMessage(prompt)\n",
    "    };\n",
    "\n",
    "    // Call the chat completions endpoint with parameters directly\n",
    "    ChatCompletion completions = await chatClient.CompleteChatAsync(        \n",
    "    messages: messages, \n",
    "    options: chatComletionOptions);\n",
    "\n",
    "    // Get the text from the first completion choice\n",
    "    // var resp = completions.Content[0];\n",
    "    \n",
    "    string result = completions.Content[0].Text;\n",
    "    return result;\n",
    "}"
   ]
  },
  {
   "cell_type": "code",
   "execution_count": null,
   "metadata": {
    "dotnet_interactive": {
     "language": "csharp"
    },
    "polyglot_notebook": {
     "kernelName": "csharp"
    },
    "vscode": {
     "languageId": "polyglot-notebook"
    }
   },
   "outputs": [],
   "source": [
    "string systemMessage = \n",
    "@\"You are an AI assistant that only answers wrong answers \n",
    "but stay in the domain of the question, \n",
    "and keep your answers short. \n",
    "For example, if the user asks for true or false, \n",
    "answer with a true or false statement. try to be funny or absurd. \n",
    "Always respond in the domain of the question.\";\n",
    "\n",
    "// Call your OpenAI method, presumably an async method that returns a string response\n",
    "var resp = await CallOpenAI(openAIClient, \n",
    "    \"who manufacures iPhone\",\n",
    "    systemMessage, false);\n",
    "\n",
    "// Print the result\n",
    "Console.WriteLine(resp);"
   ]
  },
  {
   "cell_type": "markdown",
   "metadata": {},
   "source": [
    "# Playing with transcript \n",
    "\n",
    "Few attempts to extract insights from the transcript."
   ]
  },
  {
   "cell_type": "code",
   "execution_count": null,
   "metadata": {
    "dotnet_interactive": {
     "language": "csharp"
    },
    "polyglot_notebook": {
     "kernelName": "csharp"
    },
    "vscode": {
     "languageId": "polyglot-notebook"
    }
   },
   "outputs": [],
   "source": [
    "string extractQuestions = \n",
    "@\"You are an advanced text-extraction assistant specialized in analyzing discussion transcripts. Your goal is to identify and extract all challenges mentioned in the conversation. A “challenge” can be any problem, difficulty, obstacle, or concern that participants raise.\n",
    "\n",
    "Instructions:\n",
    "\t1.\tRead the entire transcript carefully. note that conversation text is within specific tags.(<v John Doe>I see you again.</v>)\n",
    "\t2.\tIdentify each statement or passage that describes a challenge or difficulty encountered or anticipated by the participants.\n",
    "\t3.\tSummarize these challenges in a concise, clear format (bullet points or numbered list).\n",
    "\t4.\tFor each challenge:\n",
    "\t•\tProvide a short description of what the challenge is.\n",
    "\t•\t(Optional) If the transcript contains specific details (e.g., who raised the challenge, a brief quote, or context), include a concise snippet to illustrate it.\n",
    "\t5.\tIf no challenges are mentioned, output “No challenges found.”\n",
    "\n",
    "Important:\n",
    "\t•\tOnly include actual challenges stated or implied by the discussion.\n",
    "\t•\tDo not reveal any internal reasoning steps or chain-of-thought.\n",
    "\t•\tLimit your output to the final results—the list of challenges.\n",
    "\n",
    "Output:\n",
    "    •\tA list of challenges extracted from the conversation.\n",
    "     The JSON must have this structure:\n",
    "{\n",
    "  \"\"Challenge\"\": \"\"<A concise phrase describing the challenge>\"\",\n",
    "  \"\"Summary\"\": \"\"<A detailed explanation summarizing the challenge>\"\"\n",
    "}\n",
    "    \";"
   ]
  },
  {
   "cell_type": "code",
   "execution_count": null,
   "metadata": {
    "dotnet_interactive": {
     "language": "csharp"
    },
    "polyglot_notebook": {
     "kernelName": "csharp"
    },
    "vscode": {
     "languageId": "polyglot-notebook"
    }
   },
   "outputs": [],
   "source": [
    "#!csharp\n",
    "using System;\n",
    "using System.IO;\n",
    "using System.Text.RegularExpressions;\n",
    "\n",
    "// Define the input file path (modify accordingly)\n",
    "string filePath = \"Product Leaders Co-Pilot Pt 2.vtt\"; \n",
    "\n",
    "// Define the output file with \"_cl.vtt\" suffix\n",
    "string outputFilePath = Path.Combine(\n",
    "    Path.GetDirectoryName(filePath) ?? \"\",\n",
    "    Path.GetFileNameWithoutExtension(filePath) + \"_cl\" + Path.GetExtension(filePath)\n",
    ");\n",
    "\n",
    "Console.WriteLine($\"Processing: {filePath}\");\n",
    "Console.WriteLine($\"Saving cleaned file to: {outputFilePath}\");\n",
    "\n",
    "// Read all lines from the file\n",
    "var lines = File.ReadAllLines(filePath);\n",
    "var cleanedLines = new List<string>();\n",
    "\n",
    "// Regex pattern to match speaker lines with `<v SpeakerName>Text</v>`\n",
    "Regex speechPattern = new Regex(@\"<v\\s([^>]+)>(.*?)<\\/v>\", RegexOptions.Compiled);\n",
    "\n",
    "foreach (var line in lines)\n",
    "{\n",
    "    var match = speechPattern.Match(line);\n",
    "    if (match.Success)\n",
    "    {\n",
    "        string speaker = match.Groups[1].Value.Trim();\n",
    "        string text = match.Groups[2].Value.Trim();\n",
    "        cleanedLines.Add($\"{speaker}: {text}\");\n",
    "    }\n",
    "}\n",
    "\n",
    "// Write cleaned content to the new file\n",
    "File.WriteAllLines(outputFilePath, cleanedLines);\n",
    "\n",
    "Console.WriteLine(\"Cleaning completed successfully!\");"
   ]
  },
  {
   "cell_type": "code",
   "execution_count": null,
   "metadata": {
    "dotnet_interactive": {
     "language": "csharp"
    },
    "polyglot_notebook": {
     "kernelName": "csharp"
    },
    "vscode": {
     "languageId": "polyglot-notebook"
    }
   },
   "outputs": [],
   "source": [
    "string filePath = \"transcript1_cl.vtt\";\n",
    "string content = File.ReadAllText(filePath);\n",
    "var resp2 = await CallOpenAI(openAIClient, \n",
    "    content,\n",
    "    extractQuestions, true);"
   ]
  },
  {
   "cell_type": "code",
   "execution_count": null,
   "metadata": {
    "dotnet_interactive": {
     "language": "csharp"
    },
    "polyglot_notebook": {
     "kernelName": "csharp"
    },
    "vscode": {
     "languageId": "polyglot-notebook"
    }
   },
   "outputs": [],
   "source": [
    "Console.WriteLine(resp2);"
   ]
  }
 ],
 "metadata": {
  "kernelspec": {
   "display_name": ".NET (C#)",
   "language": "C#",
   "name": ".net-csharp"
  },
  "language_info": {
   "name": "python"
  },
  "polyglot_notebook": {
   "kernelInfo": {
    "defaultKernelName": "csharp",
    "items": [
     {
      "aliases": [],
      "name": "csharp"
     }
    ]
   }
  }
 },
 "nbformat": 4,
 "nbformat_minor": 2
}
