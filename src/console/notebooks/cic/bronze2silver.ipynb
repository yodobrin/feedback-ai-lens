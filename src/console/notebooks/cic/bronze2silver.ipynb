{
 "cells": [
  {
   "cell_type": "markdown",
   "metadata": {},
   "source": [
    "# Bronze 2 Silver Notebook\n",
    "\n",
    "## Mapping raw data to deep-dive data\n",
    "\n",
    "This is an initial take on the mapping between the raw fields and the deep dive area. o1 was used here to try and match, while this can be done without discussing the deep dive area with the person designing it, to make progress, we will pick and choose specific columns to show the ability of enriching the data.\n",
    "\n",
    "This would be part of the silver notebook.\n",
    "\n",
    "\n",
    "\n",
    "| **Target Field**                                        | **Likely Source Field(s)**                                                | **Operation or Mapping Logic**                                                                                                                      |\n",
    "|:--------------------------------------------------------|:--------------------------------------------------------------------------|:----------------------------------------------------------------------------------------------------------------------------------------------------|\n",
    "| **Country**                                             | `LocationLatitude`, `LocationLongitude`  <br>  **RawCol:SAM11**                               | **Reverse Geocoding**<br/>Use latitude & longitude to determine the respondent’s country.                                                           |\n",
    "| **ResponseId**                                          | `ResponseId`                                                             | **Direct Copy**<br/>Map source `ResponseId` to target.                                                                                              |\n",
    "| **CSAT_Azure**                                          | Possibly in `Q011_1` (or similar)                                         | **Parsing Satisfaction for Azure**<br/>Identify which source column has Azure satisfaction (“Very satisfied,” etc.) and map directly.               |\n",
    "| **CSAT_AWS**                                            | Possibly in `Q011_2` (or similar)                                         | **Parsing Satisfaction for AWS**<br/>Identify which source column has AWS satisfaction (“Very satisfied,” etc.) and map directly.                   |\n",
    "| **CSAT_GCP**                                            | Possibly in `Q011_3` (or similar)                                         | **Parsing Satisfaction for GCP**<br/>Identify which source column has GCP satisfaction (“Very satisfied,” etc.) and map directly.                   |\n",
    "| **USE PARTNER**                                         | Look for fields/text referencing partner usage (e.g., “Uses a Partner”).  | **Boolean / Text Check**<br/>If question indicates “Uses a Partner” vs. “Does not use a Partner,” map accordingly.                                   |\n",
    "| **Partner_Brand**                                       | Same partner usage question(s)                                            | **Conditional**<br/>If “Uses a Partner,” parse which brand is used (e.g., “Partner - AWS,” “Partner - Azure,” etc.).                                |\n",
    "| **NPS_Azure** (0–10 rating)                             | Possibly columns with “10 - Extremely likely…” or numeric scale for Azure | **Numeric/Verbatim Copy**<br/>Find the Azure recommend-likelihood question/column (often a 0–10 scale).                                              |\n",
    "| **NPS_AWS**                                             | Same logic for AWS                                                        | **Numeric/Verbatim Copy**                                                                                                                           |\n",
    "| **NPS_GCP**                                             | Same logic for GCP                                                        | **Numeric/Verbatim Copy**                                                                                                                           |\n",
    "| **Operating System**                                    | Possibly columns for Windows vs. Linux usage                              | **Categorical Mapping**<br/>Map from OS usage responses (e.g., “Windows only,” “Linux only,” “Mixed”).                                              |\n",
    "| **Servers_New_Azure (>60% usage)**                     | Detailed usage columns (e.g., Azure usage %)                               | **Percent / Usage Calculation**<br/>Check if usage percentage for Azure > 60% and categorize.                                                        |\n",
    "| **Servers_New_Azure (>80% usage)**                     | Same as above, but check for >80% usage                                    | **Percent / Usage Calculation**<br/>If usage > 80%, map as “Azure - Linux Heavy Users(>80%)” (or similarly “Windows Heavy,” etc.).                  |\n",
    "| **Servers_New_AWS (>60% usage)**                       | Detailed usage columns (AWS)                                              | **Percent / Usage Calculation**                                                                                                                     |\n",
    "| **Servers_New_AWS (>80% usage)**                       | Detailed usage columns (AWS)                                              | **Percent / Usage Calculation**                                                                                                                     |\n",
    "| **Servers_New_GCP (>60% usage)**                       | Detailed usage columns (GCP)                                              | **Percent / Usage Calculation**                                                                                                                     |\n",
    "| **Servers_New_GCP (>80% usage)**                       | Detailed usage columns (GCP)                                              | **Percent / Usage Calculation**                                                                                                                     |\n",
    "| **Tenure with Cloud Option 3**                         | Possibly columns that say “Less than 3 months,” “1–2 years,” etc.         | **Categorical Copy**<br/>Map the overall cloud usage tenure to the target’s text format (“6+ years,” “2–3 years,” etc.).                           |\n",
    "| **Tenure with Azure Option 3**                         | Brand-specific tenure columns for Azure                                   | **Categorical Copy**<br/>Map brand-specific usage tenure text.                                                                                      |\n",
    "| **Tenure with AWS Option 3**                           | Brand-specific tenure columns for AWS                                     | **Categorical Copy**                                                                                                                               |\n",
    "| **Tenure with GCP Option 3**                           | Brand-specific tenure columns for GCP                                     | **Categorical Copy**                                                                                                                               |\n",
    "| **Cloud Usage**                                        | Columns indicating multi or single cloud usage                            | **Logic Based on Selection**<br/>If more than one cloud is “Currently use,” it’s “Multicloud”; otherwise “Single Cloud.”                            |\n",
    "| **Multi-cloud Users**                                  | Same as above                                                             | **Boolean Check**<br/>If using multiple clouds, “Multi-cloud” = True.                                                                              |\n",
    "| **Segment**                                            | Possibly a question about SMB vs. ENT vs. Mid-market                      | **Categorical Copy**<br/>Map directly from the segment question.                                                                                    |\n",
    "| **Org Size (R+I split)**                               | A question or column referencing total employees                          | **Bucket by Employee Count**<br/>Map numeric size ranges (e.g., 1–24, 25–249, 1000+) to labels.                                                     |\n",
    "| **Industry**                                           | Possibly in `Q005` or “Which industry best fits?”                         | **Categorical Copy**<br/>Map to “IT & Other,” “Education,” etc.                                                                                    |\n",
    "| **Role**                                               | Columns about job role (e.g., “Developer,” “IT Pro,” etc.)               | **Categorical Copy**<br/>Based on job-role question.                                                                                               |\n",
    "| **Cloud Native (Q101b, Q101a)**                        | Possibly 1–2 columns about “Cloud Native approach”                        | **Derived**<br/>If certain conditions met (e.g., both Q101a and Q101b = “Yes”), mark “Cloud Native.”                                               |\n",
    "| **Startup (Q102a)**                                    | A question: “Is your company a startup?”                                  | **Boolean**                                                                                                                                        |\n",
    "| **Q089a_2 (ISV)**                                      | Question about ISV status                                                | **Boolean**                                                                                                                                        |\n",
    "| **Q048b (Customer Support plan)**                      | Columns referencing “Business Support,” “Standard Support,” etc.         | **Categorical Copy**                                                                                                                               |\n",
    "| **BrandAssigned**                                      | Might be logic about the respondent’s assigned brand                     | **Conditional**<br/>Based on screening/branching logic (e.g., “AWS,” “Azure,” or “Google Cloud”).                                                  |"
   ]
  }
 ],
 "metadata": {
  "language_info": {
   "name": "python"
  }
 },
 "nbformat": 4,
 "nbformat_minor": 2
}
