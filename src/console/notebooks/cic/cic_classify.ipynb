{
 "cells": [
  {
   "cell_type": "markdown",
   "metadata": {},
   "source": [
    "# Classification - Open Ended Questions\n",
    "\n",
    "This notebook, highlight the steps that can extract insights from open-ended questions which are part of the overall survey. The open-ended questions are the ones where the respondent can write their own answers. As per discussion with the survey team, the open-ended questions require context, this context is part of previous set of questions.\n",
    "\n",
    "The approach here is to create a new table that has the context and the open-ended question. Additional fields would be added to the table as needed. The table would be used to extract insights from the open-ended questions. The primary key for all tables is the field `ResponseId`.\n",
    "\n",
    "## Classification approach - Using embeddings\n",
    "\n",
    "Given a predefined list of classes and their definitions:\n",
    "\n",
    "| Classification | Description |\n",
    "|---|---|\n",
    "| Integration | Key issues include difficulties integrating capabilities of cloud services into solutions, ensuring seamless interoperability. |\n",
    "| Breadth | Key issues include navigating an overwhelming range of service options. |\n",
    "| Containers | Key issues include challenges in container orchestration, ensuring compatibility in containerized environments.|\n",
    "...\n",
    "\n",
    "The list of classes can have multiple hierarchies. In our case though, there is a single level of classes. As initial step we would embed the class definition and save it to a `json` file.\n",
    "\n",
    "Per row, we will call a method that would extract insights from the information in few techniques:\n",
    "- word count - deterministic, using ' ' (space) as delimiter, we count the number of words. Note that LLM are really not god at word count.\n",
    "- Sentiment, keywords, themes - using LLM to extract this information as `json`\n",
    "- Model Scores - using the verbatim text and grounding information (attribution) - Using embedding and cosine similarity, we would assign a score to each class. The choice we took is to pick all classes with score higher than a threshold.\n",
    "\n",
    "## Process\n",
    "\n",
    "### Step 1 - load packages and libraries"
   ]
  },
  {
   "cell_type": "code",
   "execution_count": null,
   "metadata": {
    "dotnet_interactive": {
     "language": "csharp"
    },
    "polyglot_notebook": {
     "kernelName": "csharp"
    },
    "vscode": {
     "languageId": "polyglot-notebook"
    }
   },
   "outputs": [],
   "source": [
    "#r \"nuget: Azure.AI.OpenAI, 2.1.0\"\n",
    "#r \"nuget: Azure.Identity, 1.8.0\"\n",
    "#r \"nuget: DotNetEnv, 2.5.0\"\n",
    "#r \"nuget: Microsoft.Data.Sqlite, 6.0.0\"\n",
    "\n",
    "\n",
    "using Azure.Identity;\n",
    "using Azure;\n",
    "\n",
    "using DotNetEnv;\n",
    "\n",
    "using System.IO;\n",
    "using System.Text.Json;\n",
    "using System.ClientModel;\n",
    "\n",
    "using Azure.AI.OpenAI;\n",
    "using Azure.AI.OpenAI.Chat;\n",
    "\n",
    "using OpenAI.Chat;\n",
    "\n",
    "using OpenAI.Embeddings;"
   ]
  },
  {
   "cell_type": "markdown",
   "metadata": {},
   "source": [
    "### Step 2 - Configure Azure OpenAI"
   ]
  },
  {
   "cell_type": "code",
   "execution_count": null,
   "metadata": {
    "vscode": {
     "languageId": "polyglot-notebook"
    }
   },
   "outputs": [],
   "source": [
    "string _configurationFile = @\"../../../../configuration/.env\";\n",
    "Env.Load(_configurationFile);\n",
    "\n",
    "string oAiEndpoint = Environment.GetEnvironmentVariable(\"AOAI_ENDPOINT\") \n",
    "    ?? \"AOAI_ENDPOINT not found\";\n",
    "string chatCompletionDeploymentName = Environment.GetEnvironmentVariable(\"CHATCOMPLETION_DEPLOYMENTNAME\") \n",
    "    ?? \"CHATCOMPLETION_DEPLOYMENTNAME not found\";\n",
    "string embeddingDeploymentName = Environment.GetEnvironmentVariable(\"EMBEDDING_DEPLOYMENTNAME\") ?? \"EMBEDDING_DEPLOYMENTNAME not found\";\n",
    "var credential = new DefaultAzureCredential();\n",
    "\n",
    "// Now create the client using your identity:\n",
    "AzureOpenAIClient openAIClient = new AzureOpenAIClient(\n",
    "    new Uri(oAiEndpoint),\n",
    "    credential\n",
    ");\n",
    "\n",
    "Console.WriteLine($\"OpenAI Client created with user identity at: {oAiEndpoint}, using deployment: {chatCompletionDeploymentName}\");"
   ]
  },
  {
   "cell_type": "markdown",
   "metadata": {},
   "source": [
    "### Step 3 - Loading additional classes and helper functions"
   ]
  },
  {
   "cell_type": "code",
   "execution_count": null,
   "metadata": {
    "vscode": {
     "languageId": "polyglot-notebook"
    }
   },
   "outputs": [],
   "source": [
    "// include a local class named VectorMath - this class is used to calculate the cosine similarity between two vectors\n",
    "\n",
    "\n",
    "#load \"VectorMath.cs\"\n",
    "#load \"ClassificationNode.cs\"\n",
    "#load \"SQLiteHelper.cs\""
   ]
  },
  {
   "cell_type": "code",
   "execution_count": null,
   "metadata": {
    "vscode": {
     "languageId": "polyglot-notebook"
    }
   },
   "outputs": [],
   "source": [
    "async Task<float[]> GetEmbeddingAsync(AzureOpenAIClient _openAIClient,string textToBeVecorized)\n",
    "{\n",
    "    // Prepare the embeddings options with the user story\\n\",\n",
    "    EmbeddingClient embeddingClient = _openAIClient.GetEmbeddingClient(embeddingDeploymentName);\n",
    "    ClientResult<OpenAIEmbedding> embeddingResult = await embeddingClient.GenerateEmbeddingAsync(textToBeVecorized);   \n",
    "    float[] response = embeddingResult?.Value?.ToFloats().ToArray() ?? new float[0];\n",
    "    return response;\n",
    "}"
   ]
  },
  {
   "cell_type": "code",
   "execution_count": null,
   "metadata": {
    "vscode": {
     "languageId": "polyglot-notebook"
    }
   },
   "outputs": [],
   "source": [
    "async Task<string> CallOpenAI(AzureOpenAIClient _openAIClient, string prompt, string systemMessage, bool jsonResponse = true)\n",
    "{\n",
    "    // Get the chat client (using your deployment or model name)\n",
    "    ChatClient chatClient = _openAIClient.GetChatClient(chatCompletionDeploymentName);\n",
    "\n",
    "    ChatCompletionOptions chatComletionOptions = new ChatCompletionOptions(){\n",
    "        MaxOutputTokenCount = 450,\n",
    "        Temperature = 0.7f,\n",
    "        TopP = 1.0f,\n",
    "        FrequencyPenalty = 0.7f,\n",
    "        PresencePenalty = 0.7f,\n",
    "\n",
    "    };\n",
    "\n",
    "    chatComletionOptions.ResponseFormat = jsonResponse ? ChatResponseFormat.CreateJsonObjectFormat() : ChatResponseFormat.CreateTextFormat();\n",
    "\n",
    "    // Prepare your messages\n",
    "    ChatMessage[] messages = new ChatMessage[]\n",
    "    {\n",
    "        new SystemChatMessage(systemMessage),\n",
    "        new UserChatMessage(prompt)\n",
    "    };\n",
    "\n",
    "    // Call the chat completions endpoint with parameters directly\n",
    "    ChatCompletion completions = await chatClient.CompleteChatAsync(        \n",
    "    messages: messages, \n",
    "    options: chatComletionOptions);\n",
    "\n",
    "    // Get the text from the first completion choice\n",
    "    // var resp = completions.Content[0];\n",
    "    \n",
    "    string result = completions.Content[0].Text;\n",
    "    return result;\n",
    "}"
   ]
  },
  {
   "cell_type": "markdown",
   "metadata": {},
   "source": [
    "### Step 4 - Load and embed the classification classes"
   ]
  },
  {
   "cell_type": "code",
   "execution_count": null,
   "metadata": {
    "vscode": {
     "languageId": "polyglot-notebook"
    }
   },
   "outputs": [],
   "source": [
    "\n",
    "var inputFilePath = \"cic_classes.json\"; // Adjust path as needed\n",
    "var jsonString = File.ReadAllText(inputFilePath);\n",
    "\n",
    "\n",
    "var classifications = JsonSerializer.Deserialize<List<ClassificationNode>>(jsonString, new JsonSerializerOptions\n",
    "{\n",
    "    PropertyNameCaseInsensitive = true\n",
    "});\n",
    "\n",
    "if (classifications == null)\n",
    "{\n",
    "    Console.WriteLine(\"Failed to deserialize JSON. Check file format.\");\n",
    "    return;\n",
    "}"
   ]
  },
  {
   "cell_type": "markdown",
   "metadata": {},
   "source": [
    "**Helper Method:** EmbedClassificationDataAsync - call the LLM to embed the classification classes"
   ]
  },
  {
   "cell_type": "code",
   "execution_count": null,
   "metadata": {
    "vscode": {
     "languageId": "polyglot-notebook"
    }
   },
   "outputs": [],
   "source": [
    "async Task<List<ClassificationNode>> EmbedClassificationDataAsync(\n",
    "    AzureOpenAIClient _openAIClient,\n",
    "    List<ClassificationNode> classificationNodes)\n",
    "{\n",
    "    foreach (var node in classificationNodes)\n",
    "    {\n",
    "        // Build the text to embed, e.g. \"Topic:Definition\"\n",
    "        string textToEmbed = $\"{node.Topic}: {node.Definition}\";\n",
    "\n",
    "        // Call your actual embedding method (replace with real logic)\n",
    "        var embedding = await GetEmbeddingAsync(_openAIClient,textToEmbed);\n",
    "        node.Embedded = embedding;\n",
    "\n",
    "        Console.WriteLine($\"Embedded => Topic: {node.Topic}\");\n",
    "\n",
    "        // Recursively embed all child topics\n",
    "        if (node.ChildTopics != null && node.ChildTopics.Count > 0)\n",
    "        {\n",
    "            await EmbedClassificationDataAsync(_openAIClient,node.ChildTopics);\n",
    "        }\n",
    "    }\n",
    "\n",
    "    // Return the updated list\n",
    "    return classificationNodes;\n",
    "}"
   ]
  },
  {
   "cell_type": "markdown",
   "metadata": {},
   "source": [
    "**Calling for embedding:** calling the helper function and saving to a new file. This operation is required when the classes are updated or new classes added."
   ]
  },
  {
   "cell_type": "code",
   "execution_count": null,
   "metadata": {
    "vscode": {
     "languageId": "polyglot-notebook"
    }
   },
   "outputs": [],
   "source": [
    "var outputFilePath = \"cic_classes_with_embeddings.json\"; // Adjust path as needed\n",
    "\n",
    "var updatedWafData = await EmbedClassificationDataAsync(openAIClient,classifications);\n",
    "\n",
    "// Pretty-print for readability\n",
    "var options = new JsonSerializerOptions\n",
    "{\n",
    "    WriteIndented = true\n",
    "};\n",
    "\n",
    "var updatedJson = JsonSerializer.Serialize(updatedWafData, options);\n",
    "File.WriteAllText(outputFilePath, updatedJson);\n",
    "\n",
    "Console.WriteLine($\"Updated JSON with embeddings saved to {outputFilePath}.\");"
   ]
  },
  {
   "cell_type": "markdown",
   "metadata": {},
   "source": [
    "### Step 5 - load the classification classes with embeddings to memory"
   ]
  },
  {
   "cell_type": "code",
   "execution_count": null,
   "metadata": {
    "vscode": {
     "languageId": "polyglot-notebook"
    }
   },
   "outputs": [],
   "source": [
    "// loading the previously generated classes with embeddings\n",
    "var inputFilePath = \"cic_classes_with_embeddings.json\"; \n",
    "var jsonString = File.ReadAllText(inputFilePath);\n",
    "// Console.WriteLine(jsonString); // Check structure\n",
    "List<ClassificationNode> classifications = new List<ClassificationNode>();\n",
    "\n",
    "try\n",
    "{\n",
    "    classifications = JsonSerializer.Deserialize<List<ClassificationNode>>(jsonString, new JsonSerializerOptions\n",
    "    {\n",
    "        PropertyNameCaseInsensitive = true\n",
    "    });\n",
    "}\n",
    "catch (JsonException)\n",
    "{\n",
    "    Console.WriteLine(\"Failed to deserialize JSON. Check file format.\");\n",
    "    return;\n",
    "}\n",
    "\n",
    "\n",
    "if (classifications == null)\n",
    "{\n",
    "    Console.WriteLine(\"Failed to deserialize JSON. Check file format.\");\n",
    "}"
   ]
  },
  {
   "cell_type": "markdown",
   "metadata": {},
   "source": [
    "**Helper Class:** ClassficationResult - as an example, we have the attribution (although we also use the verbatim text) and a list of possible classes with their similarities scores."
   ]
  },
  {
   "cell_type": "code",
   "execution_count": null,
   "metadata": {
    "vscode": {
     "languageId": "polyglot-notebook"
    }
   },
   "outputs": [],
   "source": [
    "public class ClassificationResult\n",
    "{\n",
    "    public string Attribution { get; set; } = string.Empty;\n",
    "\n",
    "    // Each dictionary contains one key-value pair: { \"label\": score }\n",
    "    public List<Dictionary<string, float>> Matches { get; set; } = new();\n",
    "}"
   ]
  },
  {
   "cell_type": "markdown",
   "metadata": {},
   "source": [
    "**Helper Method:** FlattenNodes - converting a nested list of classes to a flat list"
   ]
  },
  {
   "cell_type": "code",
   "execution_count": null,
   "metadata": {
    "vscode": {
     "languageId": "polyglot-notebook"
    }
   },
   "outputs": [],
   "source": [
    "public static List<(ClassificationNode Node, List<string> Path)> FlattenNodes(\n",
    "    List<ClassificationNode> nodes,\n",
    "    List<string> parentPath = null)\n",
    "{\n",
    "    var results = new List<(ClassificationNode, List<string>)>();\n",
    "\n",
    "    foreach (var node in nodes)\n",
    "    {\n",
    "        var currentPath = (parentPath == null || parentPath.Count == 0)\n",
    "            ? new List<string> { node.Topic }\n",
    "            : new List<string>(parentPath) { node.Topic };\n",
    "\n",
    "        // Add this node\n",
    "        results.Add((node, currentPath));\n",
    "\n",
    "        // Recurse if child topics exist\n",
    "        if (node.ChildTopics != null && node.ChildTopics.Count > 0)\n",
    "        {\n",
    "            results.AddRange(FlattenNodes(node.ChildTopics, currentPath));\n",
    "        }\n",
    "    }\n",
    "\n",
    "    return results;\n",
    "}"
   ]
  },
  {
   "cell_type": "markdown",
   "metadata": {},
   "source": [
    "**Helper Method:** ClassifyTopMatchesAsync - using the embeddings and cosine similarity, we classify the top matches"
   ]
  },
  {
   "cell_type": "code",
   "execution_count": null,
   "metadata": {
    "vscode": {
     "languageId": "polyglot-notebook"
    }
   },
   "outputs": [],
   "source": [
    "public async Task<ClassificationResult> ClassifyTopMatchesAsync(\n",
    "    AzureOpenAIClient _openAIClient,\n",
    "    string text2Classify,\n",
    "    List<ClassificationNode> classificationNodes,\n",
    "    float threshold = 0.8f)\n",
    "{\n",
    "    var allNodes = FlattenNodes(classificationNodes); // Flatten the tree\n",
    "    var result = new ClassificationResult\n",
    "    {\n",
    "        Attribution = text2Classify\n",
    "    };\n",
    "\n",
    "    float[] embedding = await GetEmbeddingAsync(_openAIClient, text2Classify);\n",
    "    if (embedding == null)\n",
    "    {\n",
    "        Console.WriteLine(\"Failed to generate embedding.\");\n",
    "        return result;\n",
    "    }\n",
    "\n",
    "    var matches = new List<(string Label, float Score)>();\n",
    "\n",
    "    foreach (var (node, path) in allNodes)\n",
    "    {\n",
    "        if (node.Embedded == null) continue;\n",
    "\n",
    "        float sim = VectorMath.CosineSimilarity(embedding, node.Embedded);\n",
    "        if (sim >= threshold)\n",
    "        {\n",
    "            // string label = string.Join(\" > \", path); // e.g., \"Security > IAM\"\n",
    "            string label = path.Count > 1 \n",
    "                    ? string.Join(\" > \", path.Skip(1)) \n",
    "                    : path.First(); // fallback just in case\n",
    "            matches.Add((label, sim));\n",
    "        }\n",
    "    }\n",
    "\n",
    "    // Sort by similarity descending\n",
    "    var sorted = matches.OrderByDescending(m => m.Score);\n",
    "\n",
    "    result.Matches = sorted\n",
    "        .Select(m => new Dictionary<string, float> { [m.Label] = m.Score })\n",
    "        .ToList();\n",
    "\n",
    "    return result;\n",
    "}"
   ]
  },
  {
   "cell_type": "markdown",
   "metadata": {},
   "source": [
    "## Loading the data from the sqlite database\n",
    "\n"
   ]
  },
  {
   "cell_type": "code",
   "execution_count": null,
   "metadata": {
    "vscode": {
     "languageId": "polyglot-notebook"
    }
   },
   "outputs": [],
   "source": [
    "var connection = SQLiteHelper.LoadDatabase(\"../fy25-raw.db\");\n",
    "var tableName = \"OverallPailPoints\";\n",
    "var query2 = $@\"\n",
    "    SELECT * FROM {tableName}\n",
    "    LIMIT 5;\";\n",
    "var results = SQLiteHelper.ExecuteQuery(connection, query2);\n",
    "\n",
    "// Print\n",
    "foreach (var row in results)\n",
    "{\n",
    "    Console.WriteLine(string.Join(\", \", row));\n",
    "}"
   ]
  },
  {
   "cell_type": "markdown",
   "metadata": {},
   "source": [
    "### Step 6 - Classify the open-ended questions and attribution"
   ]
  },
  {
   "cell_type": "code",
   "execution_count": null,
   "metadata": {
    "vscode": {
     "languageId": "polyglot-notebook"
    }
   },
   "outputs": [],
   "source": [
    "foreach (var row in results)\n",
    "{\n",
    "    var attributionFields = row\n",
    "        .Where(kvp => !kvp.Key.Equals(\"Verbatim\", StringComparison.OrdinalIgnoreCase)\n",
    "                      && kvp.Value != null \n",
    "                      && !string.IsNullOrWhiteSpace(kvp.Value.ToString()))\n",
    "        .Select(kvp => kvp.Value.ToString());\n",
    "\n",
    "    string attribution = string.Join(\", \", attributionFields);\n",
    "    string verbatim = row[\"Verbatim\"].ToString();\n",
    "\n",
    "    // var classification = await ClassifyTopMatchesAsync(openAIClient, attribution, classifications, 0.823f);\n",
    "    var classification = await ClassifyTopMatchesAsync(openAIClient, verbatim+attribution, classifications, 0.82f);\n",
    "\n",
    "    Console.WriteLine($\"Attribution: {classification.Attribution}\");\n",
    "    // Format as a flat string manually, since default JSON serializer uses double-quotes\n",
    "    var formatted = \"[\" + string.Join(\", \", classification.Matches.Select(m =>\n",
    "    {\n",
    "        var kvp = m.First(); // only one entry per dict\n",
    "        return $\"{{'{kvp.Key}': {kvp.Value:F2}}}\";\n",
    "    })) + \"]\";\n",
    "\n",
    "    Console.WriteLine(formatted); \n",
    "}"
   ]
  },
  {
   "cell_type": "markdown",
   "metadata": {},
   "source": [
    "### Putting it together\n",
    "\n",
    "- Load the data (classes and embeddings)\n",
    "- Query the database\n",
    "- Classify the open-ended questions & attribution\n",
    "- Store to the origin table"
   ]
  },
  {
   "cell_type": "code",
   "execution_count": null,
   "metadata": {
    "vscode": {
     "languageId": "polyglot-notebook"
    }
   },
   "outputs": [],
   "source": [
    "public async Task ClassifyRowsFromDatabaseAsync(\n",
    "    string dbPath,\n",
    "    string tableName,\n",
    "    int limit,\n",
    "    AzureOpenAIClient _openAIClient,\n",
    "    List<ClassificationNode> classifications,\n",
    "    float threshold = 0.82f,\n",
    "    bool persistClassification = true,\n",
    "    string keyColumn = \"ResponseId\") // default PK column name\n",
    "{\n",
    "    var connection = SQLiteHelper.LoadDatabase(dbPath);\n",
    "\n",
    "    // Ensure Classification column exists\n",
    "    if (persistClassification)\n",
    "    {\n",
    "        var alter = $\"ALTER TABLE {tableName} ADD COLUMN ModelClassificationScores TEXT;\";\n",
    "        try { SQLiteHelper.ExecuteNonQuery(connection, alter); }\n",
    "        catch { /* Ignore if column already exists */ }\n",
    "    }\n",
    "\n",
    "    var query = $@\"SELECT * FROM {tableName} LIMIT {limit};\";\n",
    "    var results = SQLiteHelper.ExecuteQuery(connection, query);\n",
    "\n",
    "    foreach (var row in results)\n",
    "    {\n",
    "        var attributionFields = row\n",
    "            .Where(kvp => !kvp.Key.Equals(\"Verbatim\", StringComparison.OrdinalIgnoreCase)\n",
    "                          && kvp.Value != null \n",
    "                          && !string.IsNullOrWhiteSpace(kvp.Value.ToString()))\n",
    "            .Select(kvp => kvp.Value.ToString());\n",
    "\n",
    "        string attribution = string.Join(\", \", attributionFields);\n",
    "        string verbatim = row.ContainsKey(\"Verbatim\") ? row[\"Verbatim\"]?.ToString() ?? \"\" : \"\";\n",
    "        string combinedText = $\"{verbatim} {attribution}\".Trim();\n",
    "\n",
    "        var classification = await ClassifyTopMatchesAsync(_openAIClient, combinedText, classifications, threshold);\n",
    "\n",
    "        // Console.WriteLine($\"Attribution: {classification.Attribution}\");\n",
    "        // Format using double quotes for SQLite compatibility\n",
    "        var formatted = \"[\" + string.Join(\", \", classification.Matches.Select(m =>\n",
    "        {\n",
    "            var kvp = m.First();\n",
    "            return $\"{{\\\"{kvp.Key}\\\": {kvp.Value:F2}}}\";\n",
    "        })) + \"]\";\n",
    "\n",
    "        // var escaped = formatted.Replace(\"\\\"\", \"\\\"\\\"\"); // SQLite escape\n",
    "\n",
    "        Console.WriteLine(formatted);\n",
    "        Console.WriteLine();\n",
    "\n",
    "        // Optional: persist to database\n",
    "        if (persistClassification && row.ContainsKey(keyColumn))\n",
    "        {\n",
    "            // string classificationLabel = string.Join(\" | \", classification.Matches.Select(m => m.First().Key.Replace(\"'\", \"''\")));\n",
    "\n",
    "            string idValue = row[keyColumn].ToString().Replace(\"'\", \"''\");\n",
    "            var update = $@\"UPDATE {tableName} \n",
    "                            SET ModelClassificationScores = '{formatted}' \n",
    "                            WHERE {keyColumn} = '{idValue}';\";\n",
    "\n",
    "            SQLiteHelper.ExecuteNonQuery(connection, update);\n",
    "        }\n",
    "    }\n",
    "\n",
    "    connection.Close();\n",
    "}"
   ]
  },
  {
   "cell_type": "code",
   "execution_count": null,
   "metadata": {
    "vscode": {
     "languageId": "polyglot-notebook"
    }
   },
   "outputs": [],
   "source": [
    "await ClassifyRowsFromDatabaseAsync(\n",
    "    \"../fy25-raw.db\",\n",
    "    \"OverallPailPoints\",\n",
    "    5,\n",
    "    openAIClient,\n",
    "    classifications,\n",
    "    0.82f,\n",
    "    true,\n",
    "    \"ResponseId\");"
   ]
  }
 ],
 "metadata": {
  "kernelspec": {
   "display_name": ".NET (C#)",
   "language": "C#",
   "name": ".net-csharp"
  },
  "language_info": {
   "name": "python"
  },
  "polyglot_notebook": {
   "kernelInfo": {
    "defaultKernelName": "csharp",
    "items": [
     {
      "aliases": [],
      "name": "csharp"
     }
    ]
   }
  }
 },
 "nbformat": 4,
 "nbformat_minor": 2
}
