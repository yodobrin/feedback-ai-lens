{
 "cells": [
  {
   "cell_type": "code",
   "execution_count": null,
   "metadata": {
    "dotnet_interactive": {
     "language": "csharp"
    },
    "polyglot_notebook": {
     "kernelName": "csharp"
    }
   },
   "outputs": [],
   "source": [
    "csv_fname = \"\""
   ]
  },
  {
   "cell_type": "code",
   "execution_count": 2,
   "metadata": {
    "dotnet_interactive": {
     "language": "csharp"
    },
    "polyglot_notebook": {
     "kernelName": "csharp"
    }
   },
   "outputs": [],
   "source": [
    "import os\n",
    "wdir = os.path.abspath('../../../../')"
   ]
  },
  {
   "cell_type": "code",
   "execution_count": 3,
   "metadata": {},
   "outputs": [],
   "source": [
    "import json\n",
    "from dotenv import dotenv_values\n",
    "import pandas as pd"
   ]
  },
  {
   "cell_type": "code",
   "execution_count": 4,
   "metadata": {},
   "outputs": [],
   "source": [
    "# Storage Helpers\n",
    "class CustomEncoder(json.JSONEncoder):\n",
    "    def default(self, obj):\n",
    "        if hasattr(obj, 'to_dict'):\n",
    "            return obj.to_dict()\n",
    "        if hasattr(obj, 'as_dict'):\n",
    "            return obj.as_dict()\n",
    "        if hasattr(obj, 'model_dump'):\n",
    "            return obj.model_dump()\n",
    "        return super().default(obj)\n",
    "\n",
    "\n",
    "def create_directory(dir: str, clear_if_not_empty: bool = False) -> str:\n",
    "    os.makedirs(dir, exist_ok=True)\n",
    "\n",
    "    if clear_if_not_empty:\n",
    "        for file in os.listdir(dir):\n",
    "            file_path = os.path.join(dir, file)\n",
    "            if os.path.isfile(file_path):\n",
    "                os.remove(file_path)\n",
    "\n",
    "    return dir\n",
    "\n",
    "\n",
    "def create_json_file(fpath: str, data: any, indent: int = 4) -> None:\n",
    "    if not os.path.exists(os.path.dirname(fpath)):\n",
    "        create_directory(os.path.dirname(fpath))\n",
    "\n",
    "    with open(fpath, 'w') as f:\n",
    "        json.dump(data, f, indent=indent, cls=CustomEncoder)"
   ]
  },
  {
   "cell_type": "code",
   "execution_count": 5,
   "metadata": {},
   "outputs": [],
   "source": [
    "env_vars = dotenv_values(f\"{wdir}/configuration/.env\")\n",
    "notebooks_path = os.path.join(wdir, \"src/console/notebooks/cic/\")\n",
    "\n",
    "csv_fpath = os.path.join(notebooks_path, \"input\", csv_fname)\n",
    "output_dir = os.path.join(notebooks_path, \"output\", os.path.splitext(os.path.basename(csv_fname))[0])\n",
    "\n",
    "# credential = DefaultAzureCredential(\n",
    "#     exclude_workload_identity_credential=True,\n",
    "#     exclude_developer_cli_credential=True,\n",
    "#     exclude_environment_credential=True,\n",
    "#     exclude_managed_identity_credential=True,\n",
    "#     exclude_powershell_credential=True,\n",
    "#     exclude_shared_token_cache_credential=True,\n",
    "#     exclude_interactive_browser_credential=True\n",
    "# )\n",
    "\n",
    "# openai_token_provider = get_bearer_token_provider(credential, 'https://cognitiveservices.azure.com/.default')\n",
    "\n",
    "# openai_client = AzureOpenAI(\n",
    "#     azure_endpoint=env_vars[\"AOAI_ENDPOINT\"],\n",
    "#     azure_ad_token_provider=openai_token_provider,\n",
    "#     api_version=\"2024-12-01-preview\"\n",
    "# )"
   ]
  },
  {
   "cell_type": "code",
   "execution_count": 6,
   "metadata": {},
   "outputs": [],
   "source": [
    "data = []\n",
    "\n",
    "try:\n",
    "    chunk_iterator = pd.read_csv(csv_fpath, chunksize=500)\n",
    "    \n",
    "    for i, df in enumerate(chunk_iterator):\n",
    "        for j, row in df.iterrows():\n",
    "            attribution = [\n",
    "                row[\"BrandAssigned\"],\n",
    "                row[\"SAM11\"],\n",
    "                row[\"TAXALN\"],\n",
    "                \"Other\" if row[\"Q005\"].startswith(\"Other\") else row[\"Q005\"],\n",
    "                row[\"Q005_996_TEXT\"] if row[\"Q005\"].startswith(\"Other\") else \"\",\n",
    "                row[\"Q009_\"],\n",
    "                row[\"Cloud_Usage\"],\n",
    "                row[\"Q082\"],\n",
    "                row[\"Q048b\"],\n",
    "                \"\" if row[\"Q089a_2\"] == \"#NULL!\" else \"ISV\",\n",
    "                \"\" if (row[\"Q102a\"] == \"No\" or row[\"Q102a\"] == \"#NULL!\") else \"Startup\"\n",
    "            ]\n",
    "                        \n",
    "            data.append({\n",
    "                \"response_id\": row[\"ResponseId\"],\n",
    "                \"attribution\": \", \".join(attribution),\n",
    "                \"verbatim\": row[\"Q024b\"]\n",
    "            })\n",
    "except Exception as e:\n",
    "    print(f\"Error: {e}\")\n",
    "    \n",
    "create_json_file(os.path.join(output_dir, \"data.json\"), data)"
   ]
  }
 ],
 "metadata": {
  "kernelspec": {
   "display_name": "Python 3",
   "language": "python",
   "name": "python3"
  },
  "language_info": {
   "codemirror_mode": {
    "name": "ipython",
    "version": 3
   },
   "file_extension": ".py",
   "mimetype": "text/x-python",
   "name": "python",
   "nbconvert_exporter": "python",
   "pygments_lexer": "ipython3",
   "version": "3.12.9"
  },
  "polyglot_notebook": {
   "kernelInfo": {
    "defaultKernelName": "csharp",
    "items": [
     {
      "aliases": [],
      "name": "csharp"
     }
    ]
   }
  }
 },
 "nbformat": 4,
 "nbformat_minor": 2
}
