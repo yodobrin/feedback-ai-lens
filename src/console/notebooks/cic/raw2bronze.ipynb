{
 "cells": [
  {
   "cell_type": "markdown",
   "metadata": {},
   "source": [
    "# CiC Research : Raw survey data into bronze\n",
    "\n",
    "This notebook, ingest the survey raw data (Excel format). It creates a local `sqlite` database to store the data.\n",
    "\n",
    "## Activities in this notebook\n",
    "\n",
    "- convert excel to json or **sqlite**.\n",
    "- helper method for sqlite (query, non-query)\n",
    "- Use LLM to extract specific elements from the survey data -> these values are required for the 'overall pain point' analysis.\n",
    "- Write to a new table with the extracted values from the raw data together with the LLM extraction data\n",
    "- Provide query to check the updated table\n"
   ]
  },
  {
   "cell_type": "markdown",
   "metadata": {},
   "source": [
    "## Excel / CSV 2 JSON / SQLite\n",
    "\n",
    "The content provided by `Ipsos` team is an excel file. \n",
    "We explored the excel2json and excel2sqlite. We decided to use sqlite as it has better performance and ability to query the data in a well known query language. "
   ]
  },
  {
   "cell_type": "code",
   "execution_count": null,
   "metadata": {
    "dotnet_interactive": {
     "language": "csharp"
    },
    "polyglot_notebook": {
     "kernelName": "csharp"
    },
    "vscode": {
     "languageId": "polyglot-notebook"
    }
   },
   "outputs": [],
   "source": [
    "#r \"nuget: ClosedXML, 0.104.2\"\n",
    "#r \"nuget: Microsoft.Data.Sqlite, 6.0.0\"\n",
    "\n",
    "using System;\n",
    "using System.IO;\n",
    "using System.Linq;\n",
    "using System.Collections.Generic;\n",
    "using ClosedXML.Excel;\n",
    "using System.Text.Json;\n",
    "\n",
    "using Microsoft.Data.Sqlite;"
   ]
  },
  {
   "cell_type": "markdown",
   "metadata": {},
   "source": [
    "### 📄 Excel Conversion Utilities\n",
    "\n",
    "This notebook includes two utility methods for converting Excel files into more accessible formats for further analysis:\n",
    "\n",
    "---\n",
    "\n",
    "#### ✅ `ConvertExcelToJsonStream(string excelFilePath, string outputJsonPath)`\n",
    "This method reads the first worksheet of an Excel file and writes its contents to a JSON file as an array of objects.  \n",
    "- The first row is assumed to be the header and used as JSON property names.  \n",
    "- Each subsequent row becomes a JSON object, with cell values converted to strings.  \n",
    "- Data is written to the output stream efficiently with periodic flushing to manage memory.\n",
    "\n",
    "**Use case:** Preparing Excel data for JSON-based pipelines, APIs, or lightweight visualization tools.\n",
    "\n",
    "---\n",
    "\n",
    "#### ✅ `ConvertExcelToSQLite(string excelFilePath, string sqliteDbPath)`\n",
    "This method reads an Excel file and stores its contents into a SQLite database table named `SurveyResponses`.  \n",
    "- The first row defines the column names (all stored as `TEXT`).  \n",
    "- Empty values and `#NULL!` strings are normalized to `\"N/A!\"`.  \n",
    "- Insertions are wrapped in a transaction for better performance.\n",
    "\n",
    "**Use case:** Loading structured Excel data into a local SQLite DB for querying, filtering, or joining with other data sources."
   ]
  },
  {
   "cell_type": "code",
   "execution_count": null,
   "metadata": {
    "dotnet_interactive": {
     "language": "csharp"
    },
    "polyglot_notebook": {
     "kernelName": "csharp"
    },
    "vscode": {
     "languageId": "polyglot-notebook"
    }
   },
   "outputs": [],
   "source": [
    "public bool ConvertExcelToJsonStream(string excelFilePath, string outputJsonPath)\n",
    "{\n",
    "    try\n",
    "    {\n",
    "        using var workbook = new XLWorkbook(excelFilePath);\n",
    "        var worksheet = workbook.Worksheet(1);\n",
    "\n",
    "        // Read the header row dynamically\n",
    "        var headerRow = worksheet.FirstRowUsed();\n",
    "        var headers = headerRow.CellsUsed().Select(c => c.GetString()).ToList();\n",
    "\n",
    "        // Open the output file stream\n",
    "        using var fs = new FileStream(outputJsonPath, FileMode.Create, FileAccess.Write, FileShare.None);\n",
    "        var jsonWriterOptions = new JsonWriterOptions { Indented = true };\n",
    "        using var writer = new Utf8JsonWriter(fs, jsonWriterOptions);\n",
    "\n",
    "        writer.WriteStartArray();\n",
    "        int rowCount = 0;\n",
    "\n",
    "        // Process each row after the header\n",
    "        foreach (var row in worksheet.RowsUsed().Skip(1))\n",
    "        {\n",
    "            writer.WriteStartObject();\n",
    "            int colIndex = 0;\n",
    "            foreach (var cell in row.Cells(1, headers.Count))\n",
    "            {\n",
    "                // Convert each cell's value to string (you could add type checking if needed)\n",
    "                string value = cell.Value.ToString() ?? \"\";\n",
    "                writer.WriteString(headers[colIndex], value);\n",
    "                colIndex++;\n",
    "            }\n",
    "            writer.WriteEndObject();\n",
    "            rowCount++;\n",
    "\n",
    "            // Flush periodically (every 100 rows in this example) to reduce memory pressure\n",
    "            if (rowCount % 100 == 0)\n",
    "            {\n",
    "                writer.Flush();\n",
    "            }\n",
    "        }\n",
    "\n",
    "        writer.WriteEndArray();\n",
    "        writer.Flush();\n",
    "        return true;\n",
    "    }\n",
    "    catch (Exception ex)\n",
    "    {\n",
    "        Console.WriteLine($\"Error during conversion: {ex.Message}\");\n",
    "        return false;\n",
    "    }\n",
    "}"
   ]
  },
  {
   "cell_type": "code",
   "execution_count": null,
   "metadata": {
    "vscode": {
     "languageId": "polyglot-notebook"
    }
   },
   "outputs": [],
   "source": [
    "public bool ConvertExcelToSQLite(string excelFilePath, string sqliteDbPath)\n",
    "{\n",
    "    try\n",
    "    {\n",
    "        // Open the Excel workbook using ClosedXML\n",
    "        using (var workbook = new XLWorkbook(excelFilePath))\n",
    "        {\n",
    "            // Get the first worksheet (adjust if needed)\n",
    "            var worksheet = workbook.Worksheet(1);\n",
    "\n",
    "            // Read the header row dynamically\n",
    "            var headerRow = worksheet.FirstRowUsed();\n",
    "            var headers = headerRow.CellsUsed().Select(c => c.GetString()).ToList();\n",
    "\n",
    "            // Open (or create) the SQLite database file\n",
    "            using (var connection = new SqliteConnection($\"Data Source={sqliteDbPath}\"))\n",
    "            {\n",
    "                connection.Open();\n",
    "\n",
    "                // Create a table with all columns as TEXT.\n",
    "                // Use square brackets around column names to handle spaces or special characters.\n",
    "                var columnsDef = string.Join(\", \", headers.Select(h => $\"[{h}] TEXT\"));\n",
    "                var createTableSql = $\"CREATE TABLE IF NOT EXISTS SurveyResponses ({columnsDef});\";\n",
    "                using (var cmd = new SqliteCommand(createTableSql, connection))\n",
    "                {\n",
    "                    cmd.ExecuteNonQuery();\n",
    "                }\n",
    "\n",
    "                // Build an INSERT statement with parameters for each column.\n",
    "                var columnsList = string.Join(\", \", headers.Select(h => $\"[{h}]\"));\n",
    "                var paramList = string.Join(\", \", headers.Select((h, i) => $\"@p{i}\"));\n",
    "                var insertSql = $\"INSERT INTO SurveyResponses ({columnsList}) VALUES ({paramList});\";\n",
    "\n",
    "                // Wrap the insertion in a transaction for better performance.\n",
    "                using (var transaction = connection.BeginTransaction())\n",
    "                using (var insertCmd = new SqliteCommand(insertSql, connection, transaction))\n",
    "                {\n",
    "                    // Pre-add the parameters to the command.\n",
    "                    for (int i = 0; i < headers.Count; i++)\n",
    "                    {\n",
    "                        insertCmd.Parameters.Add(new SqliteParameter($\"@p{i}\", \"\"));\n",
    "                    }\n",
    "\n",
    "                    // Process each row (skip the header row)\n",
    "                    foreach (var row in worksheet.RowsUsed().Skip(1))\n",
    "                    {\n",
    "                        int colIndex = 0;\n",
    "                        foreach (var cell in row.Cells(1, headers.Count))\n",
    "                        {\n",
    "                            // Read the cell value as a string.\n",
    "                            string value = cell.Value.ToString();\n",
    "\n",
    "                            // Replace empty strings or \"#NULL!\" with \"N/A!\"\n",
    "                            if (string.IsNullOrEmpty(value) || value == \"#NULL!\")\n",
    "                            {\n",
    "                                value = \"N/A!\";\n",
    "                            }\n",
    "                            insertCmd.Parameters[$\"@p{colIndex}\"].Value = value;\n",
    "                            colIndex++;\n",
    "                        }\n",
    "                        insertCmd.ExecuteNonQuery();\n",
    "                    }\n",
    "                    transaction.Commit();\n",
    "                }\n",
    "                connection.Close();\n",
    "            }\n",
    "        }\n",
    "        return true;\n",
    "    }\n",
    "    catch (Exception ex)\n",
    "    {\n",
    "        Console.WriteLine($\"Error during conversion: {ex.Message}\");\n",
    "        return false;\n",
    "    }\n",
    "}"
   ]
  },
  {
   "cell_type": "markdown",
   "metadata": {},
   "source": [
    "### Excel2Json\n",
    "\n",
    "Using the method to convert the excel to a json file. This needs to be executed only once.\n"
   ]
  },
  {
   "cell_type": "code",
   "execution_count": null,
   "metadata": {
    "dotnet_interactive": {
     "language": "csharp"
    },
    "polyglot_notebook": {
     "kernelName": "csharp"
    },
    "vscode": {
     "languageId": "polyglot-notebook"
    }
   },
   "outputs": [],
   "source": [
    "var excelFilePath = \"FY25H1 Raw Data with labels US and UK.xlsx\";\n",
    "var outputJsonPath = \"fy25-raw.json\";\n",
    "\n",
    "if ( ConvertExcelToJsonStream(excelFilePath, outputJsonPath))\n",
    "{\n",
    "    Console.WriteLine($\"Excel file '{excelFilePath}' was successfully converted to JSON and saved to '{outputJsonPath}'\");\n",
    "}\n",
    "else\n",
    "{\n",
    "    Console.WriteLine($\"Failed to convert '{excelFilePath}' to JSON\");\n",
    "}"
   ]
  },
  {
   "cell_type": "markdown",
   "metadata": {},
   "source": [
    "### Excel2Sqlite\n",
    "\n",
    "Using the method to convert the excel to a sqlite file."
   ]
  },
  {
   "cell_type": "code",
   "execution_count": null,
   "metadata": {
    "dotnet_interactive": {
     "language": "csharp"
    },
    "polyglot_notebook": {
     "kernelName": "csharp"
    },
    "vscode": {
     "languageId": "polyglot-notebook"
    }
   },
   "outputs": [],
   "source": [
    "var excelFilePath = \"FY25H1 Raw Data with labels US and UK.xlsx\";\n",
    "var outputJsonPath = \"fy25-raw.db\";\n",
    "\n",
    "if ( ConvertExcelToSQLite(excelFilePath, outputJsonPath))\n",
    "{\n",
    "    Console.WriteLine($\"Excel file '{excelFilePath}' was successfully converted to sqllite and saved to '{outputJsonPath}'\");\n",
    "}\n",
    "else\n",
    "{\n",
    "    Console.WriteLine($\"Failed to convert '{excelFilePath}' to sql lite\");\n",
    "}"
   ]
  },
  {
   "cell_type": "code",
   "execution_count": null,
   "metadata": {
    "vscode": {
     "languageId": "polyglot-notebook"
    }
   },
   "outputs": [],
   "source": [
    "// include a local class named VectorMath - this class is used to calculate the cosine similarity between two vectors\n",
    "\n",
    "\n",
    "#load \"VectorMath.cs\"\n",
    "#load \"ClassificationNode.cs\"\n",
    "#load \"SQLiteHelper.cs\""
   ]
  },
  {
   "cell_type": "code",
   "execution_count": null,
   "metadata": {
    "dotnet_interactive": {
     "language": "csharp"
    },
    "polyglot_notebook": {
     "kernelName": "csharp"
    },
    "vscode": {
     "languageId": "polyglot-notebook"
    }
   },
   "outputs": [],
   "source": [
    "var connection = SQLiteHelper.LoadDatabase(\"fy25-raw.db\");\n",
    "string query = \"SELECT * from SurveyResponses WHERE ResponseId = 'R_105HrhmcqZ4Edep';\";\n",
    "\n",
    "var results = SQLiteHelper.ExecuteQuery(connection, query);\n",
    "// Print the results all the fields\n",
    "\n",
    "foreach (var row in results)\n",
    "{\n",
    "    foreach (var kvp in row)\n",
    "    {\n",
    "        Console.WriteLine($\"{kvp.Key}: {kvp.Value}\");\n",
    "    }\n",
    "    Console.WriteLine();\n",
    "}\n",
    "\n"
   ]
  },
  {
   "cell_type": "markdown",
   "metadata": {},
   "source": [
    "## query the data"
   ]
  },
  {
   "cell_type": "code",
   "execution_count": null,
   "metadata": {
    "dotnet_interactive": {
     "language": "csharp"
    },
    "polyglot_notebook": {
     "kernelName": "csharp"
    },
    "vscode": {
     "languageId": "polyglot-notebook"
    }
   },
   "outputs": [],
   "source": [
    "var dbhelper = SQLiteHelper.LoadDatabase(\"../fy25-raw.db\");\n",
    "var query = @\"select count(*) from SurveyResponses\n",
    "              where Q026a_8 = 'Very satisfied';\";\n",
    "var results = SQLiteHelper.ExecuteQuery(dbhelper, query);\n",
    "foreach (var row in results)\n",
    "{\n",
    "    Console.WriteLine(string.Join(\", \", row.Select(kvp => $\"{kvp.Key}={kvp.Value}\")));\n",
    "}\n",
    "\n",
    "// query = @\"select count(*) from MyView\n",
    "//          where Q026_19 = 'Very satisfied';\";\n",
    "// results = SQLiteHelper.ExecuteQuery(dbhelper, query);\n",
    "// foreach (var row in results)\n",
    "// {\n",
    "//     Console.WriteLine(string.Join(\", \", row.Select(kvp => $\"{kvp.Key}={kvp.Value}\")));\n",
    "// }"
   ]
  },
  {
   "cell_type": "markdown",
   "metadata": {},
   "source": [
    "## create table for the theme"
   ]
  },
  {
   "cell_type": "code",
   "execution_count": null,
   "metadata": {
    "vscode": {
     "languageId": "polyglot-notebook"
    }
   },
   "outputs": [],
   "source": [
    "var connection = SQLiteHelper.LoadDatabase(\"../fy25-raw.db\");\n",
    "\n",
    "// drop a tableName\n",
    "\n",
    "var tableName = \"OverallPailPoints\";\n",
    "SQLiteHelper.DropTableOrView(connection, tableName, \"table\");"
   ]
  },
  {
   "cell_type": "code",
   "execution_count": null,
   "metadata": {
    "vscode": {
     "languageId": "polyglot-notebook"
    }
   },
   "outputs": [],
   "source": [
    "var connection = SQLiteHelper.LoadDatabase(\"../fy25-raw.db\");\n",
    "\n",
    "var tableName = \"OverallPailPoints\";\n",
    "\n",
    "string query1 = $@\"\n",
    "    CREATE TABLE IF NOT EXISTS {tableName} AS\n",
    "    SELECT ResponseId, \n",
    "           BrandAssigned, \n",
    "           SAM11 as Country, \n",
    "           TAXALN, \n",
    "           CASE \n",
    "               WHEN Q005 LIKE 'Other%' THEN 'Other'\n",
    "               ELSE Q005\n",
    "           END AS Q005,\n",
    "           CASE \n",
    "               WHEN Q005 LIKE 'Other%' THEN Q005_996_TEXT\n",
    "               ELSE ''\n",
    "           END AS Q005_996_TEXT,\n",
    "           Q009_,\n",
    "           Cloud_Usage,\n",
    "           Q082,\n",
    "           Q048b,\n",
    "           CASE \n",
    "               WHEN Q089a_2 = '#NULL!' THEN ''\n",
    "               ELSE 'ISV'\n",
    "           END AS Q089a_2,\n",
    "           CASE \n",
    "               WHEN Q102a = 'No' OR Q102a = '#NULL!' THEN ''\n",
    "               ELSE 'Startup'\n",
    "           END AS Q102a,\n",
    "           Q024b as Verbatim\n",
    "\n",
    "           FROM SurveyResponses;\";\n",
    "\n",
    "SQLiteHelper.ExecuteNonQuery(connection, query1);\n",
    "\n",
    "var query2 = $@\"\n",
    "    SELECT * FROM {tableName};\";\n",
    "var results = SQLiteHelper.ExecuteQuery(connection, query2);\n",
    "\n",
    "foreach (var row in results.Take(10))\n",
    "{\n",
    "    Console.WriteLine(string.Join(\", \", row.Select(kvp => $\"{kvp.Key}={kvp.Value}\")));\n",
    "}\n"
   ]
  },
  {
   "cell_type": "markdown",
   "metadata": {},
   "source": [
    "## Open AI - required for classification \n",
    "\n",
    "Using Open AI to analyze verbatim and attribution and create:\n",
    "\n",
    "- Sentiment analysis\n",
    "- Keyword extraction\n",
    "- Model scores\n",
    "- Themes"
   ]
  },
  {
   "cell_type": "code",
   "execution_count": null,
   "metadata": {
    "vscode": {
     "languageId": "polyglot-notebook"
    }
   },
   "outputs": [],
   "source": [
    "#r \"nuget: Azure.AI.OpenAI, 2.1.0\"\n",
    "#r \"nuget: Azure.Identity, 1.8.0\"\n",
    "#r \"nuget: DotNetEnv, 2.5.0\"\n",
    "\n",
    "\n",
    "using Azure.Identity;\n",
    "using Azure;\n",
    "\n",
    "using DotNetEnv;\n",
    "\n",
    "using System.IO;\n",
    "using System.Text.Json;\n",
    "using System.ClientModel;\n",
    "\n",
    "using Azure.AI.OpenAI;\n",
    "using Azure.AI.OpenAI.Chat;\n",
    "\n",
    "using OpenAI.Chat;\n",
    "\n",
    "using OpenAI.Embeddings;"
   ]
  },
  {
   "cell_type": "code",
   "execution_count": null,
   "metadata": {
    "vscode": {
     "languageId": "polyglot-notebook"
    }
   },
   "outputs": [],
   "source": [
    "string _configurationFile = @\"../../../../configuration/.env\";\n",
    "Env.Load(_configurationFile);\n",
    "\n",
    "string oAiEndpoint = Environment.GetEnvironmentVariable(\"AOAI_ENDPOINT\") \n",
    "    ?? \"AOAI_ENDPOINT not found\";\n",
    "string chatCompletionDeploymentName = Environment.GetEnvironmentVariable(\"CHATCOMPLETION_DEPLOYMENTNAME\") \n",
    "    ?? \"CHATCOMPLETION_DEPLOYMENTNAME not found\";\n",
    "string embeddingDeploymentName = Environment.GetEnvironmentVariable(\"EMBEDDING_DEPLOYMENTNAME\") ?? \"EMBEDDING_DEPLOYMENTNAME not found\";\n",
    "var credential = new DefaultAzureCredential();\n",
    "\n",
    "// Now create the client using your identity:\n",
    "AzureOpenAIClient openAIClient = new AzureOpenAIClient(\n",
    "    new Uri(oAiEndpoint),\n",
    "    credential\n",
    ");\n",
    "\n",
    "Console.WriteLine($\"OpenAI Client created with user identity at: {oAiEndpoint}, using deployment: {chatCompletionDeploymentName}\");\n",
    "public static class VectorMath\n",
    "{\n",
    "    // If your embeddings are guaranteed to be length 1536, you can fix that in the code.\n",
    "    // Or you can remove references to VectorDimension and just use vector.Length.\n",
    "\n",
    "    public const int VectorDimension = 1536;\n",
    "\n",
    "    public static float Length(float[] vector)\n",
    "    {\n",
    "        float sum = 0;\n",
    "        for (int i = 0; i < VectorDimension; i++)\n",
    "        {\n",
    "            sum += vector[i] * vector[i];\n",
    "        }\n",
    "        return (float)Math.Sqrt(sum);\n",
    "    }\n",
    "\n",
    "    public static float DotProduct(float[] a, float[] b)\n",
    "    {\n",
    "        float sum = 0;\n",
    "        for (int i = 0; i < VectorDimension; i++)\n",
    "        {\n",
    "            sum += a[i] * b[i];\n",
    "        }\n",
    "        return sum;\n",
    "    }\n",
    "\n",
    "    // Standard Cosine Similarity: dot(a, b) / (|a| * |b|)\n",
    "    public static float CosineSimilarity(float[] a, float[] b)\n",
    "    {\n",
    "        float dot = DotProduct(a, b);\n",
    "        float magA = Length(a);\n",
    "        float magB = Length(b);\n",
    "\n",
    "        // Handle potential divide-by-zero if either vector is all zeros\n",
    "        if (magA < 1e-8f || magB < 1e-8f) return 0f;\n",
    "\n",
    "        return dot / (magA * magB);\n",
    "    }\n",
    "}\n",
    "\n",
    "async Task<float[]> GetEmbeddingAsync(AzureOpenAIClient _openAIClient,string textToBeVecorized)\n",
    "{\n",
    "    // Prepare the embeddings options with the user story\\n\",\n",
    "    EmbeddingClient embeddingClient = _openAIClient.GetEmbeddingClient(embeddingDeploymentName);\n",
    "    ClientResult<OpenAIEmbedding> embeddingResult = await embeddingClient.GenerateEmbeddingAsync(textToBeVecorized);   \n",
    "    float[] response = embeddingResult?.Value?.ToFloats().ToArray() ?? new float[0];\n",
    "    return response;\n",
    "}"
   ]
  },
  {
   "cell_type": "code",
   "execution_count": null,
   "metadata": {
    "vscode": {
     "languageId": "polyglot-notebook"
    }
   },
   "outputs": [],
   "source": [
    "async Task<string> CallOpenAI(AzureOpenAIClient _openAIClient, string prompt, string systemMessage, bool jsonResponse = true)\n",
    "{\n",
    "    // Get the chat client (using your deployment or model name)\n",
    "    ChatClient chatClient = _openAIClient.GetChatClient(chatCompletionDeploymentName);\n",
    "\n",
    "    ChatCompletionOptions chatComletionOptions = new ChatCompletionOptions(){\n",
    "        MaxOutputTokenCount = 450,\n",
    "        Temperature = 0.7f,\n",
    "        TopP = 1.0f,\n",
    "        FrequencyPenalty = 0.7f,\n",
    "        PresencePenalty = 0.7f,\n",
    "\n",
    "    };\n",
    "\n",
    "    chatComletionOptions.ResponseFormat = jsonResponse ? ChatResponseFormat.CreateJsonObjectFormat() : ChatResponseFormat.CreateTextFormat();\n",
    "\n",
    "    // Prepare your messages\n",
    "    ChatMessage[] messages = new ChatMessage[]\n",
    "    {\n",
    "        new SystemChatMessage(systemMessage),\n",
    "        new UserChatMessage(prompt)\n",
    "    };\n",
    "\n",
    "    // Call the chat completions endpoint with parameters directly\n",
    "    ChatCompletion completions = await chatClient.CompleteChatAsync(        \n",
    "    messages: messages, \n",
    "    options: chatComletionOptions);\n",
    "\n",
    "    // Get the text from the first completion choice\n",
    "    // var resp = completions.Content[0];\n",
    "    \n",
    "    string result = completions.Content[0].Text;\n",
    "    return result;\n",
    "}"
   ]
  },
  {
   "cell_type": "markdown",
   "metadata": {},
   "source": [
    "### Prompt - reasoning\n",
    "\n",
    "This is a first attempt on extracting information from the verbatim and attribution. Here we are not providing to the LLM any specific definition of classes, rather allowing the LLM to learn from the data."
   ]
  },
  {
   "cell_type": "code",
   "execution_count": null,
   "metadata": {
    "vscode": {
     "languageId": "polyglot-notebook"
    }
   },
   "outputs": [],
   "source": [
    "string systemMessage = \n",
    "@\"You are an AI assistant that analyze survey verbatim and grounding information called attribution.\n",
    "You are requested to provide several aspects of the survey response, such as the sentiment, keywords and themes and word count.\n",
    "Model classifications score are based on the keywords.\n",
    "You always respond in JSON format:\n",
    "{\n",
    "    'sentiment': 'positive',\n",
    "    'keywords': ['product', 'service'],\n",
    "    'themes': ['customer service', 'product quality'],\n",
    "    'Model Classification Scores': \\\"\"[{'<theme1>': <1.0>}, {'<theme2>': <1.0>}]\\\"\"\n",
    "}\";\n",
    "\n",
    "\n",
    "// Call OpenAI method with sample data - this is how we tested the prompt\n",
    "var resp = await CallOpenAI(openAIClient, \n",
    "    @\"Attribution: Google Cloud, US, DATA PRO, Education, , 1,000 to 4,999, Multi-Cloud, 6 years or more, Standard, ISV, Startup, Verbatim: Prices changing, tools changing, things going obsolete/removed\",\n",
    "    systemMessage, false);\n",
    "\n",
    "// Print the result\n",
    "Console.WriteLine(resp);"
   ]
  },
  {
   "cell_type": "code",
   "execution_count": null,
   "metadata": {
    "vscode": {
     "languageId": "polyglot-notebook"
    }
   },
   "outputs": [],
   "source": [
    "using System;\n",
    "using System.Collections.Generic;\n",
    "using System.Text.Json.Serialization;\n",
    "\n",
    "public class OpenAIResponse\n",
    "{\n",
    "    [JsonPropertyName(\"sentiment\")]\n",
    "    public string Sentiment { get; set; }\n",
    "    \n",
    "    [JsonPropertyName(\"keywords\")]\n",
    "    public List<string> Keywords { get; set; }\n",
    "    \n",
    "    [JsonPropertyName(\"themes\")]\n",
    "    public List<string> Themes { get; set; }\n",
    "      \n",
    "    // Instead of a list with a custom converter, just capture the raw JSON string.\n",
    "    [JsonPropertyName(\"Model Classification Scores\")]\n",
    "    public string ModelClassificationScores { get; set; }\n",
    "}"
   ]
  },
  {
   "cell_type": "markdown",
   "metadata": {},
   "source": [
    "## Word count Utility"
   ]
  },
  {
   "cell_type": "code",
   "execution_count": null,
   "metadata": {
    "vscode": {
     "languageId": "polyglot-notebook"
    }
   },
   "outputs": [],
   "source": [
    "public static class TextUtilities\n",
    "{\n",
    "    /// <summary>\n",
    "    /// Counts words by splitting on whitespace.\n",
    "    /// </summary>\n",
    "    public static int CountWords(string text)\n",
    "    {\n",
    "        if (string.IsNullOrWhiteSpace(text))\n",
    "            return 0;\n",
    "        // Split by any whitespace and remove empty entries.\n",
    "        return text.Split((char[])null, StringSplitOptions.RemoveEmptyEntries).Length;\n",
    "    }\n",
    "}"
   ]
  },
  {
   "cell_type": "code",
   "execution_count": null,
   "metadata": {
    "vscode": {
     "languageId": "polyglot-notebook"
    }
   },
   "outputs": [],
   "source": [
    "public async Task ProcessAndMapOpenAIResponse_TypedAsync(\n",
    "    AzureOpenAIClient _openAIClient, \n",
    "    string systemMessage, \n",
    "    string tableName, \n",
    "    int rowLimit = 10)\n",
    "{\n",
    "    // Load the database.\n",
    "    var connection = SQLiteHelper.LoadDatabase(\"../fy25-raw.db\");\n",
    "    \n",
    "    // Retrieve a subset of rows from the target table.\n",
    "    string selectQuery = $\"SELECT * FROM {tableName} LIMIT {rowLimit};\";\n",
    "    var results = SQLiteHelper.ExecuteQuery(connection, selectQuery);\n",
    "    \n",
    "    // Get the list of existing columns in the table.\n",
    "    List<string> existingColumns = SQLiteHelper.GetTableColumns(connection, tableName);\n",
    "    \n",
    "    foreach (var row in results)\n",
    "    {\n",
    "        // Build attribution string from all non-empty fields except \"Verbatim\".\n",
    "        var attributionFields = row\n",
    "            .Where(kvp => !kvp.Key.Equals(\"Verbatim\", StringComparison.OrdinalIgnoreCase)\n",
    "                          && kvp.Value != null \n",
    "                          && !string.IsNullOrWhiteSpace(kvp.Value.ToString()))\n",
    "            .Select(kvp => kvp.Value.ToString());\n",
    "        string attribution = string.Join(\", \", attributionFields);\n",
    "    \n",
    "        // Construct the prompt.\n",
    "        string userPrompt = $\"Attribution: {attribution}, Verbatim: {row[\"Verbatim\"]}\";\n",
    "    \n",
    "        // Call OpenAI with the prompt.\n",
    "        // CallOpenAI is assumed to be defined elsewhere and returns a JSON string.\n",
    "        string resp = await CallOpenAI(_openAIClient, userPrompt, systemMessage, true);\n",
    "        Console.WriteLine(resp);\n",
    "        // Parse the JSON response into a strongly typed object.\n",
    "        OpenAIResponse openAIResponse = null;\n",
    "        try\n",
    "        {\n",
    "            var options = new JsonSerializerOptions { PropertyNameCaseInsensitive = true };\n",
    "            openAIResponse = JsonSerializer.Deserialize<OpenAIResponse>(resp, options);\n",
    "        }\n",
    "        catch (Exception ex)\n",
    "        {\n",
    "            Console.WriteLine($\"Error parsing JSON response for ResponseId {row[\"ResponseId\"]}: {ex.Message}\");\n",
    "            continue;\n",
    "        }\n",
    "    \n",
    "        // Build a dictionary of the fields you want to update.\n",
    "        // For example, if you want to update sentiment, keywords, themes, word_count, and model classification scores:\n",
    "        var updateValues = new Dictionary<string, object>\n",
    "        {\n",
    "            { \"Sentiment\", openAIResponse.Sentiment },\n",
    "            { \"Keywords\", openAIResponse.Keywords != null ? string.Join(\", \", openAIResponse.Keywords) : \"\" },\n",
    "            { \"Themes\", openAIResponse.Themes != null ? string.Join(\", \", openAIResponse.Themes) : \"\" },\n",
    "            { \"WordCount\", TextUtilities.CountWords(row[\"Verbatim\"].ToString()) },\n",
    "            { \"ModelClassificationScores\", openAIResponse.ModelClassificationScores  }\n",
    "        };\n",
    "    \n",
    "        // Ensure that each key exists as a column in the table.\n",
    "        foreach (var key in updateValues.Keys)\n",
    "        {\n",
    "            if (!existingColumns.Any(c => c.Equals(key, StringComparison.OrdinalIgnoreCase)))\n",
    "            {\n",
    "                string alterQuery = $\"ALTER TABLE {tableName} ADD COLUMN [{key}] TEXT;\";\n",
    "                try\n",
    "                {\n",
    "                    SQLiteHelper.ExecuteNonQuery(connection, alterQuery);\n",
    "                    existingColumns.Add(key);\n",
    "                }\n",
    "                catch (Exception ex)\n",
    "                {\n",
    "                    Console.WriteLine($\"Failed to add column {key}: {ex.Message}\");\n",
    "                }\n",
    "            }\n",
    "        }\n",
    "    \n",
    "        // Update the current row in the database using ResponseId as the unique key.\n",
    "        SQLiteHelper.UpdateTableRow(connection, tableName, \"ResponseId\", row[\"ResponseId\"], updateValues);\n",
    "    \n",
    "        Console.WriteLine($\"Updated ResponseId {row[\"ResponseId\"]} with typed OpenAI response fields.\");\n",
    "    }\n",
    "}"
   ]
  },
  {
   "cell_type": "code",
   "execution_count": null,
   "metadata": {
    "vscode": {
     "languageId": "polyglot-notebook"
    }
   },
   "outputs": [],
   "source": [
    "// await ProcessAndMapOpenAIResponseAsync(openAIClient, systemMessage, \"OverallPailPoints\", 1);\n",
    "\n",
    "await ProcessAndMapOpenAIResponse_TypedAsync(openAIClient, systemMessage, \"OverallPailPoints\", 1);"
   ]
  },
  {
   "cell_type": "code",
   "execution_count": null,
   "metadata": {
    "vscode": {
     "languageId": "polyglot-notebook"
    }
   },
   "outputs": [],
   "source": [
    "// select from the updated table based on the response id, confirming it got into the db\n",
    "\n",
    "var connection = SQLiteHelper.LoadDatabase(\"../fy25-raw.db\");\n",
    "\n",
    "var tableName = \"OverallPailPoints\";\n",
    "\n",
    "string query = $@\"\n",
    "    SELECT * FROM {tableName} \n",
    "    WHERE ResponseId = 'R_105HrhmcqZ4Edep';\";\n",
    "var results = SQLiteHelper.ExecuteQuery(connection, query);\n",
    "\n",
    "foreach (var row in results)\n",
    "{\n",
    "    foreach (var kvp in row)\n",
    "    {\n",
    "        Console.WriteLine($\"{kvp.Key}: {kvp.Value}\");\n",
    "    }\n",
    "    Console.WriteLine();\n",
    "}"
   ]
  },
  {
   "cell_type": "markdown",
   "metadata": {},
   "source": [
    "## consider removal"
   ]
  },
  {
   "cell_type": "code",
   "execution_count": null,
   "metadata": {
    "vscode": {
     "languageId": "polyglot-notebook"
    }
   },
   "outputs": [],
   "source": [
    "using System;\n",
    "using System.Collections.Generic;\n",
    "using System.Net.Http;\n",
    "using System.Text.Json;\n",
    "using System.Threading.Tasks;\n",
    "\n",
    "public async Task<string> GetCountryFromCoordinatesAsync(double latitude, double longitude)\n",
    "{\n",
    "    try\n",
    "    {\n",
    "        using HttpClient client = new HttpClient();\n",
    "        client.DefaultRequestHeaders.UserAgent.ParseAdd(\"MyAppName/1.0 (yoavdo@gmail.com)\");\n",
    "        // This URL is an example using the free OpenStreetMap Nominatim service.\n",
    "        // Check usage policies and consider caching for production.\n",
    "        string url = $\"https://nominatim.openstreetmap.org/reverse?format=jsonv2&lat={latitude}&lon={longitude}\";\n",
    "        HttpResponseMessage response = await client.GetAsync(url);\n",
    "        response.EnsureSuccessStatusCode();\n",
    "        string jsonResponse = await response.Content.ReadAsStringAsync();\n",
    "        using JsonDocument doc = JsonDocument.Parse(jsonResponse);\n",
    "        if (doc.RootElement.TryGetProperty(\"address\", out JsonElement address))\n",
    "        {\n",
    "            // Console.WriteLine(address);\n",
    "            if (address.TryGetProperty(\"country_code\", out JsonElement country_code))\n",
    "            {\n",
    "                return country_code.GetString();\n",
    "            }\n",
    "        }\n",
    "    }\n",
    "    catch (Exception ex)\n",
    "    {\n",
    "        Console.WriteLine($\"Error reverse geocoding: {ex.Message}\");\n",
    "    }\n",
    "    return \"N/A!\";\n",
    "}"
   ]
  },
  {
   "cell_type": "code",
   "execution_count": null,
   "metadata": {
    "vscode": {
     "languageId": "polyglot-notebook"
    }
   },
   "outputs": [],
   "source": [
    "var connection = SQLiteHelper.LoadDatabase(\"../fy25-raw.db\");\n",
    "\n",
    "var tableName  = \"Locations\";\n",
    "\n",
    "string selectQuery = $@\"\n",
    "    SELECT count(*) FROM {tableName} \n",
    "    WHERE Country != '';\";\n",
    "    \n",
    "var results = SQLiteHelper.ExecuteQuery(connection, selectQuery);\n",
    "\n",
    "// print the first 10 rows\n",
    "foreach (var row in results.Take(10))\n",
    "{\n",
    "    Console.WriteLine(string.Join(\", \", row.Select(kvp => $\"{kvp.Key}={kvp.Value}\")));\n",
    "}"
   ]
  },
  {
   "cell_type": "markdown",
   "metadata": {},
   "source": [
    "### GetCountryFromCoordinatesAsync\n",
    "\n",
    "Used to translate the longtitude and latitude to country."
   ]
  },
  {
   "cell_type": "code",
   "execution_count": null,
   "metadata": {
    "vscode": {
     "languageId": "polyglot-notebook"
    }
   },
   "outputs": [],
   "source": [
    "var location = await GetCountryFromCoordinatesAsync(37.7749, -122.4194);\n",
    "Console.WriteLine(location);"
   ]
  },
  {
   "cell_type": "markdown",
   "metadata": {},
   "source": [
    "## Data manipulation & exploration\n",
    "\n",
    "As there are few fields which are calculated, this shows how it can be done. The creation of a new table with the ResponseID is used to allow later join with this data.\n",
    "It also shows how to do that for other calculations. "
   ]
  },
  {
   "cell_type": "code",
   "execution_count": null,
   "metadata": {
    "vscode": {
     "languageId": "polyglot-notebook"
    }
   },
   "outputs": [],
   "source": [
    "// select 10 items from the table above\n",
    "var connection = SQLiteHelper.LoadDatabase(\"../fy25-raw.db\");\n",
    "\n",
    "var tableName  = \"Locations\";\n",
    "\n",
    "string createTableQuery = $@\"\n",
    "    CREATE TABLE IF NOT EXISTS {tableName} AS\n",
    "    SELECT ResponseId, \n",
    "           LocationLatitude, \n",
    "           LocationLongitude, \n",
    "           '' AS Country\n",
    "    FROM SurveyResponses;\n",
    "\";\n",
    "SQLiteHelper.ExecuteNonQuery(connection, createTableQuery);\n",
    "\n",
    "// update only 10 items (the api might throttle us)\n",
    "string selectQuery = $@\"\n",
    "    SELECT * FROM {tableName} \n",
    "    WHERE Country = ''\n",
    "    LIMIT 10;\";\n",
    "var results = SQLiteHelper.ExecuteQuery(connection, selectQuery);\n",
    "\n",
    "foreach (var row in results)\n",
    "{\n",
    "    double latitude = Convert.ToDouble(row[\"LocationLatitude\"]);\n",
    "    double longitude = Convert.ToDouble(row[\"LocationLongitude\"]);\n",
    "    Console.WriteLine($\"Latitude: {latitude}, Longitude: {longitude}\");\n",
    "    string country = await GetCountryFromCoordinatesAsync(latitude, longitude);\n",
    "    \n",
    "    // Update the in-memory dictionary (for display, if needed)\n",
    "    row[\"Country\"] = country.ToUpper();\n",
    "    Console.WriteLine($\"Country: {country.ToUpper()}\");\n",
    "    \n",
    "    // Update the corresponding row in the database using ResponseId as the key.\n",
    "    var updatedValues = new Dictionary<string, object>\n",
    "    {\n",
    "        { \"Country\", country.ToUpper() }\n",
    "    };\n",
    "    SQLiteHelper.UpdateTableRow(connection, tableName, \"ResponseId\", row[\"ResponseId\"], updatedValues);\n",
    "}\n",
    "\n",
    "Console.WriteLine(\"Rows updated successfully.\");"
   ]
  }
 ],
 "metadata": {
  "kernelspec": {
   "display_name": ".NET (C#)",
   "language": "C#",
   "name": ".net-csharp"
  },
  "language_info": {
   "name": "python"
  },
  "polyglot_notebook": {
   "kernelInfo": {
    "defaultKernelName": "csharp",
    "items": [
     {
      "aliases": [],
      "name": "csharp"
     }
    ]
   }
  }
 },
 "nbformat": 4,
 "nbformat_minor": 2
}
