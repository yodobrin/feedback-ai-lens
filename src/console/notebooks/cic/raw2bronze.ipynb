{
 "cells": [
  {
   "cell_type": "markdown",
   "metadata": {},
   "source": [
    "# CiC Research : Raw survey into bronze\n",
    "\n",
    "This notebook, ingest the survey raw data. It creates a local `sqlite` database to store the data.\n",
    "\n",
    "## Research and activities\n",
    "\n",
    "- convert excel to json or sqlite. Done - sqlite has better performance and ability to query the data, it has lower disk footprint.\n",
    "- helper method for sqlite (query, non-query)\n",
    "- tried to understand the column selected for the open-ended excel files.\n",
    "- seem like most of the fields in the 'open-ended' excel files are calculated. for example there is no `country` rather longtitude and latitude - tried to create a method that would translate the longtitude and latitude to country."
   ]
  },
  {
   "cell_type": "markdown",
   "metadata": {},
   "source": [
    "## Excel / CSV 2 JSON / SQLite\n",
    "\n",
    "The content provided by `Ipsos` team is an excel file. \n",
    "We explored the excel2json and excel2sqlite. We decided to use sqlite as it has better performance and ability to query the data in a well known query language. "
   ]
  },
  {
   "cell_type": "code",
   "execution_count": null,
   "metadata": {
    "dotnet_interactive": {
     "language": "csharp"
    },
    "polyglot_notebook": {
     "kernelName": "csharp"
    },
    "vscode": {
     "languageId": "polyglot-notebook"
    }
   },
   "outputs": [],
   "source": [
    "#r \"nuget: ClosedXML, 0.104.2\"\n",
    "#r \"nuget: Microsoft.Data.Sqlite, 6.0.0\"\n",
    "\n",
    "using System;\n",
    "using System.IO;\n",
    "using System.Linq;\n",
    "using System.Collections.Generic;\n",
    "using ClosedXML.Excel;\n",
    "using System.Text.Json;\n",
    "\n",
    "using Microsoft.Data.Sqlite;"
   ]
  },
  {
   "cell_type": "markdown",
   "metadata": {},
   "source": [
    "### 📄 Excel Conversion Utilities\n",
    "\n",
    "This notebook includes two utility methods for converting Excel files into more accessible formats for further analysis:\n",
    "\n",
    "---\n",
    "\n",
    "#### ✅ `ConvertExcelToJsonStream(string excelFilePath, string outputJsonPath)`\n",
    "This method reads the first worksheet of an Excel file and writes its contents to a JSON file as an array of objects.  \n",
    "- The first row is assumed to be the header and used as JSON property names.  \n",
    "- Each subsequent row becomes a JSON object, with cell values converted to strings.  \n",
    "- Data is written to the output stream efficiently with periodic flushing to manage memory.\n",
    "\n",
    "**Use case:** Preparing Excel data for JSON-based pipelines, APIs, or lightweight visualization tools.\n",
    "\n",
    "---\n",
    "\n",
    "#### ✅ `ConvertExcelToSQLite(string excelFilePath, string sqliteDbPath)`\n",
    "This method reads an Excel file and stores its contents into a SQLite database table named `SurveyResponses`.  \n",
    "- The first row defines the column names (all stored as `TEXT`).  \n",
    "- Empty values and `#NULL!` strings are normalized to `\"N/A!\"`.  \n",
    "- Insertions are wrapped in a transaction for better performance.\n",
    "\n",
    "**Use case:** Loading structured Excel data into a local SQLite DB for querying, filtering, or joining with other data sources."
   ]
  },
  {
   "cell_type": "code",
   "execution_count": null,
   "metadata": {
    "dotnet_interactive": {
     "language": "csharp"
    },
    "polyglot_notebook": {
     "kernelName": "csharp"
    },
    "vscode": {
     "languageId": "polyglot-notebook"
    }
   },
   "outputs": [],
   "source": [
    "public bool ConvertExcelToJsonStream(string excelFilePath, string outputJsonPath)\n",
    "{\n",
    "    try\n",
    "    {\n",
    "        using var workbook = new XLWorkbook(excelFilePath);\n",
    "        var worksheet = workbook.Worksheet(1);\n",
    "\n",
    "        // Read the header row dynamically\n",
    "        var headerRow = worksheet.FirstRowUsed();\n",
    "        var headers = headerRow.CellsUsed().Select(c => c.GetString()).ToList();\n",
    "\n",
    "        // Open the output file stream\n",
    "        using var fs = new FileStream(outputJsonPath, FileMode.Create, FileAccess.Write, FileShare.None);\n",
    "        var jsonWriterOptions = new JsonWriterOptions { Indented = true };\n",
    "        using var writer = new Utf8JsonWriter(fs, jsonWriterOptions);\n",
    "\n",
    "        writer.WriteStartArray();\n",
    "        int rowCount = 0;\n",
    "\n",
    "        // Process each row after the header\n",
    "        foreach (var row in worksheet.RowsUsed().Skip(1))\n",
    "        {\n",
    "            writer.WriteStartObject();\n",
    "            int colIndex = 0;\n",
    "            foreach (var cell in row.Cells(1, headers.Count))\n",
    "            {\n",
    "                // Convert each cell's value to string (you could add type checking if needed)\n",
    "                string value = cell.Value.ToString() ?? \"\";\n",
    "                writer.WriteString(headers[colIndex], value);\n",
    "                colIndex++;\n",
    "            }\n",
    "            writer.WriteEndObject();\n",
    "            rowCount++;\n",
    "\n",
    "            // Flush periodically (every 100 rows in this example) to reduce memory pressure\n",
    "            if (rowCount % 100 == 0)\n",
    "            {\n",
    "                writer.Flush();\n",
    "            }\n",
    "        }\n",
    "\n",
    "        writer.WriteEndArray();\n",
    "        writer.Flush();\n",
    "        return true;\n",
    "    }\n",
    "    catch (Exception ex)\n",
    "    {\n",
    "        Console.WriteLine($\"Error during conversion: {ex.Message}\");\n",
    "        return false;\n",
    "    }\n",
    "}"
   ]
  },
  {
   "cell_type": "code",
   "execution_count": null,
   "metadata": {
    "vscode": {
     "languageId": "polyglot-notebook"
    }
   },
   "outputs": [],
   "source": [
    "public bool ConvertExcelToSQLite(string excelFilePath, string sqliteDbPath)\n",
    "{\n",
    "    try\n",
    "    {\n",
    "        // Open the Excel workbook using ClosedXML\n",
    "        using (var workbook = new XLWorkbook(excelFilePath))\n",
    "        {\n",
    "            // Get the first worksheet (adjust if needed)\n",
    "            var worksheet = workbook.Worksheet(1);\n",
    "\n",
    "            // Read the header row dynamically\n",
    "            var headerRow = worksheet.FirstRowUsed();\n",
    "            var headers = headerRow.CellsUsed().Select(c => c.GetString()).ToList();\n",
    "\n",
    "            // Open (or create) the SQLite database file\n",
    "            using (var connection = new SqliteConnection($\"Data Source={sqliteDbPath}\"))\n",
    "            {\n",
    "                connection.Open();\n",
    "\n",
    "                // Create a table with all columns as TEXT.\n",
    "                // Use square brackets around column names to handle spaces or special characters.\n",
    "                var columnsDef = string.Join(\", \", headers.Select(h => $\"[{h}] TEXT\"));\n",
    "                var createTableSql = $\"CREATE TABLE IF NOT EXISTS SurveyResponses ({columnsDef});\";\n",
    "                using (var cmd = new SqliteCommand(createTableSql, connection))\n",
    "                {\n",
    "                    cmd.ExecuteNonQuery();\n",
    "                }\n",
    "\n",
    "                // Build an INSERT statement with parameters for each column.\n",
    "                var columnsList = string.Join(\", \", headers.Select(h => $\"[{h}]\"));\n",
    "                var paramList = string.Join(\", \", headers.Select((h, i) => $\"@p{i}\"));\n",
    "                var insertSql = $\"INSERT INTO SurveyResponses ({columnsList}) VALUES ({paramList});\";\n",
    "\n",
    "                // Wrap the insertion in a transaction for better performance.\n",
    "                using (var transaction = connection.BeginTransaction())\n",
    "                using (var insertCmd = new SqliteCommand(insertSql, connection, transaction))\n",
    "                {\n",
    "                    // Pre-add the parameters to the command.\n",
    "                    for (int i = 0; i < headers.Count; i++)\n",
    "                    {\n",
    "                        insertCmd.Parameters.Add(new SqliteParameter($\"@p{i}\", \"\"));\n",
    "                    }\n",
    "\n",
    "                    // Process each row (skip the header row)\n",
    "                    foreach (var row in worksheet.RowsUsed().Skip(1))\n",
    "                    {\n",
    "                        int colIndex = 0;\n",
    "                        foreach (var cell in row.Cells(1, headers.Count))\n",
    "                        {\n",
    "                            // Read the cell value as a string.\n",
    "                            string value = cell.Value.ToString();\n",
    "\n",
    "                            // Replace empty strings or \"#NULL!\" with \"N/A!\"\n",
    "                            if (string.IsNullOrEmpty(value) || value == \"#NULL!\")\n",
    "                            {\n",
    "                                value = \"N/A!\";\n",
    "                            }\n",
    "                            insertCmd.Parameters[$\"@p{colIndex}\"].Value = value;\n",
    "                            colIndex++;\n",
    "                        }\n",
    "                        insertCmd.ExecuteNonQuery();\n",
    "                    }\n",
    "                    transaction.Commit();\n",
    "                }\n",
    "                connection.Close();\n",
    "            }\n",
    "        }\n",
    "        return true;\n",
    "    }\n",
    "    catch (Exception ex)\n",
    "    {\n",
    "        Console.WriteLine($\"Error during conversion: {ex.Message}\");\n",
    "        return false;\n",
    "    }\n",
    "}"
   ]
  },
  {
   "cell_type": "markdown",
   "metadata": {},
   "source": [
    "### Excel2Json\n",
    "\n",
    "Using the method to convert the excel to a json file. This needs to be executed only once.\n"
   ]
  },
  {
   "cell_type": "code",
   "execution_count": null,
   "metadata": {
    "dotnet_interactive": {
     "language": "csharp"
    },
    "polyglot_notebook": {
     "kernelName": "csharp"
    },
    "vscode": {
     "languageId": "polyglot-notebook"
    }
   },
   "outputs": [],
   "source": [
    "var excelFilePath = \"FY25H1 Raw Data with labels US and UK.xlsx\";\n",
    "var outputJsonPath = \"fy25-raw.json\";\n",
    "\n",
    "if ( ConvertExcelToJsonStream(excelFilePath, outputJsonPath))\n",
    "{\n",
    "    Console.WriteLine($\"Excel file '{excelFilePath}' was successfully converted to JSON and saved to '{outputJsonPath}'\");\n",
    "}\n",
    "else\n",
    "{\n",
    "    Console.WriteLine($\"Failed to convert '{excelFilePath}' to JSON\");\n",
    "}"
   ]
  },
  {
   "cell_type": "markdown",
   "metadata": {},
   "source": [
    "### Excel2Sqlite\n",
    "\n",
    "Using the method to convert the excel to a sqlite file."
   ]
  },
  {
   "cell_type": "code",
   "execution_count": null,
   "metadata": {
    "dotnet_interactive": {
     "language": "csharp"
    },
    "polyglot_notebook": {
     "kernelName": "csharp"
    },
    "vscode": {
     "languageId": "polyglot-notebook"
    }
   },
   "outputs": [],
   "source": [
    "var excelFilePath = \"FY25H1 Raw Data with labels US and UK.xlsx\";\n",
    "var outputJsonPath = \"fy25-raw.db\";\n",
    "\n",
    "if ( ConvertExcelToSQLite(excelFilePath, outputJsonPath))\n",
    "{\n",
    "    Console.WriteLine($\"Excel file '{excelFilePath}' was successfully converted to sqllite and saved to '{outputJsonPath}'\");\n",
    "}\n",
    "else\n",
    "{\n",
    "    Console.WriteLine($\"Failed to convert '{excelFilePath}' to sql lite\");\n",
    "}"
   ]
  },
  {
   "cell_type": "markdown",
   "metadata": {},
   "source": [
    "## SQLiteHelper Overview\n",
    "\n",
    "- **LoadDatabase**: Opens a connection to the specified SQLite file (or in-memory DB).\n",
    "- **ExecuteNonQuery**: Runs SQL statements that don't return rows (e.g., CREATE, INSERT, UPDATE, DELETE).\n",
    "- **ExecuteQuery**: Runs a SQL query and returns each row as a dictionary of column-value pairs.\n",
    "- **CreateTableOrView**: Creates a new table or view using a given SQL script.\n",
    "- **DropTableOrView**: Drops an existing table or view if it exists.\n",
    "- **UpdateTableRow**: Updates a single row in a table by matching a key column and setting new column values."
   ]
  },
  {
   "cell_type": "code",
   "execution_count": null,
   "metadata": {
    "dotnet_interactive": {
     "language": "csharp"
    },
    "polyglot_notebook": {
     "kernelName": "csharp"
    },
    "vscode": {
     "languageId": "polyglot-notebook"
    }
   },
   "outputs": [],
   "source": [
    "// using System;\n",
    "// using System.Collections.Generic;\n",
    "// using Microsoft.Data.Sqlite;\n",
    "\n",
    "/// <summary>\n",
    "/// Helper class for working with SQLite databases.\n",
    "/// </summary>\n",
    "public static class SQLiteHelper\n",
    "{\n",
    "    /// <summary>\n",
    "    /// Loads a SQLite database from a file and returns an open connection.\n",
    "    /// </summary>\n",
    "    /// <param name=\"sqliteDbPath\">Path to the SQLite database file.</param>\n",
    "    /// <returns>An open <see cref=\"SqliteConnection\"/>.</returns>\n",
    "    public static SqliteConnection LoadDatabase(string sqliteDbPath)\n",
    "    {\n",
    "        var connection = new SqliteConnection($\"Data Source={sqliteDbPath}\");\n",
    "        connection.Open();\n",
    "        return connection;\n",
    "    }\n",
    "\n",
    "    /// <summary>\n",
    "    /// Executes a non-query SQL statement (e.g., INSERT, UPDATE, DELETE, or DDL) against the database.\n",
    "    /// </summary>\n",
    "    /// <param name=\"connection\">An open <see cref=\"SqliteConnection\"/>.</param>\n",
    "    /// <param name=\"sql\">The SQL statement to execute.</param>\n",
    "    public static void ExecuteNonQuery(SqliteConnection connection, string sql)\n",
    "    {\n",
    "        using var command = connection.CreateCommand();\n",
    "        command.CommandText = sql;\n",
    "        command.ExecuteNonQuery();\n",
    "    }\n",
    "\n",
    "    /// <summary>\n",
    "    /// Executes a SQL query that returns rows and returns the results as a list of dictionaries.\n",
    "    /// Each dictionary represents a row with column names as keys.\n",
    "    /// </summary>\n",
    "    /// <param name=\"connection\">An open <see cref=\"SqliteConnection\"/>.</param>\n",
    "    /// <param name=\"sql\">The SQL query to execute.</param>\n",
    "    /// <returns>A list of dictionaries representing the query result rows.</returns>\n",
    "    public static List<Dictionary<string, object>> ExecuteQuery(SqliteConnection connection, string sql)\n",
    "    {\n",
    "        var results = new List<Dictionary<string, object>>();\n",
    "        using var command = connection.CreateCommand();\n",
    "        command.CommandText = sql;\n",
    "        using var reader = command.ExecuteReader();\n",
    "        while (reader.Read())\n",
    "        {\n",
    "            var row = new Dictionary<string, object>();\n",
    "            for (int i = 0; i < reader.FieldCount; i++)\n",
    "            {\n",
    "                // If the field is DBNull, assign null.\n",
    "                row[reader.GetName(i)] = reader.IsDBNull(i) ? null : reader.GetValue(i);\n",
    "            }\n",
    "            results.Add(row);\n",
    "        }\n",
    "        return results;\n",
    "    }\n",
    "\n",
    "    /// <summary>\n",
    "    /// Executes a SQL statement that creates a new table or view.\n",
    "    /// </summary>\n",
    "    /// <param name=\"connection\">An open SQLite connection.</param>\n",
    "    /// <param name=\"createQuery\">The CREATE TABLE or CREATE VIEW SQL statement.</param>\n",
    "    public static void CreateTableOrView(SqliteConnection connection, string createQuery)\n",
    "    {\n",
    "        using var command = connection.CreateCommand();\n",
    "        command.CommandText = createQuery;\n",
    "        command.ExecuteNonQuery();\n",
    "    }\n",
    "\n",
    "    public static void DropTableOrView(SqliteConnection connection, string objectName, string objectType = \"table\")\n",
    "    {\n",
    "        string sql;\n",
    "        if (objectType.Equals(\"table\", StringComparison.OrdinalIgnoreCase))\n",
    "        {\n",
    "            sql = $\"DROP TABLE IF EXISTS [{objectName}];\";\n",
    "        }\n",
    "        else if (objectType.Equals(\"view\", StringComparison.OrdinalIgnoreCase))\n",
    "        {\n",
    "            sql = $\"DROP VIEW IF EXISTS [{objectName}];\";\n",
    "        }\n",
    "        else\n",
    "        {\n",
    "            throw new ArgumentException(\"objectType must be either 'table' or 'view'\");\n",
    "        }\n",
    "        \n",
    "        using var command = connection.CreateCommand();\n",
    "        command.CommandText = sql;\n",
    "        command.ExecuteNonQuery();\n",
    "    }\n",
    "\n",
    "    public static void UpdateTableRow(\n",
    "    SqliteConnection connection, \n",
    "    string tableName, \n",
    "    string keyColumn, \n",
    "    object keyValue, \n",
    "    Dictionary<string, object> updatedValues)\n",
    "    {\n",
    "        // Build the SET clause from the dictionary.\n",
    "        var setClauses = updatedValues.Select((kv, i) => $\"[{kv.Key}] = @p{i}\").ToList();\n",
    "        string setClause = string.Join(\", \", setClauses);\n",
    "        string sql = $\"UPDATE [{tableName}] SET {setClause} WHERE [{keyColumn}] = @keyValue;\";\n",
    "        \n",
    "        using var command = connection.CreateCommand();\n",
    "        command.CommandText = sql;\n",
    "        \n",
    "        // Add parameters for updated columns.\n",
    "        int index = 0;\n",
    "        foreach (var kv in updatedValues)\n",
    "        {\n",
    "            command.Parameters.AddWithValue($\"@p{index}\", kv.Value);\n",
    "            index++;\n",
    "        }\n",
    "        // Add the key value parameter.\n",
    "        command.Parameters.AddWithValue(\"@keyValue\", keyValue);\n",
    "        \n",
    "        command.ExecuteNonQuery();\n",
    "    }\n",
    "}"
   ]
  },
  {
   "cell_type": "markdown",
   "metadata": {},
   "source": [
    "### GetCountryFromCoordinatesAsync\n",
    "\n",
    "Used to translate the longtitude and latitude to country."
   ]
  },
  {
   "cell_type": "code",
   "execution_count": null,
   "metadata": {
    "dotnet_interactive": {
     "language": "csharp"
    },
    "polyglot_notebook": {
     "kernelName": "csharp"
    },
    "vscode": {
     "languageId": "polyglot-notebook"
    }
   },
   "outputs": [],
   "source": [
    "using System;\n",
    "using System.Collections.Generic;\n",
    "using System.Net.Http;\n",
    "using System.Text.Json;\n",
    "using System.Threading.Tasks;\n",
    "\n",
    "public async Task<string> GetCountryFromCoordinatesAsync(double latitude, double longitude)\n",
    "{\n",
    "    try\n",
    "    {\n",
    "        using HttpClient client = new HttpClient();\n",
    "        client.DefaultRequestHeaders.UserAgent.ParseAdd(\"MyAppName/1.0 (yoavdo@gmail.com)\");\n",
    "        // This URL is an example using the free OpenStreetMap Nominatim service.\n",
    "        // Check usage policies and consider caching for production.\n",
    "        string url = $\"https://nominatim.openstreetmap.org/reverse?format=jsonv2&lat={latitude}&lon={longitude}\";\n",
    "        HttpResponseMessage response = await client.GetAsync(url);\n",
    "        response.EnsureSuccessStatusCode();\n",
    "        string jsonResponse = await response.Content.ReadAsStringAsync();\n",
    "        using JsonDocument doc = JsonDocument.Parse(jsonResponse);\n",
    "        if (doc.RootElement.TryGetProperty(\"address\", out JsonElement address))\n",
    "        {\n",
    "            // Console.WriteLine(address);\n",
    "            if (address.TryGetProperty(\"country_code\", out JsonElement country_code))\n",
    "            {\n",
    "                return country_code.GetString();\n",
    "            }\n",
    "        }\n",
    "    }\n",
    "    catch (Exception ex)\n",
    "    {\n",
    "        Console.WriteLine($\"Error reverse geocoding: {ex.Message}\");\n",
    "    }\n",
    "    return \"N/A!\";\n",
    "}"
   ]
  },
  {
   "cell_type": "code",
   "execution_count": null,
   "metadata": {
    "dotnet_interactive": {
     "language": "csharp"
    },
    "polyglot_notebook": {
     "kernelName": "csharp"
    },
    "vscode": {
     "languageId": "polyglot-notebook"
    }
   },
   "outputs": [],
   "source": [
    "var location = await GetCountryFromCoordinatesAsync(37.7749, -122.4194);\n",
    "Console.WriteLine(location);"
   ]
  },
  {
   "cell_type": "code",
   "execution_count": null,
   "metadata": {
    "dotnet_interactive": {
     "language": "csharp"
    },
    "polyglot_notebook": {
     "kernelName": "csharp"
    },
    "vscode": {
     "languageId": "polyglot-notebook"
    }
   },
   "outputs": [],
   "source": [
    "var connection = SQLiteHelper.LoadDatabase(\"fy25-raw.db\");\n",
    "string query = \"SELECT * from SurveyResponses WHERE ResponseId = 'R_105HrhmcqZ4Edep';\";\n",
    "// string selectQuery = \"SELECT * FROM where Country = 'United States';\";\n",
    "var results = SQLiteHelper.ExecuteQuery(connection, query);\n",
    "// Print the results all the fields\n",
    "\n",
    "foreach (var row in results)\n",
    "{\n",
    "    foreach (var kvp in row)\n",
    "    {\n",
    "        Console.WriteLine($\"{kvp.Key}: {kvp.Value}\");\n",
    "    }\n",
    "    Console.WriteLine();\n",
    "}\n",
    "\n"
   ]
  },
  {
   "cell_type": "markdown",
   "metadata": {},
   "source": [
    "## query the data"
   ]
  },
  {
   "cell_type": "code",
   "execution_count": null,
   "metadata": {
    "dotnet_interactive": {
     "language": "csharp"
    },
    "polyglot_notebook": {
     "kernelName": "csharp"
    },
    "vscode": {
     "languageId": "polyglot-notebook"
    }
   },
   "outputs": [],
   "source": [
    "var dbhelper = SQLiteHelper.LoadDatabase(\"fy25-raw.db\");\n",
    "var query = @\"select count(*) from SurveyResponses\n",
    "              where Q026a_8 = 'Very satisfied';\";\n",
    "var results = SQLiteHelper.ExecuteQuery(dbhelper, query);\n",
    "foreach (var row in results)\n",
    "{\n",
    "    Console.WriteLine(string.Join(\", \", row.Select(kvp => $\"{kvp.Key}={kvp.Value}\")));\n",
    "}\n",
    "\n",
    "query = @\"select count(*) from MyView\n",
    "         where Q026_19 = 'Very satisfied';\";\n",
    "results = SQLiteHelper.ExecuteQuery(dbhelper, query);\n",
    "foreach (var row in results)\n",
    "{\n",
    "    Console.WriteLine(string.Join(\", \", row.Select(kvp => $\"{kvp.Key}={kvp.Value}\")));\n",
    "}"
   ]
  },
  {
   "cell_type": "markdown",
   "metadata": {},
   "source": [
    "## Data manipulation & exploration\n",
    "\n",
    "As there are few fields which are calculated, this shows how it can be done. The creation of a new table with the ResponseID is used to allow later join with this data.\n",
    "It also shows how to do that for other calculations. "
   ]
  },
  {
   "cell_type": "code",
   "execution_count": null,
   "metadata": {
    "vscode": {
     "languageId": "polyglot-notebook"
    }
   },
   "outputs": [],
   "source": [
    "// select 10 items from the table above\n",
    "var connection = SQLiteHelper.LoadDatabase(\"../fy25-raw.db\");\n",
    "\n",
    "var tableName  = \"Locations\";\n",
    "\n",
    "string createTableQuery = $@\"\n",
    "    CREATE TABLE IF NOT EXISTS {tableName} AS\n",
    "    SELECT ResponseId, \n",
    "           LocationLatitude, \n",
    "           LocationLongitude, \n",
    "           '' AS Country\n",
    "    FROM SurveyResponses;\n",
    "\";\n",
    "SQLiteHelper.ExecuteNonQuery(connection, createTableQuery);\n",
    "\n",
    "// update only 10 items (the api might throttle us)\n",
    "string selectQuery = $@\"\n",
    "    SELECT * FROM {tableName} \n",
    "    WHERE Country = ''\n",
    "    LIMIT 10;\";\n",
    "var results = SQLiteHelper.ExecuteQuery(connection, selectQuery);\n",
    "\n",
    "foreach (var row in results)\n",
    "{\n",
    "    double latitude = Convert.ToDouble(row[\"LocationLatitude\"]);\n",
    "    double longitude = Convert.ToDouble(row[\"LocationLongitude\"]);\n",
    "    Console.WriteLine($\"Latitude: {latitude}, Longitude: {longitude}\");\n",
    "    string country = await GetCountryFromCoordinatesAsync(latitude, longitude);\n",
    "    \n",
    "    // Update the in-memory dictionary (for display, if needed)\n",
    "    row[\"Country\"] = country.ToUpper();\n",
    "    Console.WriteLine($\"Country: {country.ToUpper()}\");\n",
    "    \n",
    "    // Update the corresponding row in the database using ResponseId as the key.\n",
    "    var updatedValues = new Dictionary<string, object>\n",
    "    {\n",
    "        { \"Country\", country.ToUpper() }\n",
    "    };\n",
    "    SQLiteHelper.UpdateTableRow(connection, tableName, \"ResponseId\", row[\"ResponseId\"], updatedValues);\n",
    "}\n",
    "\n",
    "Console.WriteLine(\"Rows updated successfully.\");"
   ]
  },
  {
   "cell_type": "code",
   "execution_count": null,
   "metadata": {
    "vscode": {
     "languageId": "polyglot-notebook"
    }
   },
   "outputs": [],
   "source": [
    "var connection = SQLiteHelper.LoadDatabase(\"../fy25-raw.db\");\n",
    "\n",
    "var tableName  = \"Locations\";\n",
    "\n",
    "string selectQuery = $@\"\n",
    "    SELECT count(*) FROM {tableName} \n",
    "    WHERE Country != '';\";\n",
    "    \n",
    "var results = SQLiteHelper.ExecuteQuery(connection, selectQuery);\n",
    "\n",
    "// print the first 10 rows\n",
    "foreach (var row in results.Take(10))\n",
    "{\n",
    "    Console.WriteLine(string.Join(\", \", row.Select(kvp => $\"{kvp.Key}={kvp.Value}\")));\n",
    "}"
   ]
  },
  {
   "cell_type": "markdown",
   "metadata": {},
   "source": [
    "## Mapping raw data to deep-dive data\n",
    "\n",
    "This is an initial take on the mapping between the raw fields and the deep dive area. o1 was used here to try and match, while this can be done without discussing the deep dive area with the person designing it, to make progress, we will pick and choose specific columns to show the ability of enriching the data.\n",
    "\n",
    "This would be part of the silver notebook.\n",
    "\n",
    "\n",
    "\n",
    "| **Target Field**                                        | **Likely Source Field(s)**                                                | **Operation or Mapping Logic**                                                                                                                      |\n",
    "|:--------------------------------------------------------|:--------------------------------------------------------------------------|:----------------------------------------------------------------------------------------------------------------------------------------------------|\n",
    "| **Country**                                             | `LocationLatitude`, `LocationLongitude`                                   | **Reverse Geocoding**<br/>Use latitude & longitude to determine the respondent’s country.                                                           |\n",
    "| **ResponseId**                                          | `ResponseId`                                                             | **Direct Copy**<br/>Map source `ResponseId` to target.                                                                                              |\n",
    "| **CSAT_Azure**                                          | Possibly in `Q011_1` (or similar)                                         | **Parsing Satisfaction for Azure**<br/>Identify which source column has Azure satisfaction (“Very satisfied,” etc.) and map directly.               |\n",
    "| **CSAT_AWS**                                            | Possibly in `Q011_2` (or similar)                                         | **Parsing Satisfaction for AWS**<br/>Identify which source column has AWS satisfaction (“Very satisfied,” etc.) and map directly.                   |\n",
    "| **CSAT_GCP**                                            | Possibly in `Q011_3` (or similar)                                         | **Parsing Satisfaction for GCP**<br/>Identify which source column has GCP satisfaction (“Very satisfied,” etc.) and map directly.                   |\n",
    "| **USE PARTNER**                                         | Look for fields/text referencing partner usage (e.g., “Uses a Partner”).  | **Boolean / Text Check**<br/>If question indicates “Uses a Partner” vs. “Does not use a Partner,” map accordingly.                                   |\n",
    "| **Partner_Brand**                                       | Same partner usage question(s)                                            | **Conditional**<br/>If “Uses a Partner,” parse which brand is used (e.g., “Partner - AWS,” “Partner - Azure,” etc.).                                |\n",
    "| **NPS_Azure** (0–10 rating)                             | Possibly columns with “10 - Extremely likely…” or numeric scale for Azure | **Numeric/Verbatim Copy**<br/>Find the Azure recommend-likelihood question/column (often a 0–10 scale).                                              |\n",
    "| **NPS_AWS**                                             | Same logic for AWS                                                        | **Numeric/Verbatim Copy**                                                                                                                           |\n",
    "| **NPS_GCP**                                             | Same logic for GCP                                                        | **Numeric/Verbatim Copy**                                                                                                                           |\n",
    "| **Operating System**                                    | Possibly columns for Windows vs. Linux usage                              | **Categorical Mapping**<br/>Map from OS usage responses (e.g., “Windows only,” “Linux only,” “Mixed”).                                              |\n",
    "| **Servers_New_Azure (>60% usage)**                     | Detailed usage columns (e.g., Azure usage %)                               | **Percent / Usage Calculation**<br/>Check if usage percentage for Azure > 60% and categorize.                                                        |\n",
    "| **Servers_New_Azure (>80% usage)**                     | Same as above, but check for >80% usage                                    | **Percent / Usage Calculation**<br/>If usage > 80%, map as “Azure - Linux Heavy Users(>80%)” (or similarly “Windows Heavy,” etc.).                  |\n",
    "| **Servers_New_AWS (>60% usage)**                       | Detailed usage columns (AWS)                                              | **Percent / Usage Calculation**                                                                                                                     |\n",
    "| **Servers_New_AWS (>80% usage)**                       | Detailed usage columns (AWS)                                              | **Percent / Usage Calculation**                                                                                                                     |\n",
    "| **Servers_New_GCP (>60% usage)**                       | Detailed usage columns (GCP)                                              | **Percent / Usage Calculation**                                                                                                                     |\n",
    "| **Servers_New_GCP (>80% usage)**                       | Detailed usage columns (GCP)                                              | **Percent / Usage Calculation**                                                                                                                     |\n",
    "| **Tenure with Cloud Option 3**                         | Possibly columns that say “Less than 3 months,” “1–2 years,” etc.         | **Categorical Copy**<br/>Map the overall cloud usage tenure to the target’s text format (“6+ years,” “2–3 years,” etc.).                           |\n",
    "| **Tenure with Azure Option 3**                         | Brand-specific tenure columns for Azure                                   | **Categorical Copy**<br/>Map brand-specific usage tenure text.                                                                                      |\n",
    "| **Tenure with AWS Option 3**                           | Brand-specific tenure columns for AWS                                     | **Categorical Copy**                                                                                                                               |\n",
    "| **Tenure with GCP Option 3**                           | Brand-specific tenure columns for GCP                                     | **Categorical Copy**                                                                                                                               |\n",
    "| **Cloud Usage**                                        | Columns indicating multi or single cloud usage                            | **Logic Based on Selection**<br/>If more than one cloud is “Currently use,” it’s “Multicloud”; otherwise “Single Cloud.”                            |\n",
    "| **Multi-cloud Users**                                  | Same as above                                                             | **Boolean Check**<br/>If using multiple clouds, “Multi-cloud” = True.                                                                              |\n",
    "| **Segment**                                            | Possibly a question about SMB vs. ENT vs. Mid-market                      | **Categorical Copy**<br/>Map directly from the segment question.                                                                                    |\n",
    "| **Org Size (R+I split)**                               | A question or column referencing total employees                          | **Bucket by Employee Count**<br/>Map numeric size ranges (e.g., 1–24, 25–249, 1000+) to labels.                                                     |\n",
    "| **Industry**                                           | Possibly in `Q005` or “Which industry best fits?”                         | **Categorical Copy**<br/>Map to “IT & Other,” “Education,” etc.                                                                                    |\n",
    "| **Role**                                               | Columns about job role (e.g., “Developer,” “IT Pro,” etc.)               | **Categorical Copy**<br/>Based on job-role question.                                                                                               |\n",
    "| **Cloud Native (Q101b, Q101a)**                        | Possibly 1–2 columns about “Cloud Native approach”                        | **Derived**<br/>If certain conditions met (e.g., both Q101a and Q101b = “Yes”), mark “Cloud Native.”                                               |\n",
    "| **Startup (Q102a)**                                    | A question: “Is your company a startup?”                                  | **Boolean**                                                                                                                                        |\n",
    "| **Q089a_2 (ISV)**                                      | Question about ISV status                                                | **Boolean**                                                                                                                                        |\n",
    "| **Q048b (Customer Support plan)**                      | Columns referencing “Business Support,” “Standard Support,” etc.         | **Categorical Copy**                                                                                                                               |\n",
    "| **BrandAssigned**                                      | Might be logic about the respondent’s assigned brand                     | **Conditional**<br/>Based on screening/branching logic (e.g., “AWS,” “Azure,” or “Google Cloud”).                                                  |"
   ]
  }
 ],
 "metadata": {
  "kernelspec": {
   "display_name": ".NET (C#)",
   "language": "C#",
   "name": ".net-csharp"
  },
  "language_info": {
   "name": "python"
  },
  "polyglot_notebook": {
   "kernelInfo": {
    "defaultKernelName": "csharp",
    "items": [
     {
      "aliases": [],
      "name": "csharp"
     }
    ]
   }
  }
 },
 "nbformat": 4,
 "nbformat_minor": 2
}
