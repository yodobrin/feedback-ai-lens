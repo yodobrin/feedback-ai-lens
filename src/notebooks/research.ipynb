{
 "cells": [
  {
   "cell_type": "markdown",
   "metadata": {},
   "source": [
    "# Objective:\n",
    "Enable Azure product groups (PGs) to explore customer feedback and gain insights that will help them understand and prioritize customer needs more effectively using natural language processing and AI tools.\n",
    "\n",
    "## Problem Use Cases:\n",
    "- **As a PG PM**, I can collect and present customer feedback on a specific issue to justify investment in addressing it within our product roadmap.\n",
    "- **As a PG PM**, I need a list of customers who reported a specific challenge to justify the investment in addressing it within our product roadmap.\n",
    "- **As a PG PM**, I need a list of customers who reported a specific challenge within my product, so I can gather early feedback on my proposed solution.\n",
    "\n",
    "## Things to research\n",
    "\n",
    "1. Getting sample feedback from ADX\n",
    "2. Writing prompts to create user story from the feedback content\n",
    "3. use embedding on user stories, use vector search to see if it can help in the search of similar feedback\n",
    "\n",
    "## Getting Sample data from ADX\n",
    "\n",
    "**As the feedback data might contain customer information, it should not be publicly shared. This notebook does not cover the process of getting access to the relevant ADX cluster.**\n",
    "\n",
    "These would be the services we would be starting with:\n",
    "\n",
    "- {\"ServiceName\": App Service (Web Apps), \"FeedbackCount\": 1228 }\n",
    "- {\"ServiceName\": Azure VMware Solution, \"FeedbackCount\": 1092}\n",
    "- {\"ServiceName\": Azure Kubernetes Service, \"FeedbackCount\": 746}\n",
    "\n",
    "The following `kql` query was used to find services with higher count of feedbacks:\n",
    "\n",
    "```kql\n",
    "Feedback\n",
    "| summarize arg_max(PartnerReceivedDate, *) by Id // Get the most recent entry per Id\n",
    "| extend ServiceName = tostring(ServiceTree.Name) // Extract the 'Name' from ServiceTree\n",
    "| summarize FeedbackCount = count() by ServiceName // Count the feedback per service\n",
    "| sort by FeedbackCount desc // Sort by feedback count in descending order\n",
    "```\n",
    "\n",
    "For the PoC, we dont need too much data, the following query would be used to sample feedbacks of these services:\n",
    "\n",
    "```kql\n",
    "Feedback\n",
    "| where ServiceTree.Name in ('App Service (Web Apps)', 'Azure VMware Solution', 'Azure Kubernetes Service') \n",
    "| summarize arg_max(PartnerReceivedDate, *) by Id\n",
    "| sample 20 // Take 20 random items\n",
    "| extend CleanDescription = replace_regex(Description, @\"<[^>]*>\", '') // Remove HTML tags from Description\n",
    "| extend CleanWorkaroundDescription = replace_regex(WorkaroundDescription, @\"<[^>]*>\", '') // Remove HTML tags from WorkaroundDescription\n",
    "| project Id, PartnerShortName, ServiceTree.Name, Type, Title, Blocking, CleanDescription, WorkaroundAvailable, Priority, Customer.Name,Customer.Tpid, CleanWorkaroundDescription\n",
    "```\n",
    "\n",
    "These were selected for the PoC. The exported items are available in `./sample-data/export.csv`"
   ]
  },
  {
   "cell_type": "markdown",
   "metadata": {},
   "source": [
    "### loading required packages"
   ]
  },
  {
   "cell_type": "code",
   "execution_count": null,
   "metadata": {
    "dotnet_interactive": {
     "language": "csharp"
    },
    "polyglot_notebook": {
     "kernelName": "csharp"
    },
    "vscode": {
     "languageId": "polyglot-notebook"
    }
   },
   "outputs": [],
   "source": [
    "#r \"nuget: Azure.AI.OpenAI, 1.0.0-beta.12\"\n",
    "#r \"nuget: DotNetEnv, 2.5.0\"\n",
    "\n",
    "using Azure; \n",
    "using Azure.AI.OpenAI;\n",
    "using DotNetEnv;\n",
    "using System.IO;\n",
    "using System.Text.Json; "
   ]
  },
  {
   "cell_type": "markdown",
   "metadata": {},
   "source": [
    "## Getting an OpenAI Client"
   ]
  },
  {
   "cell_type": "code",
   "execution_count": null,
   "metadata": {
    "dotnet_interactive": {
     "language": "csharp"
    },
    "polyglot_notebook": {
     "kernelName": "csharp"
    },
    "vscode": {
     "languageId": "polyglot-notebook"
    }
   },
   "outputs": [],
   "source": [
    "\n",
    "static string _configurationFile = @\"../../configuration/.env\";\n",
    "Env.Load(_configurationFile);\n",
    "\n",
    "string oAiApiKey = Environment.GetEnvironmentVariable(\"AOAI_APIKEY\") ?? \"AOAI_APIKEY not found\";\n",
    "string oAiEndpoint = Environment.GetEnvironmentVariable(\"AOAI_ENDPOINT\") ?? \"AOAI_ENDPOINT not found\";\n",
    "string chatCompletionDeploymentName = Environment.GetEnvironmentVariable(\"CHATCOMPLETION_DEPLOYMENTNAME\") ?? \"CHATCOMPLETION_DEPLOYMENTNAME not found\";\n",
    "string embeddingDeploymentName = Environment.GetEnvironmentVariable(\"EMBEDDING_DEPLOYMENTNAME\") ?? \"EMBEDDING_DEPLOYMENTNAME not found\";\n",
    "\n",
    "AzureKeyCredential azureKeyCredential = new AzureKeyCredential(oAiApiKey);\n",
    "OpenAIClient openAIClient = new OpenAIClient(new Uri(oAiEndpoint), azureKeyCredential);\n",
    "\n",
    "Console.WriteLine($\"OpenAI Client created: {oAiEndpoint} with: {chatCompletionDeploymentName} and {embeddingDeploymentName} deployments\");"
   ]
  },
  {
   "cell_type": "markdown",
   "metadata": {},
   "source": [
    "### Calling chat completion API"
   ]
  },
  {
   "cell_type": "code",
   "execution_count": null,
   "metadata": {
    "vscode": {
     "languageId": "polyglot-notebook"
    }
   },
   "outputs": [],
   "source": [
    "async Task<string> CallOpenAI(string prompt, string systemMessage)\n",
    "{\n",
    "    // Create ChatCompletionsOptions and set up the system and user messages\n",
    "    ChatCompletionsOptions options = new ChatCompletionsOptions();\n",
    "    \n",
    "    // Add system message\n",
    "    options.Messages.Add(new ChatRequestSystemMessage(systemMessage));\n",
    "    \n",
    "    // Add user message (the prompt generated from feedback)\n",
    "    options.Messages.Add(new ChatRequestUserMessage(prompt));\n",
    "\n",
    "    // Configure request properties\n",
    "    options.MaxTokens = 500;\n",
    "    options.Temperature = 0.7f;\n",
    "    options.NucleusSamplingFactor = 0.95f;\n",
    "    options.FrequencyPenalty = 0.0f;\n",
    "    options.PresencePenalty = 0.0f;\n",
    "    options.StopSequences.Add(\"\\n\"); \n",
    "    options.DeploymentName = chatCompletionDeploymentName;\n",
    "    options.ResponseFormat = ChatCompletionsResponseFormat.Text;\n",
    "\n",
    "    // Make the API request to get the chat completions\n",
    "    Response<ChatCompletions> response = await openAIClient.GetChatCompletionsAsync(options);\n",
    "\n",
    "    // Extract and return the first response from the choices\n",
    "    ChatCompletions completions = response.Value;\n",
    "    if (completions.Choices.Count > 0)\n",
    "    {\n",
    "        return completions.Choices[0].Message.Content;\n",
    "    }\n",
    "    else\n",
    "    {\n",
    "        return \"No response generated.\";\n",
    "    }\n",
    "}"
   ]
  },
  {
   "cell_type": "markdown",
   "metadata": {},
   "source": [
    "### Calling the embeddings API"
   ]
  },
  {
   "cell_type": "code",
   "execution_count": null,
   "metadata": {
    "vscode": {
     "languageId": "polyglot-notebook"
    }
   },
   "outputs": [],
   "source": [
    "async Task<float[]> GetEmbeddingAsync(string textToBeVecorized)\n",
    "{\n",
    "    // Prepare the embeddings options with the user story\n",
    "    EmbeddingsOptions embeddingsOptions = new EmbeddingsOptions(embeddingDeploymentName, new List<string> { textToBeVecorized });\n",
    "    var modelResponse = await openAIClient.GetEmbeddingsAsync( embeddingsOptions);\n",
    "    float[] response = modelResponse.Value.Data[0].Embedding.ToArray();\n",
    "    return response;\n",
    "}"
   ]
  },
  {
   "cell_type": "code",
   "execution_count": null,
   "metadata": {
    "vscode": {
     "languageId": "polyglot-notebook"
    }
   },
   "outputs": [],
   "source": [
    "#r \"nuget: CsvHelper\""
   ]
  },
  {
   "cell_type": "code",
   "execution_count": 43,
   "metadata": {
    "vscode": {
     "languageId": "polyglot-notebook"
    }
   },
   "outputs": [],
   "source": [
    "// loading the csv feedback record class\n",
    "# load \"../models/CSVFeedbackRecord.cs\"\n"
   ]
  },
  {
   "cell_type": "code",
   "execution_count": null,
   "metadata": {
    "vscode": {
     "languageId": "polyglot-notebook"
    }
   },
   "outputs": [],
   "source": [
    "// Define the system message separately\n",
    "// var systemMessage = \"You are an AI assistant. You generate clear user stories from the provided feedback data.\";\n",
    "// var systemMessage = \"You are an AI assistant. You generate clear user stories from the provided feedback data in the format: 'As a persona, I want to do something, so that I can achieve something.'\";\n",
    "var systemMessage = \"You are an AI assistant. You generate clear generic user stories in text only, the following format: 'As a [persona], I want to [do something], so that I can [achieve something].' The output should always follow this format without additional styling or formatting. do not include specific customers/partner names as part of the output.\";"
   ]
  },
  {
   "cell_type": "code",
   "execution_count": 44,
   "metadata": {
    "vscode": {
     "languageId": "polyglot-notebook"
    }
   },
   "outputs": [],
   "source": [
    "// loop over a csv file, create a json file with user story and embedding\n",
    "\n",
    "async Task<bool> GenerateUserStories(string csvFilePath, string jsonFilePath)\n",
    "{\n",
    "    using var reader = new StreamReader(csvFilePath);\n",
    "    using var csv = new CsvHelper.CsvReader(reader, System.Globalization.CultureInfo.InvariantCulture);\n",
    "    var records = csv.GetRecords<CSVFeedbackRecord>().ToList();\n",
    "    \n",
    "    foreach (var record in records)\n",
    "    {\n",
    "        // Generate the user story from the feedback record\n",
    "        record.UserStory = await CallOpenAI(record.ToPrompt(), systemMessage);\n",
    "        \n",
    "        // Generate the embedding for the user story\n",
    "        record.Embedding = await GetEmbeddingAsync(record.UserStory);\n",
    "        Console.WriteLine($\"User story & embedding generated for record with ID: {record.Id}\");\n",
    "    }\n",
    "    \n",
    "    // Serialize the records to a JSON file\n",
    "    var json = JsonSerializer.Serialize(records, new JsonSerializerOptions { WriteIndented = true });\n",
    "    await File.WriteAllTextAsync(jsonFilePath, json);\n",
    "    return true;\n",
    "}"
   ]
  },
  {
   "cell_type": "code",
   "execution_count": null,
   "metadata": {
    "vscode": {
     "languageId": "polyglot-notebook"
    }
   },
   "outputs": [],
   "source": [
    "using System.Globalization;\n",
    "using CsvHelper;\n",
    "using System.IO;\n",
    "using System.Collections.Generic;\n",
    "\n",
    "// Path to your CSV file (update the path as needed)\n",
    "var assetPath = \"../../sample-data/\";\n",
    "var filePath = $\"{assetPath}export.csv\";\n",
    "// Create a list to store the records\n",
    "var res = await GenerateUserStories(filePath, $\"{assetPath}/exportedstories.json\");\n",
    "\n",
    "Console.WriteLine($\"JSON file created at: {outputJsonFile}\");"
   ]
  }
 ],
 "metadata": {
  "kernelspec": {
   "display_name": ".NET (C#)",
   "language": "C#",
   "name": ".net-csharp"
  },
  "language_info": {
   "name": "python"
  },
  "polyglot_notebook": {
   "kernelInfo": {
    "defaultKernelName": "csharp",
    "items": [
     {
      "aliases": [],
      "name": "csharp"
     }
    ]
   }
  }
 },
 "nbformat": 4,
 "nbformat_minor": 2
}
