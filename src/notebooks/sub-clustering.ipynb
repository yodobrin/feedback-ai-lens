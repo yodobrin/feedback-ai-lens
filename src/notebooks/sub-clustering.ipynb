{
 "cells": [
  {
   "cell_type": "code",
   "execution_count": 2,
   "metadata": {
    "vscode": {
     "languageId": "polyglot-notebook"
    }
   },
   "outputs": [
    {
     "data": {
      "text/html": [
       "<div><div></div><div></div><div><strong>Installed Packages</strong><ul><li><span>Azure.AI.OpenAI, 1.0.0-beta.12</span></li><li><span>DotNetEnv, 2.5.0</span></li><li><span>Microsoft.ML, 4.0.0</span></li><li><span>System.Text.Json, 9.0.0</span></li></ul></div></div>"
      ]
     },
     "metadata": {},
     "output_type": "display_data"
    }
   ],
   "source": [
    "#r \"nuget: System.Text.Json\"\n",
    "#r \"nuget: Microsoft.ML\"\n",
    "#r \"nuget: Azure.AI.OpenAI, 1.0.0-beta.12\"\n",
    "#r \"nuget: DotNetEnv, 2.5.0\""
   ]
  },
  {
   "cell_type": "code",
   "execution_count": 3,
   "metadata": {
    "vscode": {
     "languageId": "polyglot-notebook"
    }
   },
   "outputs": [],
   "source": [
    "using Microsoft.ML;\n",
    "using Microsoft.ML.Data;\n",
    "using System.Text.Json;\n",
    "using System.IO;\n",
    "using System.Text.Json.Serialization;\n",
    "using System.Linq;\n",
    "using Azure; \n",
    "using Azure.AI.OpenAI;\n",
    "using DotNetEnv;"
   ]
  },
  {
   "cell_type": "code",
   "execution_count": 4,
   "metadata": {
    "vscode": {
     "languageId": "polyglot-notebook"
    }
   },
   "outputs": [],
   "source": [
    "// loading the csv feedback record class\n",
    "# load \"./FeedbackRecord.cs\"\n",
    "# load \"./ServiceCluster.cs\""
   ]
  },
  {
   "cell_type": "code",
   "execution_count": null,
   "metadata": {
    "vscode": {
     "languageId": "polyglot-notebook"
    }
   },
   "outputs": [],
   "source": [
    "public static double CalculateCosineSimilarity(float[] vectorA, float[] vectorB)\n",
    "{\n",
    "    double dotProduct = 0;\n",
    "    double magnitudeA = 0;\n",
    "    double magnitudeB = 0;\n",
    "\n",
    "    for (int i = 0; i < vectorA.Length; i++)\n",
    "    {\n",
    "        dotProduct += vectorA[i] * vectorB[i];\n",
    "        magnitudeA += Math.Pow(vectorA[i], 2);\n",
    "        magnitudeB += Math.Pow(vectorB[i], 2);\n",
    "    }\n",
    "\n",
    "    magnitudeA = Math.Sqrt(magnitudeA);\n",
    "    magnitudeB = Math.Sqrt(magnitudeB);\n",
    "\n",
    "    return dotProduct / (magnitudeA * magnitudeB);\n",
    "}"
   ]
  },
  {
   "cell_type": "code",
   "execution_count": null,
   "metadata": {
    "dotnet_interactive": {
     "language": "csharp"
    },
    "polyglot_notebook": {
     "kernelName": "csharp"
    },
    "vscode": {
     "languageId": "polyglot-notebook"
    }
   },
   "outputs": [],
   "source": [
    "public List<List<FeedbackRecord>> CreateSubClustersWithKMeans(List<FeedbackRecord> feedbackRecords, int subClusterCount)\n",
    "{\n",
    "    var mlContext = new MLContext();\n",
    "    var embeddingData = feedbackRecords.Select(f => new EmbeddingData { Embedding = f.Embedding }).ToList();\n",
    "    var dataView = mlContext.Data.LoadFromEnumerable(embeddingData);\n",
    "\n",
    "    // Use K-Means to create sub-clusters\n",
    "    var pipeline = mlContext.Clustering.Trainers.KMeans(featureColumnName: \"Embedding\", numberOfClusters: subClusterCount);\n",
    "    var model = pipeline.Fit(dataView);\n",
    "\n",
    "    var predictions = model.Transform(dataView);\n",
    "    var clusters = mlContext.Data.CreateEnumerable<ClusterPrediction>(predictions, reuseRowObject: false).ToList();\n",
    "\n",
    "    // Assign feedback records to their sub-clusters\n",
    "    return feedbackRecords\n",
    "        .Zip(clusters, (feedback, cluster) => (Feedback: feedback, ClusterId: cluster.PredictedCluster))\n",
    "        .GroupBy(fc => fc.ClusterId)\n",
    "        .Select(g => g.Select(fc => fc.Feedback).ToList())\n",
    "        .ToList();\n",
    "}"
   ]
  },
  {
   "cell_type": "code",
   "execution_count": null,
   "metadata": {
    "vscode": {
     "languageId": "polyglot-notebook"
    }
   },
   "outputs": [],
   "source": [
    "public List<List<FeedbackRecord>> CreateSubClustersWithHAC(List<FeedbackRecord> feedbackRecords, double similarityThreshold)\n",
    "{\n",
    "    // Initially, each feedback record is its own cluster\n",
    "    var clusters = feedbackRecords.Select(r => new List<FeedbackRecord> { r }).ToList();\n",
    "\n",
    "    while (true)\n",
    "    {\n",
    "        double maxSimilarity = double.MinValue;\n",
    "        int mergeIndex1 = -1;\n",
    "        int mergeIndex2 = -1;\n",
    "\n",
    "        // Find the most similar pair of clusters\n",
    "        for (int i = 0; i < clusters.Count; i++)\n",
    "        {\n",
    "            for (int j = i + 1; j < clusters.Count; j++)\n",
    "            {\n",
    "                double similarity = CalculateAverageCosineSimilarity(clusters[i], clusters[j]);\n",
    "                if (similarity > maxSimilarity)\n",
    "                {\n",
    "                    maxSimilarity = similarity;\n",
    "                    mergeIndex1 = i;\n",
    "                    mergeIndex2 = j;\n",
    "                }\n",
    "            }\n",
    "        }\n",
    "\n",
    "        // Stop merging if the highest similarity is below the threshold\n",
    "        if (maxSimilarity < similarityThreshold)\n",
    "        {\n",
    "            break;\n",
    "        }\n",
    "\n",
    "        // Merge the two most similar clusters\n",
    "        clusters[mergeIndex1].AddRange(clusters[mergeIndex2]);\n",
    "        clusters.RemoveAt(mergeIndex2);\n",
    "    }\n",
    "\n",
    "    return clusters;\n",
    "}\n",
    "\n",
    "// Helper method to calculate the average similarity between two clusters\n",
    "private double CalculateAverageCosineSimilarity(List<FeedbackRecord> cluster1, List<FeedbackRecord> cluster2)\n",
    "{\n",
    "    double totalSimilarity = 0;\n",
    "    int comparisons = 0;\n",
    "\n",
    "    foreach (var record1 in cluster1)\n",
    "    {\n",
    "        foreach (var record2 in cluster2)\n",
    "        {\n",
    "            totalSimilarity += CalculateCosineSimilarity(record1.Embedding, record2.Embedding);\n",
    "            comparisons++;\n",
    "        }\n",
    "    }\n",
    "\n",
    "    return totalSimilarity / comparisons;\n",
    "}"
   ]
  },
  {
   "cell_type": "code",
   "execution_count": null,
   "metadata": {
    "vscode": {
     "languageId": "polyglot-notebook"
    }
   },
   "outputs": [],
   "source": [
    "// Sub-clustering method, as discussed\n",
    "public List<List<FeedbackRecord>> CreateSubClusters(List<FeedbackRecord> feedbackRecords, double threshold)\n",
    "{\n",
    "    var subClusters = new List<List<FeedbackRecord>>();\n",
    "    var unassignedRecords = new HashSet<FeedbackRecord>(feedbackRecords);\n",
    "\n",
    "    while (unassignedRecords.Any())\n",
    "    {\n",
    "        var seed = unassignedRecords.First();\n",
    "        unassignedRecords.Remove(seed);\n",
    "\n",
    "        var currentCluster = new List<FeedbackRecord> { seed };\n",
    "\n",
    "        foreach (var record in unassignedRecords.ToList())\n",
    "        {\n",
    "            double similarity = CalculateCosineSimilarity(seed.Embedding, record.Embedding);\n",
    "            if (similarity >= threshold)\n",
    "            {\n",
    "                currentCluster.Add(record);\n",
    "                unassignedRecords.Remove(record);\n",
    "            }\n",
    "        }\n",
    "\n",
    "        subClusters.Add(currentCluster);\n",
    "    }\n",
    "\n",
    "    return subClusters;\n",
    "}"
   ]
  },
  {
   "cell_type": "code",
   "execution_count": null,
   "metadata": {
    "vscode": {
     "languageId": "polyglot-notebook"
    }
   },
   "outputs": [],
   "source": [
    "// Define your cosine similarity threshold for sub-clustering\n",
    "double cosineThreshold = 0.862;\n",
    "\n",
    "// Iterate over each main cluster in clusterList and apply sub-clustering\n",
    "foreach (var cluster in clusterList)\n",
    "{\n",
    "    Console.WriteLine($\"Processing sub-clustering for main cluster {cluster.ClusterId} with {cluster.FeedbackRecords.Count} items\");\n",
    "\n",
    "    // Run sub-clustering within each main cluster\n",
    "    // var subClusters = CreateSubClusters(cluster.FeedbackRecords, cosineThreshold);\n",
    "    // var kMeansSubClusters = CreateSubClustersWithKMeans(cluster.FeedbackRecords, 10);\n",
    "    var hacSubClusters = CreateSubClustersWithHAC(cluster.FeedbackRecords, cosineThreshold);\n",
    "\n",
    "    // Console.WriteLine($\"Main Cluster {cluster.ClusterId} has {subClusters.Count} greedy-sub-clusters, and {kMeansSubClusters.Count} KMeans and {hacSubClusters.Count} HAC .\");\n",
    "    Console.WriteLine($\"Main Cluster {cluster.ClusterId} has  {hacSubClusters.Count} HAC based clusters .\");\n",
    "\n",
    "    // Enhance the main cluster with sub-clusters (if needed)\n",
    "    cluster.SubClusters = hacSubClusters;\n",
    "}"
   ]
  },
  {
   "cell_type": "code",
   "execution_count": null,
   "metadata": {
    "vscode": {
     "languageId": "polyglot-notebook"
    }
   },
   "outputs": [],
   "source": [
    "private double CalculateAverageSimilarity(List<FeedbackRecord> feedbackRecords)\n",
    "{\n",
    "    // Example calculation of average similarity between feedback items in a sub-cluster.\n",
    "    // Adjust this to match how similarity is measured in your context.\n",
    "    \n",
    "    double totalSimilarity = 0;\n",
    "    int count = 0;\n",
    "\n",
    "    for (int i = 0; i < feedbackRecords.Count; i++)\n",
    "    {\n",
    "        for (int j = i + 1; j < feedbackRecords.Count; j++)\n",
    "        {\n",
    "            // Calculate similarity between two embeddings (e.g., cosine similarity)\n",
    "            double similarity = CalculateCosineSimilarity(feedbackRecords[i].Embedding, feedbackRecords[j].Embedding);\n",
    "            totalSimilarity += similarity;\n",
    "            count++;\n",
    "        }\n",
    "    }\n",
    "    return count > 0 ? totalSimilarity / count : 0;\n",
    "}"
   ]
  },
  {
   "cell_type": "code",
   "execution_count": null,
   "metadata": {
    "vscode": {
     "languageId": "polyglot-notebook"
    }
   },
   "outputs": [],
   "source": [
    "// Filter main clusters with more than one sub-cluster\n",
    "var clustersWithMultipleSubClusters = clusterList\n",
    "    .Where(mainCluster => mainCluster.SubClusters != null && mainCluster.SubClusters.Count > 1)\n",
    "    .ToList();"
   ]
  },
  {
   "cell_type": "code",
   "execution_count": null,
   "metadata": {
    "vscode": {
     "languageId": "polyglot-notebook"
    }
   },
   "outputs": [],
   "source": [
    "string thematicMessage = @\"\n",
    "“Given the following summary, create one concise, overarching statement that captures the main theme or purpose described. \n",
    "Focus on summarizing the core idea in a single short sentence.\";"
   ]
  },
  {
   "cell_type": "code",
   "execution_count": null,
   "metadata": {
    "vscode": {
     "languageId": "polyglot-notebook"
    }
   },
   "outputs": [],
   "source": [
    "foreach (var mainCluster in clustersWithMultipleSubClusters)\n",
    "{\n",
    "    var openAIResponse = await CallOpenAI(mainCluster.Summary, thematicMessage, JasonResponse : false);\n",
    "    Console.WriteLine($\"{mainCluster.ClusterId} with summary {mainCluster.Summary} \\n with: {openAIResponse}\");\n",
    "}"
   ]
  },
  {
   "cell_type": "code",
   "execution_count": null,
   "metadata": {
    "vscode": {
     "languageId": "polyglot-notebook"
    }
   },
   "outputs": [],
   "source": [
    "// load full cluster from a file\n",
    "var fullClusterFilePath = $\"{dataRoot}/fabric-clusters-full.json\";\n",
    "Console.WriteLine($\"Loading full clusters from file: {fullClusterFilePath}\");\n",
    "var clusterList = await LoadClustersFromFile(fullClusterFilePath);"
   ]
  },
  {
   "cell_type": "code",
   "execution_count": null,
   "metadata": {
    "vscode": {
     "languageId": "polyglot-notebook"
    }
   },
   "outputs": [],
   "source": [
    "\n",
    "\n",
    "// Log information about each main cluster that has multiple sub-clusters\n",
    "foreach (var mainCluster in clustersWithMultipleSubClusters)\n",
    "{\n",
    "    \n",
    "\n",
    "    Console.WriteLine($\"Main Cluster {openAIResponse} with {mainCluster.FeedbackRecords.Count} items and {mainCluster.SubClusters.Count} sub-clusters.\");\n",
    "    \n",
    "    foreach (var subCluster in mainCluster.SubClusters)\n",
    "    {\n",
    "        Console.WriteLine(\"  ------------------\");\n",
    "        Console.WriteLine($\"  - Sub-Cluster with {subCluster.Count} feedback items.\");\n",
    "\n",
    "        // Display a summary or statistics for each sub-cluster if desired\n",
    "        var avgSimilarity = CalculateAverageSimilarity(subCluster);\n",
    "        Console.WriteLine($\"    Average Similarity within Sub-Cluster: {avgSimilarity:F2}\");\n",
    "        \n",
    "        \n",
    "        // print only id the number of feedbacks is more than 1\n",
    "        if (subCluster.Count > 1)\n",
    "        {\n",
    "            foreach (var feedback in subCluster) \n",
    "            {\n",
    "                Console.WriteLine($\"    Sample Feedback:{feedback.Id}|| {feedback.UserStory} ||\");\n",
    "            }\n",
    "        }\n",
    "\n",
    "\n",
    "    }\n",
    "}"
   ]
  },
  {
   "cell_type": "code",
   "execution_count": null,
   "metadata": {
    "vscode": {
     "languageId": "polyglot-notebook"
    }
   },
   "outputs": [],
   "source": [
    "// Method to load clusters from a JSON file\n",
    "public async Task<List<ServiceCluster>> LoadClustersFromFile(string filePath)\n",
    "{\n",
    "    try\n",
    "    {\n",
    "        if (!File.Exists(filePath))\n",
    "        {\n",
    "            throw new FileNotFoundException(\"File not found.\", filePath);\n",
    "        }\n",
    "\n",
    "        // Read JSON from file and deserialize to List<ServiceCluster>\n",
    "        string json = await File.ReadAllTextAsync(filePath);\n",
    "        var clusters = JsonSerializer.Deserialize<List<ServiceCluster>>(json);\n",
    "\n",
    "        Console.WriteLine($\"Clusters loaded from {filePath}\");\n",
    "        return clusters ?? new List<ServiceCluster>();\n",
    "    }\n",
    "    catch (Exception ex)\n",
    "    {\n",
    "        Console.WriteLine($\"Error loading clusters from file: {ex.Message}\");\n",
    "        return new List<ServiceCluster>();  // Return empty list if an error occurs\n",
    "    }\n",
    "}"
   ]
  },
  {
   "cell_type": "code",
   "execution_count": null,
   "metadata": {
    "vscode": {
     "languageId": "polyglot-notebook"
    }
   },
   "outputs": [],
   "source": [
    "var options = new JsonSerializerOptions\n",
    "{\n",
    "    PropertyNameCaseInsensitive = true\n",
    "};\n",
    "\n",
    "    List<ServiceCluster> clusters = JsonSerializer.Deserialize<List<ServiceCluster>>(jsonString, options);\n",
    "\n",
    "    // Process each cluster to generate initiative ideas\n",
    "    foreach (var cluster in clusters)\n",
    "    {\n",
    "        // Extract necessary information\n",
    "        string clusterId = cluster.ClusterId;\n",
    "        string commonElement = cluster.CommonElement;\n",
    "        int similarFeedbacks = cluster.SimilarFeedbacks;\n",
    "        int distinctCustomers = cluster.DistinctCustomers;\n",
    "        string summary = cluster.Summary;\n",
    "\n",
    "        // Generate initiative idea\n",
    "        string initiativeIdea = $\"Initiative Idea for Cluster {clusterId}:\\n\" +\n",
    "            $\"- **Focus Area**: {commonElement}\\n\" +\n",
    "            $\"- **Description**: {summary}\\n\" +\n",
    "            $\"- **Potential Impact**: Addresses feedback from {similarFeedbacks} similar feedback items across {distinctCustomers} customers.\\n\";\n",
    "\n",
    "        // Output the initiative idea\n",
    "        Console.WriteLine(initiativeIdea);\n",
    "        Console.WriteLine(new string('*', 50));\n",
    "    }\n"
   ]
  }
 ],
 "metadata": {
  "kernelspec": {
   "display_name": ".NET (C#)",
   "language": "C#",
   "name": ".net-csharp"
  },
  "language_info": {
   "name": "python"
  },
  "polyglot_notebook": {
   "kernelInfo": {
    "defaultKernelName": "csharp",
    "items": [
     {
      "aliases": [],
      "name": "csharp"
     }
    ]
   }
  }
 },
 "nbformat": 4,
 "nbformat_minor": 2
}
