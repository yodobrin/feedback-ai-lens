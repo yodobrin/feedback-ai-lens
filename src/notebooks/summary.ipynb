{
 "cells": [
  {
   "cell_type": "code",
   "execution_count": 2,
   "metadata": {
    "dotnet_interactive": {
     "language": "csharp"
    },
    "polyglot_notebook": {
     "kernelName": "csharp"
    },
    "vscode": {
     "languageId": "polyglot-notebook"
    }
   },
   "outputs": [
    {
     "data": {
      "text/html": [
       "<div><div></div><div></div><div><strong>Installed Packages</strong><ul><li><span>CsvHelper, 33.0.1</span></li></ul></div></div>"
      ]
     },
     "metadata": {},
     "output_type": "display_data"
    }
   ],
   "source": [
    "#r \"nuget: CsvHelper\""
   ]
  },
  {
   "cell_type": "code",
   "execution_count": 3,
   "metadata": {
    "dotnet_interactive": {
     "language": "csharp"
    },
    "polyglot_notebook": {
     "kernelName": "csharp"
    },
    "vscode": {
     "languageId": "polyglot-notebook"
    }
   },
   "outputs": [],
   "source": [
    "using System;\n",
    "using System.IO;\n",
    "using System.Linq;\n",
    "using System.Collections.Generic;\n",
    "using CsvHelper;\n",
    "using CsvHelper.Configuration;\n",
    "using Newtonsoft.Json;\n",
    "using System.Text.Json;  // For JSON serialization/deserialization\n",
    "using System.Text.Json.Serialization;"
   ]
  },
  {
   "cell_type": "code",
   "execution_count": 4,
   "metadata": {
    "dotnet_interactive": {
     "language": "csharp"
    },
    "polyglot_notebook": {
     "kernelName": "csharp"
    },
    "vscode": {
     "languageId": "polyglot-notebook"
    }
   },
   "outputs": [],
   "source": [
    " # load \"../FeedbackApi/Models/CSVFeedbackRecord.cs\""
   ]
  },
  {
   "cell_type": "code",
   "execution_count": 5,
   "metadata": {
    "dotnet_interactive": {
     "language": "csharp"
    },
    "polyglot_notebook": {
     "kernelName": "csharp"
    },
    "vscode": {
     "languageId": "polyglot-notebook"
    }
   },
   "outputs": [],
   "source": [
    "\n",
    "public class ServiceHighlight\n",
    "{\n",
    "    [JsonPropertyName(\"ServiceName\")]\n",
    "    public string ServiceName { get; set; }\n",
    "\n",
    "    [JsonPropertyName(\"TotalFeedback\")]\n",
    "    public int TotalFeedback { get; set; }\n",
    "\n",
    "    [JsonPropertyName(\"DistinctCustomers\")]\n",
    "    public int DistinctCustomers { get; set; }\n",
    "\n",
    "    [JsonPropertyName(\"FeatureRequests\")]\n",
    "    public int FeatureRequests { get; set; }\n",
    "\n",
    "    [JsonPropertyName(\"Bugs\")]\n",
    "    public int Bugs { get; set; }\n",
    "\n",
    "    [JsonPropertyName(\"OverallSentiment\")]\n",
    "    public string OverallSentiment { get; set; }\n",
    "}"
   ]
  },
  {
   "cell_type": "markdown",
   "metadata": {},
   "source": [
    "## Creating the summary\n",
    "\n",
    "- Per csv file, we run this short summarization based on meta data"
   ]
  },
  {
   "cell_type": "code",
   "execution_count": 7,
   "metadata": {
    "dotnet_interactive": {
     "language": "csharp"
    },
    "polyglot_notebook": {
     "kernelName": "csharp"
    },
    "vscode": {
     "languageId": "polyglot-notebook"
    }
   },
   "outputs": [
    {
     "name": "stdout",
     "output_type": "stream",
     "text": [
      "[\n",
      "  {\n",
      "    \"ServiceName\": \"Azure Kubernetes Service\",\n",
      "    \"TotalFeedback\": 600,\n",
      "    \"DistinctCustomers\": 192,\n",
      "    \"FeatureRequests\": 39,\n",
      "    \"Bugs\": 5,\n",
      "    \"OverallSentiment\": \"Positive\"\n",
      "  }\n",
      "]\n"
     ]
    }
   ],
   "source": [
    "// var filePath = \"/Users/yoavdobrin/workspace/fta/feedback-ai-lens/sample-data/cosmosdb.csv\";\n",
    "// var filePath = \"/Users/yoavdobrin/workspace/fta/feedback-ai-lens/sample-data/adf.csv\";\n",
    "var filePath = \"/Users/yoavdobrin/workspace/fta/feedback-ai-lens/sample-data/aks.csv\";\n",
    "var config = new CsvConfiguration(System.Globalization.CultureInfo.InvariantCulture)\n",
    "{\n",
    "    HasHeaderRecord = true,\n",
    "};\n",
    "\n",
    "using (var reader = new StreamReader(filePath))\n",
    "using (var csv = new CsvReader(reader, config))\n",
    "{\n",
    "    var records = csv.GetRecords<CSVFeedbackRecord>().ToList();\n",
    "\n",
    "    // Group by ServiceTree_Name and calculate metrics\n",
    "    var serviceHighlights = records\n",
    "        .GroupBy(r => r.ServiceName)\n",
    "        .Select(g => new ServiceHighlight\n",
    "        {\n",
    "            ServiceName = g.Key,\n",
    "            TotalFeedback = g.Count(),\n",
    "            DistinctCustomers = g.Select(r => r.CustomerTpid).Distinct().Count(),\n",
    "            FeatureRequests = g.Count(r => r.Type == \"Feature Request\"),\n",
    "            Bugs = g.Count(r => r.Type == \"Bug\"),\n",
    "            OverallSentiment = g.Count(r => r.Type == \"Feature Request\") > g.Count(r => r.Type == \"Bug\") ? \"Positive\" : \"Neutral\"\n",
    "        })\n",
    "        .ToList();\n",
    "\n",
    "    // Serialize the result to JSON\n",
    "    var json = JsonConvert.SerializeObject(serviceHighlights, Formatting.Indented);\n",
    "    Console.WriteLine(json);\n",
    "}"
   ]
  }
 ],
 "metadata": {
  "kernelspec": {
   "display_name": ".NET (C#)",
   "language": "C#",
   "name": ".net-csharp"
  },
  "language_info": {
   "name": "python"
  },
  "polyglot_notebook": {
   "kernelInfo": {
    "defaultKernelName": "csharp",
    "items": [
     {
      "aliases": [],
      "name": "csharp"
     }
    ]
   }
  }
 },
 "nbformat": 4,
 "nbformat_minor": 2
}
