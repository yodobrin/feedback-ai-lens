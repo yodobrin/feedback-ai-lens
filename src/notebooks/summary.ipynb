{
 "cells": [
  {
   "cell_type": "markdown",
   "metadata": {},
   "source": [
    "# Summary File Generation\n",
    "\n",
    "This notebook generates the summary file required for the first page of the feedback-lens app.\n",
    "It assume the `csv` exist in the same folder it would create the output file.\n",
    "\n",
    "With the scope of the Hackathon we used 3 services to generate the summary file:\n",
    "\n",
    "- cosmosdb.csv\n",
    "- adf.csv\n",
    "- aks.csv"
   ]
  },
  {
   "cell_type": "code",
   "execution_count": null,
   "metadata": {
    "dotnet_interactive": {
     "language": "csharp"
    },
    "polyglot_notebook": {
     "kernelName": "csharp"
    },
    "vscode": {
     "languageId": "polyglot-notebook"
    }
   },
   "outputs": [],
   "source": [
    "#r \"nuget: CsvHelper\"\n",
    "#r \"nuget: DotNetEnv, 2.5.0\""
   ]
  },
  {
   "cell_type": "code",
   "execution_count": 2,
   "metadata": {
    "dotnet_interactive": {
     "language": "csharp"
    },
    "polyglot_notebook": {
     "kernelName": "csharp"
    },
    "vscode": {
     "languageId": "polyglot-notebook"
    }
   },
   "outputs": [],
   "source": [
    "using System;\n",
    "using System.IO;\n",
    "using System.Linq;\n",
    "using System.Collections.Generic;\n",
    "using CsvHelper;\n",
    "using CsvHelper.Configuration;\n",
    "// using Newtonsoft.Json;\n",
    "using System.Text.Json;  // For JSON serialization/deserialization\n",
    "using System.Text.Json.Serialization;\n",
    "using DotNetEnv;"
   ]
  },
  {
   "cell_type": "code",
   "execution_count": null,
   "metadata": {
    "dotnet_interactive": {
     "language": "csharp"
    },
    "polyglot_notebook": {
     "kernelName": "csharp"
    },
    "vscode": {
     "languageId": "polyglot-notebook"
    }
   },
   "outputs": [],
   "source": [
    "static string _configurationFile = @\"../../configuration/.env\";\n",
    "Env.Load(_configurationFile);\n",
    "string dataRoot = Environment.GetEnvironmentVariable(\"DB_ROOT_FOLDER\") ?? \"DB_ROOT_FOLDER not found\";\n",
    "\n",
    "// set the service name: aks, adf or cosmos\n",
    "string serviceName = \"adf\";\n",
    "\n",
    "Console.WriteLine($\"Working directory: {dataRoot} using service file: {serviceName}.csv\");"
   ]
  },
  {
   "cell_type": "code",
   "execution_count": 11,
   "metadata": {
    "dotnet_interactive": {
     "language": "csharp"
    },
    "polyglot_notebook": {
     "kernelName": "csharp"
    },
    "vscode": {
     "languageId": "polyglot-notebook"
    }
   },
   "outputs": [],
   "source": [
    " # load \"../FeedbackApi/Models/CSVFeedbackRecord.cs\"\n",
    " # load \"../FeedbackApi/Models/ServiceHighlight.cs\""
   ]
  },
  {
   "cell_type": "markdown",
   "metadata": {},
   "source": [
    "## Creating the summary\n",
    "\n",
    "- Per csv file, we run this short summarization based on meta data"
   ]
  },
  {
   "cell_type": "code",
   "execution_count": 12,
   "metadata": {
    "dotnet_interactive": {
     "language": "csharp"
    },
    "polyglot_notebook": {
     "kernelName": "csharp"
    },
    "vscode": {
     "languageId": "polyglot-notebook"
    }
   },
   "outputs": [],
   "source": [
    "\n",
    "var config = new CsvConfiguration(System.Globalization.CultureInfo.InvariantCulture)\n",
    "{\n",
    "    HasHeaderRecord = true,\n",
    "};"
   ]
  },
  {
   "cell_type": "code",
   "execution_count": 14,
   "metadata": {
    "dotnet_interactive": {
     "language": "csharp"
    },
    "polyglot_notebook": {
     "kernelName": "csharp"
    },
    "vscode": {
     "languageId": "polyglot-notebook"
    }
   },
   "outputs": [],
   "source": [
    "public string GenerateSummary(string service){\n",
    "    var filePath = $\"{dataRoot}/{service}.csv\";\n",
    "    using (var reader = new StreamReader(filePath))\n",
    "    using (var csv = new CsvReader(reader, config))\n",
    "    {\n",
    "        var records = csv.GetRecords<CSVFeedbackRecord>().ToList();\n",
    "\n",
    "        // Group by ServiceTree_Name and calculate metrics\n",
    "        var serviceHighlights = records\n",
    "            .GroupBy(r => r.ServiceName)\n",
    "            .Select(g =>\n",
    "            {\n",
    "                var totalFeedback = g.Count();\n",
    "                var feedbackByType = g.GroupBy(r => r.Type)\n",
    "                                    .Select(t => new FeedbackTypeSummary\n",
    "                                    {\n",
    "                                        Type = t.Key,\n",
    "                                        Count = t.Count()\n",
    "                                    })\n",
    "                                    .ToList();\n",
    "\n",
    "                // Separate out the feedback types below 5%\n",
    "                var collapsedTypes = feedbackByType\n",
    "                    .Where(ft => ft.Count < totalFeedback * 0.05) // Below 5%\n",
    "                    .Select(ft => new FeedbackTypeDetail { OriginalType = ft.Type, Count = ft.Count })\n",
    "                    .ToList();\n",
    "\n",
    "                // Filter out the ones that are above 5%\n",
    "                var feedbackSummary = feedbackByType\n",
    "                    .Where(ft => ft.Count >= totalFeedback * 0.05)\n",
    "                    .ToList();\n",
    "\n",
    "                // Add \"Other\" category with collapsed types\n",
    "                if (collapsedTypes.Any())\n",
    "                {\n",
    "                    feedbackSummary.Add(new FeedbackTypeSummary\n",
    "                    {\n",
    "                        Type = \"Other\",\n",
    "                        Count = collapsedTypes.Sum(ct => ct.Count),\n",
    "                        Details = collapsedTypes\n",
    "                    });\n",
    "                }\n",
    "\n",
    "                return new ServiceHighlight\n",
    "                {\n",
    "                    ServiceName = g.Key,\n",
    "                    TotalFeedback = totalFeedback,\n",
    "                    DistinctCustomers = g.Select(r => r.CustomerTpid).Distinct().Count(),\n",
    "                    FeatureRequests = g.Count(r => r.Type == \"Feature Request\"),\n",
    "                    Bugs = g.Count(r => r.Type == \"Bug\"),\n",
    "                    OverallSentiment = g.Count(r => r.Type == \"Feature Request\") > g.Count(r => r.Type == \"Bug\") ? \"Positive\" : \"Neutral\",\n",
    "                    FeedbackTypes = feedbackSummary  // Include the feedback summary with \"Other\"\n",
    "                };\n",
    "            })\n",
    "            .ToList();\n",
    "\n",
    "        // Serialize the result to JSON using System.Text.Json\n",
    "        return JsonSerializer.Serialize(serviceHighlights, new JsonSerializerOptions { WriteIndented = true });\n",
    "        // Console.WriteLine(json);\n",
    "    }\n",
    "}\n"
   ]
  },
  {
   "cell_type": "code",
   "execution_count": 15,
   "metadata": {
    "dotnet_interactive": {
     "language": "csharp"
    },
    "polyglot_notebook": {
     "kernelName": "csharp"
    },
    "vscode": {
     "languageId": "polyglot-notebook"
    }
   },
   "outputs": [],
   "source": [
    "public List<ServiceHighlight> GenerateSummary(string service)\n",
    "{\n",
    "    var filePath = $\"{dataRoot}/{service}.csv\";\n",
    "    using (var reader = new StreamReader(filePath))\n",
    "    using (var csv = new CsvReader(reader, config))\n",
    "    {\n",
    "        var records = csv.GetRecords<CSVFeedbackRecord>().ToList();\n",
    "\n",
    "        // Group by ServiceTree_Name and calculate metrics\n",
    "        var serviceHighlights = records\n",
    "            .GroupBy(r => r.ServiceName)\n",
    "            .Select(g =>\n",
    "            {\n",
    "                var totalFeedback = g.Count();\n",
    "                var feedbackByType = g.GroupBy(r => r.Type)\n",
    "                                    .Select(t => new FeedbackTypeSummary\n",
    "                                    {\n",
    "                                        Type = t.Key,\n",
    "                                        Count = t.Count()\n",
    "                                    })\n",
    "                                    .ToList();\n",
    "\n",
    "                // Separate out the feedback types below 5%\n",
    "                var collapsedTypes = feedbackByType\n",
    "                    .Where(ft => ft.Count < totalFeedback * 0.05) // Below 5%\n",
    "                    .Select(ft => new FeedbackTypeDetail { OriginalType = ft.Type, Count = ft.Count })\n",
    "                    .ToList();\n",
    "\n",
    "                // Filter out the ones that are above 5%\n",
    "                var feedbackSummary = feedbackByType\n",
    "                    .Where(ft => ft.Count >= totalFeedback * 0.05)\n",
    "                    .ToList();\n",
    "\n",
    "                // Add \"Other\" category with collapsed types\n",
    "                if (collapsedTypes.Any())\n",
    "                {\n",
    "                    feedbackSummary.Add(new FeedbackTypeSummary\n",
    "                    {\n",
    "                        Type = \"Other\",\n",
    "                        Count = collapsedTypes.Sum(ct => ct.Count),\n",
    "                        Details = collapsedTypes\n",
    "                    });\n",
    "                }\n",
    "\n",
    "                return new ServiceHighlight\n",
    "                {\n",
    "                    ServiceName = g.Key,\n",
    "                    TotalFeedback = totalFeedback,\n",
    "                    DistinctCustomers = g.Select(r => r.CustomerTpid).Distinct().Count(),\n",
    "                    FeatureRequests = g.Count(r => r.Type == \"Feature Request\"),\n",
    "                    Bugs = g.Count(r => r.Type == \"Bug\"),\n",
    "                    OverallSentiment = g.Count(r => r.Type == \"Feature Request\") > g.Count(r => r.Type == \"Bug\") ? \"Positive\" : \"Neutral\",\n",
    "                    FeedbackTypes = feedbackSummary  // Include the feedback summary with \"Other\"\n",
    "                };\n",
    "            })\n",
    "            .ToList();\n",
    "\n",
    "        return serviceHighlights;  // Return the list of ServiceHighlight objects\n",
    "    }\n",
    "}"
   ]
  },
  {
   "cell_type": "code",
   "execution_count": 16,
   "metadata": {
    "dotnet_interactive": {
     "language": "csharp"
    },
    "polyglot_notebook": {
     "kernelName": "csharp"
    },
    "vscode": {
     "languageId": "polyglot-notebook"
    }
   },
   "outputs": [],
   "source": [
    "public void GenerateCombinedSummary(string[] services)\n",
    "{\n",
    "    var allServiceHighlights = new List<ServiceHighlight>();\n",
    "\n",
    "    foreach (var service in services)\n",
    "    {\n",
    "        // Call GenerateSummary for each service and add to the combined list\n",
    "        var serviceHighlights = GenerateSummary(service);\n",
    "        allServiceHighlights.AddRange(serviceHighlights);\n",
    "    }\n",
    "\n",
    "    // Serialize the combined result to JSON and write to a file\n",
    "    var json = JsonSerializer.Serialize(allServiceHighlights, new JsonSerializerOptions { WriteIndented = true });\n",
    "    var outputFilePath = $\"{dataRoot}/combined_service_summary.json\";\n",
    "    File.WriteAllText(outputFilePath, json);\n",
    "\n",
    "    Console.WriteLine($\"Summary generated for all services and saved to {outputFilePath}\");\n",
    "}"
   ]
  },
  {
   "cell_type": "code",
   "execution_count": null,
   "metadata": {
    "dotnet_interactive": {
     "language": "csharp"
    },
    "polyglot_notebook": {
     "kernelName": "csharp"
    },
    "vscode": {
     "languageId": "polyglot-notebook"
    }
   },
   "outputs": [],
   "source": [
    "var services = new string[] { \"adf\", \"aks\", \"cosmosdb\" };\n",
    "GenerateCombinedSummary(services);"
   ]
  }
 ],
 "metadata": {
  "kernelspec": {
   "display_name": ".NET (C#)",
   "language": "C#",
   "name": ".net-csharp"
  },
  "language_info": {
   "name": "python"
  },
  "polyglot_notebook": {
   "kernelInfo": {
    "defaultKernelName": "csharp",
    "items": [
     {
      "aliases": [],
      "name": "csharp"
     }
    ]
   }
  }
 },
 "nbformat": 4,
 "nbformat_minor": 2
}
