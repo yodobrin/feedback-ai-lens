{
 "cells": [
  {
   "cell_type": "markdown",
   "metadata": {},
   "source": [
    "# Service Summary & Clustering\n",
    "\n",
    "This notebook, shows two main pre-processing activities that are performed on the data:\n",
    "1. **Service Summary**: This is a summary of all feedbacks per service, few aggregative statistics are calculated for each service.\n",
    "2. **Service Clustering**: Using the embeddings of the normalized feedbacks, we cluster the services into different groups.\n",
    "\n",
    "## Required packages"
   ]
  },
  {
   "cell_type": "code",
   "execution_count": null,
   "metadata": {
    "dotnet_interactive": {
     "language": "csharp"
    },
    "polyglot_notebook": {
     "kernelName": "csharp"
    },
    "vscode": {
     "languageId": "polyglot-notebook"
    }
   },
   "outputs": [],
   "source": [
    "#r \"nuget: System.Text.Json\"\n",
    "#r \"nuget: Microsoft.ML\"\n",
    "#r \"nuget: Azure.AI.OpenAI, 1.0.0-beta.12\"\n",
    "#r \"nuget: DotNetEnv, 2.5.0\""
   ]
  },
  {
   "cell_type": "code",
   "execution_count": null,
   "metadata": {
    "dotnet_interactive": {
     "language": "csharp"
    },
    "polyglot_notebook": {
     "kernelName": "csharp"
    },
    "vscode": {
     "languageId": "polyglot-notebook"
    }
   },
   "outputs": [],
   "source": [
    "using Microsoft.ML;\n",
    "using Microsoft.ML.Data;\n",
    "using System.Text.Json;\n",
    "using System.IO;\n",
    "using System.Text.Json.Serialization;\n",
    "using System.Linq;\n",
    "using Azure; \n",
    "using Azure.AI.OpenAI;\n",
    "using DotNetEnv;"
   ]
  },
  {
   "cell_type": "markdown",
   "metadata": {},
   "source": [
    "## Loading required types"
   ]
  },
  {
   "cell_type": "code",
   "execution_count": null,
   "metadata": {
    "dotnet_interactive": {
     "language": "csharp"
    },
    "polyglot_notebook": {
     "kernelName": "csharp"
    },
    "vscode": {
     "languageId": "polyglot-notebook"
    }
   },
   "outputs": [],
   "source": [
    "// loading the csv feedback record class\n",
    "# load \"./FeedbackRecord.cs\"\n",
    "# load \"./ServiceCluster.cs\""
   ]
  },
  {
   "cell_type": "markdown",
   "metadata": {},
   "source": [
    "## OpenAI Client\n",
    "\n",
    "Creating an AI client to interact with the OpenAI API."
   ]
  },
  {
   "cell_type": "code",
   "execution_count": null,
   "metadata": {
    "dotnet_interactive": {
     "language": "csharp"
    },
    "polyglot_notebook": {
     "kernelName": "csharp"
    },
    "vscode": {
     "languageId": "polyglot-notebook"
    }
   },
   "outputs": [],
   "source": [
    "\n",
    "static string _configurationFile = @\"../../configuration/.env\";\n",
    "Env.Load(_configurationFile);\n",
    "\n",
    "string oAiApiKey = Environment.GetEnvironmentVariable(\"AOAI_APIKEY\") ?? \"AOAI_APIKEY not found\";\n",
    "string oAiEndpoint = Environment.GetEnvironmentVariable(\"AOAI_ENDPOINT\") ?? \"AOAI_ENDPOINT not found\";\n",
    "string chatCompletionDeploymentName = Environment.GetEnvironmentVariable(\"CHATCOMPLETION_DEPLOYMENTNAME\") ?? \"CHATCOMPLETION_DEPLOYMENTNAME not found\";\n",
    "string embeddingDeploymentName = Environment.GetEnvironmentVariable(\"EMBEDDING_DEPLOYMENTNAME\") ?? \"EMBEDDING_DEPLOYMENTNAME not found\";\n",
    "string dataRoot = Environment.GetEnvironmentVariable(\"DB_ROOT_FOLDER\") ?? \"DB_ROOT_FOLDER not found\";\n",
    "\n",
    "AzureKeyCredential azureKeyCredential = new AzureKeyCredential(oAiApiKey);\n",
    "OpenAIClient openAIClient = new OpenAIClient(new Uri(oAiEndpoint), azureKeyCredential);\n",
    "\n",
    "Console.WriteLine($\"OpenAI Client created: {oAiEndpoint} with: {chatCompletionDeploymentName} and {embeddingDeploymentName} deployments\");"
   ]
  },
  {
   "cell_type": "markdown",
   "metadata": {},
   "source": [
    "## CallOpenAI\n",
    "\n",
    "Helper method to call the open ai chat completion API. It is set to return `json` objects. In this notebook, it is used to provide insights into the each cluster."
   ]
  },
  {
   "cell_type": "code",
   "execution_count": null,
   "metadata": {
    "dotnet_interactive": {
     "language": "csharp"
    },
    "polyglot_notebook": {
     "kernelName": "csharp"
    },
    "vscode": {
     "languageId": "polyglot-notebook"
    }
   },
   "outputs": [],
   "source": [
    "async Task<string> CallOpenAI(string prompt, string systemMessage, bool JasonResponse = true)\n",
    "{\n",
    "    // Create ChatCompletionsOptions and set up the system and user messages\n",
    "    ChatCompletionsOptions options = new ChatCompletionsOptions();\n",
    "    \n",
    "    // Add system message\n",
    "    options.Messages.Add(new ChatRequestSystemMessage(systemMessage));\n",
    "    \n",
    "    // Add user message (the prompt generated from feedback)\n",
    "    options.Messages.Add(new ChatRequestUserMessage(prompt));\n",
    "\n",
    "    // Configure request properties\n",
    "    options.MaxTokens = 4096;\n",
    "    options.Temperature = 0.7f;\n",
    "    options.NucleusSamplingFactor = 0.95f;\n",
    "    options.FrequencyPenalty = 0.0f;\n",
    "    options.PresencePenalty = 0.0f;\n",
    "    // options.StopSequences.Add(\"\\n\"); \n",
    "    options.DeploymentName = chatCompletionDeploymentName;\n",
    "    if (JasonResponse) options.ResponseFormat = ChatCompletionsResponseFormat.JsonObject;\n",
    "\n",
    "    // Make the API request to get the chat completions\n",
    "    Response<ChatCompletions> response = await openAIClient.GetChatCompletionsAsync(options);\n",
    "\n",
    "    // Extract and return the first response from the choices\n",
    "    ChatCompletions completions = response.Value;\n",
    "    if (completions.Choices.Count > 0)\n",
    "    {\n",
    "        return completions.Choices[0].Message.Content;\n",
    "    }\n",
    "    else\n",
    "    {\n",
    "        return \"No response generated.\";\n",
    "    }\n",
    "}"
   ]
  },
  {
   "cell_type": "markdown",
   "metadata": {},
   "source": [
    "## Loading the right data segment\n",
    "\n",
    "As we have three service types as part of the data, we will load the data for each service type and perform the pre-processing activities."
   ]
  },
  {
   "cell_type": "code",
   "execution_count": null,
   "metadata": {
    "dotnet_interactive": {
     "language": "csharp"
    },
    "polyglot_notebook": {
     "kernelName": "csharp"
    },
    "vscode": {
     "languageId": "polyglot-notebook"
    }
   },
   "outputs": [],
   "source": [
    "var servicename = \"fabric\"; // \"aks\"  or \"cosmosdb\" or \"fabric\" or \"adf\"\n",
    "var jsonFilePath = $\"{dataRoot}/{servicename}.json\";\n",
    "var jsonString = File.ReadAllText(jsonFilePath);\n",
    "var feedbackRecords = JsonSerializer.Deserialize<List<FeedbackRecord>>(jsonString);\n",
    "// Print number of feedback records\n",
    "Console.WriteLine($\"Number of feedback records for {servicename}: {feedbackRecords.Count}\");"
   ]
  },
  {
   "cell_type": "markdown",
   "metadata": {},
   "source": [
    "## performing clustering on the data\n",
    "\n",
    "Yes, your understanding is correct. Here's a breakdown of what this code does:\n",
    "\n",
    "1. **Data Preparation:**\n",
    "   - The code creates an `embeddingData` list by mapping the embeddings of the feedback records into `EmbeddingData` objects.\n",
    "   - The `embeddingData` is then converted into a `dataView`, which is required by ML.NET for processing.\n",
    "\n",
    "2. **Clustering using KMeans:**\n",
    "   - The `MLContext` object is used to set up a machine learning environment.\n",
    "   - The pipeline uses the **KMeans** algorithm for clustering, where `featureColumnName` refers to the embeddings of the feedback records.\n",
    "   - The `numberOfClusters` (in this case, 50) is passed to the KMeans algorithm, indicating the number of clusters you want the algorithm to fit the data into.\n",
    "\n",
    "3. **Model Training:**\n",
    "   - The `Fit` method trains the KMeans model on the provided `dataView` (which contains the feedback embeddings).\n",
    "\n",
    "4. **Cluster Prediction:**\n",
    "   - After training, the `Transform` method applies the clustering model to the `dataView` to predict the cluster assignments for each feedback record.\n",
    "   - The resulting `predictions` contain the cluster number (label) for each embedding in `PredictedLabel`.\n",
    "\n",
    "5. **Assigning Clusters:**\n",
    "   - The code uses `Zip` to combine the original feedback records with the predicted cluster labels, creating `feedbackWithClusters` which pairs each feedback record with its assigned cluster.\n",
    "   - The number of distinct clusters is calculated using `Distinct()` and printed.\n",
    "\n",
    "### Summary:\n",
    "- This code clusters the feedback data into the specified number of clusters (50 in this case).\n",
    "- **KMeans** is used to group the feedback records into 50 clusters based on their embedding vectors.\n",
    "- The code then assigns each feedback record to one of the predicted clusters (`PredictedCluster`).\n",
    "- Finally, it prints the actual number of clusters formed by `feedbackWithClusters`, although in practice, this should be equal to the number set by the model (50 in this case).\n",
    "\n"
   ]
  },
  {
   "cell_type": "code",
   "execution_count": null,
   "metadata": {
    "dotnet_interactive": {
     "language": "csharp"
    },
    "polyglot_notebook": {
     "kernelName": "csharp"
    },
    "vscode": {
     "languageId": "polyglot-notebook"
    }
   },
   "outputs": [],
   "source": [
    "var clusterCount = 50;\n",
    "var mlContext = new MLContext();\n",
    "var embeddingData = feedbackRecords.Select(f => new EmbeddingData { Embedding = f.Embedding }).ToList();\n",
    "var dataView = mlContext.Data.LoadFromEnumerable(embeddingData);\n",
    "\n",
    "// Cluster the embeddings using KMeans (set number of clusters, e.g., 5)\n",
    "var pipeline = mlContext.Clustering.Trainers.KMeans(featureColumnName: \"Embedding\", numberOfClusters: clusterCount);\n",
    "var model = pipeline.Fit(dataView);\n",
    "\n",
    "// Predict the cluster for each feedback record\n",
    "var predictions = model.Transform(dataView);\n",
    "var clusters = mlContext.Data.CreateEnumerable<ClusterPrediction>(predictions, reuseRowObject: false).ToList();\n",
    "\n",
    "// Console.WriteLine($\"Number of clusters: {clusters.Count}\");\n",
    "\n",
    "public class ClusterPrediction\n",
    "{\n",
    "    [ColumnName(\"PredictedLabel\")]\n",
    "    public uint PredictedCluster { get; set; }  // Cluster number (1, 2, 3, etc.)\n",
    "}\n",
    "\n",
    "List<(FeedbackRecord Feedback, uint Cluster)> feedbackWithClusters = feedbackRecords\n",
    "    .Zip(clusters, (feedback, cluster) => \n",
    "        (Feedback: feedback, Cluster: cluster.PredictedCluster)\n",
    "    )\n",
    "    .ToList();\n",
    "    \n",
    "\n",
    "\n",
    "// print the number of numberOfClusters\n",
    "var numberOfClusters = feedbackWithClusters.Select(f => f.Cluster).Distinct().Count();\n",
    "Console.WriteLine($\"Number of clusters: {numberOfClusters}\");"
   ]
  },
  {
   "cell_type": "markdown",
   "metadata": {},
   "source": [
    "## GenerateClusters \n",
    "\n",
    "The GenerateClusters method is designed to take a list of feedback records that have been grouped into clusters and transform this data into ServiceCluster objects, which represent each cluster’s summary, common feedback themes, and details about the feedback records associated with that cluster."
   ]
  },
  {
   "cell_type": "code",
   "execution_count": null,
   "metadata": {
    "dotnet_interactive": {
     "language": "csharp"
    },
    "polyglot_notebook": {
     "kernelName": "csharp"
    },
    "vscode": {
     "languageId": "polyglot-notebook"
    }
   },
   "outputs": [],
   "source": [
    "\n",
    "public List<ServiceCluster> GenerateClusters(List<(FeedbackRecord Feedback, uint Cluster)> feedbackWithClusters)\n",
    "{\n",
    "    var serviceClusters = feedbackWithClusters\n",
    "        .GroupBy(fc => fc.Cluster) // Group by the predicted cluster\n",
    "        .Select(clusterGroup =>\n",
    "        {\n",
    "            // Collect full FeedbackRecords for this cluster\n",
    "            var feedbackRecords = clusterGroup\n",
    "                .Select(fc => fc.Feedback)\n",
    "                .ToList();\n",
    "\n",
    "            // Calculate distinct customers\n",
    "            var distinctCustomers = feedbackRecords\n",
    "                .Select(f => f.CustomerName)\n",
    "                .Distinct()\n",
    "                .Count();\n",
    "\n",
    "            // Create the service cluster object\n",
    "            return new ServiceCluster\n",
    "            {\n",
    "                ClusterId = clusterGroup.Key.ToString(),\n",
    "                CommonElement = \"Common Theme Placeholder\", // Replace with actual summarization from OpenAI\n",
    "                SimilarFeedbacks = feedbackRecords.Count,\n",
    "                DistinctCustomers = distinctCustomers,\n",
    "                FeedbackRecords = feedbackRecords,  // Full feedback records\n",
    "                Summary = \"Cluster summary placeholder\" // Use OpenAI for summarization\n",
    "            };\n",
    "        })\n",
    "        .ToList();\n",
    "\n",
    "    return serviceClusters;\n",
    "}"
   ]
  },
  {
   "cell_type": "markdown",
   "metadata": {},
   "source": [
    "## Examining the Clusters\n",
    "\n",
    "high level info, this is before we call open ai."
   ]
  },
  {
   "cell_type": "code",
   "execution_count": null,
   "metadata": {
    "dotnet_interactive": {
     "language": "csharp"
    },
    "polyglot_notebook": {
     "kernelName": "csharp"
    },
    "vscode": {
     "languageId": "polyglot-notebook"
    }
   },
   "outputs": [],
   "source": [
    "var sortedByBoth = GenerateClusters(feedbackWithClusters)\n",
    "    .OrderByDescending(cluster => cluster.DistinctCustomers)\n",
    "    .ThenByDescending(cluster => cluster.SimilarFeedbacks)\n",
    "    .ToList();\n",
    "// print the cluster with its data\n",
    "foreach (var cluster in sortedByBoth)\n",
    "{\n",
    "    Console.WriteLine($\"Cluster {cluster.ClusterId}: {cluster.SimilarFeedbacks} similar feedbacks from {cluster.DistinctCustomers} customers\");\n",
    "}"
   ]
  },
  {
   "cell_type": "code",
   "execution_count": null,
   "metadata": {
    "dotnet_interactive": {
     "language": "csharp"
    },
    "polyglot_notebook": {
     "kernelName": "csharp"
    },
    "vscode": {
     "languageId": "polyglot-notebook"
    }
   },
   "outputs": [],
   "source": [
    "string systemMessage = @\"\n",
    "Generate a JSON response with the following structure:\n",
    "{\n",
    "  \"\"CommonElement\"\": \"\"<A concise phrase describing the common theme>\"\",\n",
    "  \"\"Summary\"\": \"\"<A detailed explanation summarizing the feedback>\"\"\n",
    "}\n",
    "Make sure the common element is clear and concise, and the summary provides a comprehensive explanation.\n",
    "You base your summary only on the provided user stories by the user.\n",
    "\";\n",
    "public class OpenAIResponse\n",
    "{\n",
    "    public string CommonElement { get; set; }\n",
    "    public string Summary { get; set; }\n",
    "}"
   ]
  },
  {
   "cell_type": "code",
   "execution_count": null,
   "metadata": {
    "dotnet_interactive": {
     "language": "csharp"
    },
    "polyglot_notebook": {
     "kernelName": "csharp"
    },
    "vscode": {
     "languageId": "polyglot-notebook"
    }
   },
   "outputs": [],
   "source": [
    "public async Task<List<ServiceCluster>> EnhanceClustersWithOpenAIAsync(List<ServiceCluster> sortedClusters)\n",
    "{\n",
    "    int count = 0; // for testing, limit to 3 clusters\n",
    "    foreach (var cluster in sortedClusters)\n",
    "    {\n",
    "        // Prepare the prompt by concatenating the feedback user stories for each cluster\n",
    "        count++;\n",
    "        string prompt = string.Empty;\n",
    "        foreach (var feedback in cluster.FeedbackRecords)\n",
    "        {\n",
    "            prompt += $\"- {feedback.UserStory}\\n\";\n",
    "        }\n",
    "        \n",
    "        // Call OpenAI to generate the common element and summary\n",
    "        var openAIResponse = await CallOpenAI(prompt, systemMessage);\n",
    "        Console.WriteLine($\"Called OpenAI  {cluster.ClusterId}\");\n",
    "                // Deserialize the JSON response from OpenAI\n",
    "        try\n",
    "            {\n",
    "                var openAIResult = JsonSerializer.Deserialize<OpenAIResponse>(openAIResponse);\n",
    "\n",
    "                if (openAIResult != null)\n",
    "                {\n",
    "                    // Update the cluster with OpenAI results\n",
    "                    cluster.CommonElement = openAIResult.CommonElement;\n",
    "                    cluster.Summary = openAIResult.Summary;\n",
    "                }\n",
    "                else\n",
    "                {\n",
    "                    Console.WriteLine(\"Failed to deserialize OpenAI response\");\n",
    "                }\n",
    "            }\n",
    "            catch (JsonException ex)\n",
    "            {\n",
    "                Console.WriteLine($\"JSON deserialization error: {ex.Message}\");\n",
    "            }\n",
    "        // break after 3\n",
    "        // if (count == 3)\n",
    "        // {\n",
    "        //     break;\n",
    "        // }\n",
    "    }\n",
    "\n",
    "    return sortedClusters;\n",
    "}"
   ]
  },
  {
   "cell_type": "code",
   "execution_count": null,
   "metadata": {
    "dotnet_interactive": {
     "language": "csharp"
    },
    "polyglot_notebook": {
     "kernelName": "csharp"
    },
    "vscode": {
     "languageId": "polyglot-notebook"
    }
   },
   "outputs": [],
   "source": [
    "var clusterList = await EnhanceClustersWithOpenAIAsync(sortedByBoth);"
   ]
  },
  {
   "cell_type": "code",
   "execution_count": null,
   "metadata": {
    "dotnet_interactive": {
     "language": "csharp"
    },
    "polyglot_notebook": {
     "kernelName": "csharp"
    },
    "vscode": {
     "languageId": "polyglot-notebook"
    }
   },
   "outputs": [],
   "source": [
    "public static double CalculateCosineSimilarity(float[] vectorA, float[] vectorB)\n",
    "{\n",
    "    double dotProduct = 0;\n",
    "    double magnitudeA = 0;\n",
    "    double magnitudeB = 0;\n",
    "\n",
    "    for (int i = 0; i < vectorA.Length; i++)\n",
    "    {\n",
    "        dotProduct += vectorA[i] * vectorB[i];\n",
    "        magnitudeA += Math.Pow(vectorA[i], 2);\n",
    "        magnitudeB += Math.Pow(vectorB[i], 2);\n",
    "    }\n",
    "\n",
    "    magnitudeA = Math.Sqrt(magnitudeA);\n",
    "    magnitudeB = Math.Sqrt(magnitudeB);\n",
    "\n",
    "    return dotProduct / (magnitudeA * magnitudeB);\n",
    "}"
   ]
  },
  {
   "cell_type": "code",
   "execution_count": null,
   "metadata": {
    "dotnet_interactive": {
     "language": "csharp"
    },
    "polyglot_notebook": {
     "kernelName": "csharp"
    },
    "vscode": {
     "languageId": "polyglot-notebook"
    }
   },
   "outputs": [],
   "source": [
    "public List<List<FeedbackRecord>> CreateSubClustersWithKMeans(List<FeedbackRecord> feedbackRecords, int subClusterCount)\n",
    "{\n",
    "    var mlContext = new MLContext();\n",
    "    var embeddingData = feedbackRecords.Select(f => new EmbeddingData { Embedding = f.Embedding }).ToList();\n",
    "    var dataView = mlContext.Data.LoadFromEnumerable(embeddingData);\n",
    "\n",
    "    // Use K-Means to create sub-clusters\n",
    "    var pipeline = mlContext.Clustering.Trainers.KMeans(featureColumnName: \"Embedding\", numberOfClusters: subClusterCount);\n",
    "    var model = pipeline.Fit(dataView);\n",
    "\n",
    "    var predictions = model.Transform(dataView);\n",
    "    var clusters = mlContext.Data.CreateEnumerable<ClusterPrediction>(predictions, reuseRowObject: false).ToList();\n",
    "\n",
    "    // Assign feedback records to their sub-clusters\n",
    "    return feedbackRecords\n",
    "        .Zip(clusters, (feedback, cluster) => (Feedback: feedback, ClusterId: cluster.PredictedCluster))\n",
    "        .GroupBy(fc => fc.ClusterId)\n",
    "        .Select(g => g.Select(fc => fc.Feedback).ToList())\n",
    "        .ToList();\n",
    "}"
   ]
  },
  {
   "cell_type": "code",
   "execution_count": null,
   "metadata": {
    "dotnet_interactive": {
     "language": "csharp"
    },
    "polyglot_notebook": {
     "kernelName": "csharp"
    },
    "vscode": {
     "languageId": "polyglot-notebook"
    }
   },
   "outputs": [],
   "source": [
    "public List<List<FeedbackRecord>> CreateSubClustersWithHAC(List<FeedbackRecord> feedbackRecords, double similarityThreshold)\n",
    "{\n",
    "    // Initially, each feedback record is its own cluster\n",
    "    var clusters = feedbackRecords.Select(r => new List<FeedbackRecord> { r }).ToList();\n",
    "\n",
    "    while (true)\n",
    "    {\n",
    "        double maxSimilarity = double.MinValue;\n",
    "        int mergeIndex1 = -1;\n",
    "        int mergeIndex2 = -1;\n",
    "\n",
    "        // Find the most similar pair of clusters\n",
    "        for (int i = 0; i < clusters.Count; i++)\n",
    "        {\n",
    "            for (int j = i + 1; j < clusters.Count; j++)\n",
    "            {\n",
    "                double similarity = CalculateAverageCosineSimilarity(clusters[i], clusters[j]);\n",
    "                if (similarity > maxSimilarity)\n",
    "                {\n",
    "                    maxSimilarity = similarity;\n",
    "                    mergeIndex1 = i;\n",
    "                    mergeIndex2 = j;\n",
    "                }\n",
    "            }\n",
    "        }\n",
    "\n",
    "        // Stop merging if the highest similarity is below the threshold\n",
    "        if (maxSimilarity < similarityThreshold)\n",
    "        {\n",
    "            break;\n",
    "        }\n",
    "\n",
    "        // Merge the two most similar clusters\n",
    "        clusters[mergeIndex1].AddRange(clusters[mergeIndex2]);\n",
    "        clusters.RemoveAt(mergeIndex2);\n",
    "    }\n",
    "\n",
    "    return clusters;\n",
    "}\n",
    "\n",
    "// Helper method to calculate the average similarity between two clusters\n",
    "private double CalculateAverageCosineSimilarity(List<FeedbackRecord> cluster1, List<FeedbackRecord> cluster2)\n",
    "{\n",
    "    double totalSimilarity = 0;\n",
    "    int comparisons = 0;\n",
    "\n",
    "    foreach (var record1 in cluster1)\n",
    "    {\n",
    "        foreach (var record2 in cluster2)\n",
    "        {\n",
    "            totalSimilarity += CalculateCosineSimilarity(record1.Embedding, record2.Embedding);\n",
    "            comparisons++;\n",
    "        }\n",
    "    }\n",
    "\n",
    "    return totalSimilarity / comparisons;\n",
    "}"
   ]
  },
  {
   "cell_type": "code",
   "execution_count": null,
   "metadata": {
    "dotnet_interactive": {
     "language": "csharp"
    },
    "polyglot_notebook": {
     "kernelName": "csharp"
    },
    "vscode": {
     "languageId": "polyglot-notebook"
    }
   },
   "outputs": [],
   "source": [
    "// Sub-clustering method, as discussed\n",
    "public List<List<FeedbackRecord>> CreateSubClusters(List<FeedbackRecord> feedbackRecords, double threshold)\n",
    "{\n",
    "    var subClusters = new List<List<FeedbackRecord>>();\n",
    "    var unassignedRecords = new HashSet<FeedbackRecord>(feedbackRecords);\n",
    "\n",
    "    while (unassignedRecords.Any())\n",
    "    {\n",
    "        var seed = unassignedRecords.First();\n",
    "        unassignedRecords.Remove(seed);\n",
    "\n",
    "        var currentCluster = new List<FeedbackRecord> { seed };\n",
    "\n",
    "        foreach (var record in unassignedRecords.ToList())\n",
    "        {\n",
    "            double similarity = CalculateCosineSimilarity(seed.Embedding, record.Embedding);\n",
    "            if (similarity >= threshold)\n",
    "            {\n",
    "                currentCluster.Add(record);\n",
    "                unassignedRecords.Remove(record);\n",
    "            }\n",
    "        }\n",
    "\n",
    "        subClusters.Add(currentCluster);\n",
    "    }\n",
    "\n",
    "    return subClusters;\n",
    "}"
   ]
  },
  {
   "cell_type": "code",
   "execution_count": null,
   "metadata": {
    "dotnet_interactive": {
     "language": "csharp"
    },
    "polyglot_notebook": {
     "kernelName": "csharp"
    },
    "vscode": {
     "languageId": "polyglot-notebook"
    }
   },
   "outputs": [],
   "source": [
    "// load full cluster from a file\n",
    "var fullClusterFilePath = $\"{dataRoot}/fabric-clusters-full.json\";\n",
    "Console.WriteLine($\"Loading full clusters from file: {fullClusterFilePath}\");\n",
    "var clusterList = await LoadClustersFromFile(fullClusterFilePath);"
   ]
  },
  {
   "cell_type": "code",
   "execution_count": null,
   "metadata": {
    "dotnet_interactive": {
     "language": "csharp"
    },
    "polyglot_notebook": {
     "kernelName": "csharp"
    },
    "vscode": {
     "languageId": "polyglot-notebook"
    }
   },
   "outputs": [],
   "source": [
    "// Define your cosine similarity threshold for sub-clustering\n",
    "double cosineThreshold = 0.862;\n",
    "\n",
    "// Iterate over each main cluster in clusterList and apply sub-clustering\n",
    "foreach (var cluster in clusterList)\n",
    "{\n",
    "    Console.WriteLine($\"Processing sub-clustering for main cluster {cluster.ClusterId} with {cluster.FeedbackRecords.Count} items\");\n",
    "\n",
    "    // Run sub-clustering within each main cluster\n",
    "    // var subClusters = CreateSubClusters(cluster.FeedbackRecords, cosineThreshold);\n",
    "    // var kMeansSubClusters = CreateSubClustersWithKMeans(cluster.FeedbackRecords, 10);\n",
    "    var hacSubClusters = CreateSubClustersWithHAC(cluster.FeedbackRecords, cosineThreshold);\n",
    "\n",
    "    // Console.WriteLine($\"Main Cluster {cluster.ClusterId} has {subClusters.Count} greedy-sub-clusters, and {kMeansSubClusters.Count} KMeans and {hacSubClusters.Count} HAC .\");\n",
    "    Console.WriteLine($\"Main Cluster {cluster.ClusterId} has  {hacSubClusters.Count} HAC based clusters .\");\n",
    "\n",
    "    // Enhance the main cluster with sub-clusters (if needed)\n",
    "    cluster.SubClusters = hacSubClusters;\n",
    "}"
   ]
  },
  {
   "cell_type": "code",
   "execution_count": null,
   "metadata": {
    "dotnet_interactive": {
     "language": "csharp"
    },
    "polyglot_notebook": {
     "kernelName": "csharp"
    },
    "vscode": {
     "languageId": "polyglot-notebook"
    }
   },
   "outputs": [],
   "source": [
    "private double CalculateAverageSimilarity(List<FeedbackRecord> feedbackRecords)\n",
    "{\n",
    "    // Example calculation of average similarity between feedback items in a sub-cluster.\n",
    "    // Adjust this to match how similarity is measured in your context.\n",
    "    \n",
    "    double totalSimilarity = 0;\n",
    "    int count = 0;\n",
    "\n",
    "    for (int i = 0; i < feedbackRecords.Count; i++)\n",
    "    {\n",
    "        for (int j = i + 1; j < feedbackRecords.Count; j++)\n",
    "        {\n",
    "            // Calculate similarity between two embeddings (e.g., cosine similarity)\n",
    "            double similarity = CalculateCosineSimilarity(feedbackRecords[i].Embedding, feedbackRecords[j].Embedding);\n",
    "            totalSimilarity += similarity;\n",
    "            count++;\n",
    "        }\n",
    "    }\n",
    "    return count > 0 ? totalSimilarity / count : 0;\n",
    "}"
   ]
  },
  {
   "cell_type": "code",
   "execution_count": null,
   "metadata": {
    "dotnet_interactive": {
     "language": "csharp"
    },
    "polyglot_notebook": {
     "kernelName": "csharp"
    },
    "vscode": {
     "languageId": "polyglot-notebook"
    }
   },
   "outputs": [],
   "source": [
    "string thematicMessage = @\"\n",
    "“Given the following summary, create one concise, overarching statement that captures the main theme or purpose described. \n",
    "Focus on summarizing the core idea in a single short sentence.\";"
   ]
  },
  {
   "cell_type": "code",
   "execution_count": null,
   "metadata": {
    "dotnet_interactive": {
     "language": "csharp"
    },
    "polyglot_notebook": {
     "kernelName": "csharp"
    },
    "vscode": {
     "languageId": "polyglot-notebook"
    }
   },
   "outputs": [],
   "source": [
    "// Filter main clusters with more than one sub-cluster\n",
    "var clustersWithMultipleSubClusters = clusterList\n",
    "    .Where(mainCluster => mainCluster.SubClusters != null && mainCluster.SubClusters.Count > 1)\n",
    "    .ToList();"
   ]
  },
  {
   "cell_type": "code",
   "execution_count": null,
   "metadata": {
    "dotnet_interactive": {
     "language": "csharp"
    },
    "polyglot_notebook": {
     "kernelName": "csharp"
    },
    "vscode": {
     "languageId": "polyglot-notebook"
    }
   },
   "outputs": [],
   "source": [
    "foreach (var mainCluster in clustersWithMultipleSubClusters)\n",
    "{\n",
    "    var openAIResponse = await CallOpenAI(mainCluster.Summary, thematicMessage, JasonResponse : false);\n",
    "    Console.WriteLine($\"{mainCluster.ClusterId} with summary {mainCluster.Summary} \\n with: {openAIResponse}\");\n",
    "}"
   ]
  },
  {
   "cell_type": "code",
   "execution_count": null,
   "metadata": {
    "dotnet_interactive": {
     "language": "csharp"
    },
    "polyglot_notebook": {
     "kernelName": "csharp"
    },
    "vscode": {
     "languageId": "polyglot-notebook"
    }
   },
   "outputs": [],
   "source": [
    "\n",
    "\n",
    "// Log information about each main cluster that has multiple sub-clusters\n",
    "foreach (var mainCluster in clustersWithMultipleSubClusters)\n",
    "{\n",
    "    \n",
    "\n",
    "    Console.WriteLine($\"Main Cluster {openAIResponse} with {mainCluster.FeedbackRecords.Count} items and {mainCluster.SubClusters.Count} sub-clusters.\");\n",
    "    \n",
    "    foreach (var subCluster in mainCluster.SubClusters)\n",
    "    {\n",
    "        Console.WriteLine(\"  ------------------\");\n",
    "        Console.WriteLine($\"  - Sub-Cluster with {subCluster.Count} feedback items.\");\n",
    "\n",
    "        // Display a summary or statistics for each sub-cluster if desired\n",
    "        var avgSimilarity = CalculateAverageSimilarity(subCluster);\n",
    "        Console.WriteLine($\"    Average Similarity within Sub-Cluster: {avgSimilarity:F2}\");\n",
    "        \n",
    "        \n",
    "        // print only id the number of feedbacks is more than 1\n",
    "        if (subCluster.Count > 1)\n",
    "        {\n",
    "            foreach (var feedback in subCluster) \n",
    "            {\n",
    "                Console.WriteLine($\"    Sample Feedback:{feedback.Id}|| {feedback.UserStory} ||\");\n",
    "            }\n",
    "        }\n",
    "\n",
    "\n",
    "    }\n",
    "}"
   ]
  },
  {
   "cell_type": "markdown",
   "metadata": {},
   "source": [
    "## Saving to a file\n",
    "\n",
    "Before saving to a file, there is no need for the embeddings to be saved to a file."
   ]
  },
  {
   "cell_type": "code",
   "execution_count": null,
   "metadata": {
    "dotnet_interactive": {
     "language": "csharp"
    },
    "polyglot_notebook": {
     "kernelName": "csharp"
    },
    "vscode": {
     "languageId": "polyglot-notebook"
    }
   },
   "outputs": [],
   "source": [
    "public List<ServiceCluster> CleanClusterList(List<ServiceCluster> clusterList)\n",
    "{\n",
    "    foreach (var cluster in clusterList)\n",
    "    {\n",
    "        foreach (var feedback in cluster.FeedbackRecords)\n",
    "        {\n",
    "            // Set the Embedding field to null (or simply remove this line from the class definition if you don't need it)\n",
    "            feedback.Embedding = null;\n",
    "        }\n",
    "    }\n",
    "\n",
    "    return clusterList;\n",
    "}"
   ]
  },
  {
   "cell_type": "code",
   "execution_count": null,
   "metadata": {
    "dotnet_interactive": {
     "language": "csharp"
    },
    "polyglot_notebook": {
     "kernelName": "csharp"
    },
    "vscode": {
     "languageId": "polyglot-notebook"
    }
   },
   "outputs": [],
   "source": [
    "// Method to load clusters from a JSON file\n",
    "public async Task<List<ServiceCluster>> LoadClustersFromFile(string filePath)\n",
    "{\n",
    "    try\n",
    "    {\n",
    "        if (!File.Exists(filePath))\n",
    "        {\n",
    "            throw new FileNotFoundException(\"File not found.\", filePath);\n",
    "        }\n",
    "\n",
    "        // Read JSON from file and deserialize to List<ServiceCluster>\n",
    "        string json = await File.ReadAllTextAsync(filePath);\n",
    "        var clusters = JsonSerializer.Deserialize<List<ServiceCluster>>(json);\n",
    "\n",
    "        Console.WriteLine($\"Clusters loaded from {filePath}\");\n",
    "        return clusters ?? new List<ServiceCluster>();\n",
    "    }\n",
    "    catch (Exception ex)\n",
    "    {\n",
    "        Console.WriteLine($\"Error loading clusters from file: {ex.Message}\");\n",
    "        return new List<ServiceCluster>();  // Return empty list if an error occurs\n",
    "    }\n",
    "}"
   ]
  },
  {
   "cell_type": "code",
   "execution_count": null,
   "metadata": {
    "dotnet_interactive": {
     "language": "csharp"
    },
    "polyglot_notebook": {
     "kernelName": "csharp"
    },
    "vscode": {
     "languageId": "polyglot-notebook"
    }
   },
   "outputs": [],
   "source": [
    "public async Task SaveClustersToJsonAsync(List<ServiceCluster> clusterList, string outputPath, bool cleanEmbeddings = true)\n",
    "{\n",
    "    try\n",
    "    {\n",
    "        // clean the cluster list\n",
    "        if (cleanEmbeddings) clusterList = CleanClusterList(clusterList);\n",
    "        // Serialize the cluster list to JSON\n",
    "        var json = JsonSerializer.Serialize(clusterList, new JsonSerializerOptions { WriteIndented = true });\n",
    "\n",
    "        // Write the JSON string to a file\n",
    "        await File.WriteAllTextAsync(outputPath, json);\n",
    "\n",
    "        Console.WriteLine($\"Cluster data saved to {outputPath}\");\n",
    "    }\n",
    "    catch (Exception ex)\n",
    "    {\n",
    "        Console.WriteLine($\"Error saving clusters to JSON: {ex.Message}\");\n",
    "    }\n",
    "}"
   ]
  },
  {
   "cell_type": "markdown",
   "metadata": {},
   "source": [
    "## Saving to a file\n",
    "\n",
    "Last step is to save the clusters to a file. This file would be used to display the clusters in the UI.\n",
    "There is an API `[HttpGet(\"GetServiceClusters/{serviceName}\")]` that would be used to get the clusters from the file and display them in the UI."
   ]
  },
  {
   "cell_type": "code",
   "execution_count": null,
   "metadata": {
    "dotnet_interactive": {
     "language": "csharp"
    },
    "polyglot_notebook": {
     "kernelName": "csharp"
    },
    "vscode": {
     "languageId": "polyglot-notebook"
    }
   },
   "outputs": [],
   "source": [
    "var outputPath = $\"{dataRoot}/{servicename}-clusters-full.json\";  // Define the output file path\n",
    "await SaveClustersToJsonAsync(clusterList, outputPath, cleanEmbeddings: false);  // Save the full cluster data"
   ]
  },
  {
   "cell_type": "code",
   "execution_count": null,
   "metadata": {
    "dotnet_interactive": {
     "language": "csharp"
    },
    "polyglot_notebook": {
     "kernelName": "csharp"
    },
    "vscode": {
     "languageId": "polyglot-notebook"
    }
   },
   "outputs": [],
   "source": [
    "string jsonString = File.ReadAllText(outputPath);"
   ]
  },
  {
   "cell_type": "code",
   "execution_count": null,
   "metadata": {
    "dotnet_interactive": {
     "language": "csharp"
    },
    "polyglot_notebook": {
     "kernelName": "csharp"
    },
    "vscode": {
     "languageId": "polyglot-notebook"
    }
   },
   "outputs": [],
   "source": [
    "var options = new JsonSerializerOptions\n",
    "{\n",
    "    PropertyNameCaseInsensitive = true\n",
    "};\n",
    "\n",
    "    List<ServiceCluster> clusters = JsonSerializer.Deserialize<List<ServiceCluster>>(jsonString, options);\n",
    "\n",
    "    // Process each cluster to generate initiative ideas\n",
    "    foreach (var cluster in clusters)\n",
    "    {\n",
    "        // Extract necessary information\n",
    "        string clusterId = cluster.ClusterId;\n",
    "        string commonElement = cluster.CommonElement;\n",
    "        int similarFeedbacks = cluster.SimilarFeedbacks;\n",
    "        int distinctCustomers = cluster.DistinctCustomers;\n",
    "        string summary = cluster.Summary;\n",
    "\n",
    "        // Generate initiative idea\n",
    "        string initiativeIdea = $\"Initiative Idea for Cluster {clusterId}:\\n\" +\n",
    "            $\"- **Focus Area**: {commonElement}\\n\" +\n",
    "            $\"- **Description**: {summary}\\n\" +\n",
    "            $\"- **Potential Impact**: Addresses feedback from {similarFeedbacks} similar feedback items across {distinctCustomers} customers.\\n\";\n",
    "\n",
    "        // Output the initiative idea\n",
    "        Console.WriteLine(initiativeIdea);\n",
    "        Console.WriteLine(new string('*', 50));\n",
    "    }\n"
   ]
  }
 ],
 "metadata": {
  "kernelspec": {
   "display_name": ".NET (C#)",
   "language": "C#",
   "name": ".net-csharp"
  },
  "language_info": {
   "name": "python"
  },
  "polyglot_notebook": {
   "kernelInfo": {
    "defaultKernelName": "csharp",
    "items": [
     {
      "aliases": [],
      "name": "csharp"
     }
    ]
   }
  }
 },
 "nbformat": 4,
 "nbformat_minor": 2
}
