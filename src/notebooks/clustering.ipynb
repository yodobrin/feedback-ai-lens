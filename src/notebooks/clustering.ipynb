{
 "cells": [
  {
   "cell_type": "code",
   "execution_count": 12,
   "metadata": {
    "dotnet_interactive": {
     "language": "csharp"
    },
    "polyglot_notebook": {
     "kernelName": "csharp"
    },
    "vscode": {
     "languageId": "polyglot-notebook"
    }
   },
   "outputs": [
    {
     "data": {
      "text/html": [
       "<div><div></div><div></div><div><strong>Installed Packages</strong><ul><li><span>Microsoft.ML, 3.0.1</span></li><li><span>System.Text.Json, 8.0.4</span></li></ul></div></div>"
      ]
     },
     "metadata": {},
     "output_type": "display_data"
    }
   ],
   "source": [
    "#r \"nuget: System.Text.Json\"\n",
    "#r \"nuget: Microsoft.ML\""
   ]
  },
  {
   "cell_type": "code",
   "execution_count": 13,
   "metadata": {
    "vscode": {
     "languageId": "polyglot-notebook"
    }
   },
   "outputs": [],
   "source": [
    "using Microsoft.ML;\n",
    "using Microsoft.ML.Data;\n",
    "using System.Text.Json;\n",
    "using System.IO;\n",
    "\n",
    "using System.Text.Json.Serialization;\n",
    "\n",
    "using System.Linq;\n",
    "\n"
   ]
  },
  {
   "cell_type": "code",
   "execution_count": 14,
   "metadata": {
    "vscode": {
     "languageId": "polyglot-notebook"
    }
   },
   "outputs": [],
   "source": [
    "\n",
    "public class FeedbackRecord\n",
    "{\n",
    "    [JsonPropertyName(\"Id\")]\n",
    "    public string Id { get; set; }\n",
    "\n",
    "    [JsonPropertyName(\"PartnerShortName\")]\n",
    "    public string PartnerShortName { get; set; }\n",
    "\n",
    "    [JsonPropertyName(\"ServiceName\")]\n",
    "    public string ServiceName { get; set; }\n",
    "\n",
    "    [JsonPropertyName(\"Type\")]\n",
    "    public string Type { get; set; }\n",
    "\n",
    "    [JsonPropertyName(\"Title\")]\n",
    "    public string Title { get; set; }\n",
    "\n",
    "    [JsonPropertyName(\"Blocking\")]\n",
    "    public string Blocking { get; set; }\n",
    "\n",
    "    [JsonPropertyName(\"Description\")]\n",
    "    public string Description { get; set; }\n",
    "\n",
    "    [JsonPropertyName(\"WorkaroundAvailable\")]\n",
    "    public string WorkaroundAvailable { get; set; }\n",
    "\n",
    "    [JsonPropertyName(\"Priority\")]\n",
    "    public string Priority { get; set; }\n",
    "\n",
    "    [JsonPropertyName(\"CustomerName\")]\n",
    "    public string CustomerName { get; set; }\n",
    "\n",
    "    [JsonPropertyName(\"CustomerTpid\")]\n",
    "    public string CustomerTpid { get; set; }\n",
    "\n",
    "    [JsonPropertyName(\"WorkaroundDescription\")]\n",
    "    public string WorkaroundDescription { get; set; }\n",
    "\n",
    "    [JsonPropertyName(\"UserStory\")]\n",
    "    public string UserStory { get; set; }\n",
    "\n",
    "    [JsonPropertyName(\"Embedding\")]\n",
    "    public float[] Embedding { get; set; } // Embedding for the user story as a float array\n",
    "\n",
    "    // Implement the GetVector method from IVector interface\n",
    "    public float[] GetVector()\n",
    "    {\n",
    "        return Embedding ?? throw new InvalidOperationException(\"Embedding vector is not set.\");\n",
    "    }\n",
    "\n",
    "    // A method to get a safe version of the FeedbackRecord (similar to GetSafeVersion in FunctionCodePair)\n",
    "    public FeedbackRecord GetSafeVersion()\n",
    "    {\n",
    "        return new FeedbackRecord\n",
    "        {\n",
    "            Id = this.Id,\n",
    "            PartnerShortName = this.PartnerShortName,\n",
    "            ServiceName = this.ServiceName,\n",
    "            Type = this.Type,\n",
    "            Title = this.Title,\n",
    "            Blocking = this.Blocking,\n",
    "            Description = this.Description,\n",
    "            WorkaroundAvailable = this.WorkaroundAvailable,\n",
    "            Priority = this.Priority,\n",
    "            CustomerName = this.CustomerName,\n",
    "            CustomerTpid = this.CustomerTpid,\n",
    "            WorkaroundDescription = this.WorkaroundDescription,\n",
    "            UserStory = this.UserStory,\n",
    "            Embedding = null // We do not include the embedding in the safe version\n",
    "        };\n",
    "    }\n",
    "}"
   ]
  },
  {
   "cell_type": "code",
   "execution_count": 16,
   "metadata": {
    "vscode": {
     "languageId": "polyglot-notebook"
    }
   },
   "outputs": [],
   "source": [
    "public class ServiceCluster\n",
    "{\n",
    "    [JsonPropertyName(\"ServiceName\")]\n",
    "    public string ServiceName { get; set; }\n",
    "\n",
    "    [JsonPropertyName(\"ClusterName\")]\n",
    "    public string ClusterName { get; set; }\n",
    "\n",
    "    [JsonPropertyName(\"CommonElement\")]\n",
    "    public string CommonElement { get; set; }\n",
    "\n",
    "    [JsonPropertyName(\"SimilarFeedbacks\")]\n",
    "    public int SimilarFeedbacks { get; set; }\n",
    "\n",
    "    [JsonPropertyName(\"DistinctCustomers\")]\n",
    "    public int DistinctCustomers { get; set; }\n",
    "}\n",
    "\n",
    "public class EmbeddingData\n",
    "{\n",
    "    [VectorType(1536)] // Changed the vector size to 1536\n",
    "    public float[] Embedding { get; set; }\n",
    "}\n",
    "\n",
    "// Display the top 5 clusters\n",
    "public class ClusterPrediction\n",
    "{\n",
    "    [ColumnName(\"PredictedLabel\")]\n",
    "    public uint PredictedCluster { get; set; }\n",
    "    [ColumnName(\"Score\")]\n",
    "    public float[] Distances { get; set; }\n",
    "}"
   ]
  },
  {
   "cell_type": "code",
   "execution_count": 22,
   "metadata": {
    "vscode": {
     "languageId": "polyglot-notebook"
    }
   },
   "outputs": [],
   "source": [
    "var jsonFilePath = \"/Users/yoavdobrin/workspace/fta/feedback-ai-lens/sample-data/cosmosdb.json\";\n",
    "var jsonString = File.ReadAllText(jsonFilePath);\n",
    "var feedbackRecords = JsonSerializer.Deserialize<List<FeedbackRecord>>(jsonString);\n"
   ]
  },
  {
   "cell_type": "code",
   "execution_count": 28,
   "metadata": {
    "vscode": {
     "languageId": "polyglot-notebook"
    }
   },
   "outputs": [
    {
     "name": "stdout",
     "output_type": "stream",
     "text": [
      "Number of clusters: 50\n"
     ]
    }
   ],
   "source": [
    "var clusterCount = 50;\n",
    "var mlContext = new MLContext();\n",
    "var embeddingData = feedbackRecords.Select(f => new EmbeddingData { Embedding = f.Embedding }).ToList();\n",
    "var dataView = mlContext.Data.LoadFromEnumerable(embeddingData);\n",
    "\n",
    "// Cluster the embeddings using KMeans (set number of clusters, e.g., 5)\n",
    "var pipeline = mlContext.Clustering.Trainers.KMeans(featureColumnName: \"Embedding\", numberOfClusters: clusterCount);\n",
    "var model = pipeline.Fit(dataView);\n",
    "\n",
    "// Predict the cluster for each feedback record\n",
    "var predictions = model.Transform(dataView);\n",
    "var clusters = mlContext.Data.CreateEnumerable<ClusterPrediction>(predictions, reuseRowObject: false).ToList();\n",
    "\n",
    "// Console.WriteLine($\"Number of clusters: {clusters.Count}\");\n",
    "\n",
    "public class ClusterPrediction\n",
    "{\n",
    "    [ColumnName(\"PredictedLabel\")]\n",
    "    public uint PredictedCluster { get; set; }  // Cluster number (1, 2, 3, etc.)\n",
    "}\n",
    "\n",
    "// Assign the clusters to feedback records\n",
    "var feedbackWithClusters = feedbackRecords.Zip(clusters, (feedback, cluster) => new\n",
    "{\n",
    "    Feedback = feedback,\n",
    "    Cluster = cluster.PredictedCluster\n",
    "}).ToList();\n",
    "\n",
    "// print the number of numberOfClusters\n",
    "var numberOfClusters = feedbackWithClusters.Select(f => f.Cluster).Distinct().Count();\n",
    "Console.WriteLine($\"Number of clusters: {numberOfClusters}\");"
   ]
  },
  {
   "cell_type": "code",
   "execution_count": 32,
   "metadata": {
    "vscode": {
     "languageId": "polyglot-notebook"
    }
   },
   "outputs": [
    {
     "name": "stdout",
     "output_type": "stream",
     "text": [
      "Cluster 1 contains 8 user stories:\n",
      "Cluster 2 contains 33 user stories:\n",
      "Cluster 3 contains 16 user stories:\n",
      "Cluster 4 contains 21 user stories:\n",
      "Cluster 5 contains 13 user stories:\n",
      "Cluster 6 contains 3 user stories:\n",
      "Cluster 7 contains 11 user stories:\n",
      "Cluster 8 contains 2 user stories:\n",
      "Cluster 9 contains 16 user stories:\n",
      "Cluster 10 contains 2 user stories:\n",
      "Cluster 11 contains 2 user stories:\n",
      "Cluster 12 contains 14 user stories:\n",
      "Cluster 13 contains 6 user stories:\n",
      "Cluster 14 contains 4 user stories:\n",
      "Cluster 15 contains 16 user stories:\n",
      "Cluster 16 contains 12 user stories:\n",
      "Cluster 17 contains 3 user stories:\n",
      "Cluster 18 contains 1 user stories:\n",
      "Cluster 19 contains 13 user stories:\n",
      "Cluster 20 contains 7 user stories:\n",
      "Cluster 21 contains 20 user stories:\n",
      "Cluster 22 contains 24 user stories:\n",
      "Cluster 23 contains 13 user stories:\n",
      "Cluster 24 contains 14 user stories:\n",
      "Cluster 25 contains 15 user stories:\n",
      "Cluster 26 contains 3 user stories:\n",
      "Cluster 27 contains 2 user stories:\n",
      "Cluster 28 contains 16 user stories:\n",
      "Cluster 29 contains 9 user stories:\n",
      "Cluster 30 contains 16 user stories:\n",
      "Cluster 31 contains 49 user stories:\n",
      "Cluster 32 contains 7 user stories:\n",
      "Cluster 33 contains 7 user stories:\n",
      "Cluster 34 contains 6 user stories:\n",
      "Cluster 35 contains 3 user stories:\n",
      "Cluster 36 contains 5 user stories:\n",
      "Cluster 37 contains 16 user stories:\n",
      "Cluster 38 contains 5 user stories:\n",
      "Cluster 39 contains 18 user stories:\n",
      "Cluster 40 contains 30 user stories:\n",
      "Cluster 41 contains 4 user stories:\n",
      "Cluster 42 contains 4 user stories:\n",
      "Cluster 43 contains 9 user stories:\n",
      "Cluster 44 contains 14 user stories:\n",
      "Cluster 45 contains 6 user stories:\n",
      "Cluster 46 contains 5 user stories:\n",
      "Cluster 47 contains 33 user stories:\n",
      "Cluster 48 contains 26 user stories:\n",
      "Cluster 49 contains 10 user stories:\n",
      "Cluster 50 contains 8 user stories:\n"
     ]
    }
   ],
   "source": [
    "// Method to display user stories for a given cluster\n",
    "void DisplayUserStoriesForCluster(uint clusterNumber)\n",
    "{\n",
    "    var storiesInCluster = feedbackWithClusters\n",
    "        .Where(x => x.Cluster == clusterNumber)\n",
    "        .Select(x => x.Feedback.UserStory)\n",
    "        .ToList();\n",
    "    // print the number of clusters\n",
    "\n",
    "    if (storiesInCluster.Any())\n",
    "    {\n",
    "        Console.WriteLine($\"Cluster {clusterNumber} contains {storiesInCluster.Count} user stories:\");\n",
    "        // foreach (var story in storiesInCluster)\n",
    "        // {\n",
    "        //     Console.WriteLine(\"- \" + story);\n",
    "        // }\n",
    "    }\n",
    "    else\n",
    "    {\n",
    "        Console.WriteLine($\"No user stories found in cluster {clusterNumber}.\");\n",
    "    }\n",
    "}\n",
    "\n",
    "// Example: Display user stories for cluster 1\n",
    "// DisplayUserStoriesForCluster(1);\n",
    "\n",
    "// You can loop over all clusters to display stories for each one\n",
    "for (uint i = 1; i <= clusterCount; i++)\n",
    "{\n",
    "    DisplayUserStoriesForCluster(i);\n",
    "}"
   ]
  },
  {
   "cell_type": "code",
   "execution_count": null,
   "metadata": {
    "vscode": {
     "languageId": "polyglot-notebook"
    }
   },
   "outputs": [],
   "source": []
  },
  {
   "cell_type": "code",
   "execution_count": 10,
   "metadata": {
    "vscode": {
     "languageId": "polyglot-notebook"
    }
   },
   "outputs": [],
   "source": [
    "var groupedClusters = feedbackRecords\n",
    "    .Zip(clusters, (feedback, cluster) => new { feedback.UserStory, cluster.PredictedCluster })\n",
    "    .GroupBy(x => x.PredictedCluster)\n",
    "    .OrderByDescending(g => g.Count())\n",
    "    .Take(5)\n",
    "    .Select(g => new\n",
    "    {\n",
    "        Cluster = g.Key,\n",
    "        UserStories = g.Select(x => x.UserStory).ToList()\n",
    "    });\n"
   ]
  },
  {
   "cell_type": "code",
   "execution_count": 11,
   "metadata": {
    "vscode": {
     "languageId": "polyglot-notebook"
    }
   },
   "outputs": [
    {
     "data": {
      "text/html": [
       "<table><thead><tr><th><i>index</i></th><th>value</th></tr></thead><tbody><tr><td>0</td><td><details class=\"dni-treeview\"><summary><span class=\"dni-code-hint\"><code>{ Cluster = 3, UserStories = System.Collections.Generic.List`1[System.String] }</code></span></summary><div><table><thead><tr></tr></thead><tbody><tr><td>Cluster</td><td><div class=\"dni-plaintext\"><pre>3</pre></div></td></tr><tr><td>UserStories</td><td><div class=\"dni-plaintext\"><pre>[ As a cloud infrastructure administrator, I want to configure the Mem.ShareForceSalting parameter to 0 in Azure VMware Solution, so that I can enable memory sharing across all VMs within the same host and reduce RAM usage, thereby staying within the allocated budget., As a cloud infrastructure manager, I want to deploy Azure VMware Solution Stretched Cluster in the Italy North region, so that I can ensure high availability and disaster recovery for our VMware workloads., As a cloud infrastructure manager, I want to enable Azure VMware Solutions in the Brazil South region, so that I can deploy and manage VMware workloads locally., As a network administrator, I want to configure an HTTP Proxy for Azure Spring Apps, so that I can ensure all traffic is routed through our on-premise security infrastructure and meet our security requirements., As a cloud infrastructure manager, I want to automatically reschedule pods on spot node pools when capacity becomes available, so that I can optimize resource utilization and reduce total cost of ownership (TCO)., As an IT manager, I want to evaluate Azure VMware Solution with add-on storage of 200TB++, so that I can determine if it is a cost-effective and viable alternative to our current on-premise Nutanix solution., As an IT administrator, I want to monitor detailed metrics on time taken at every stage of VM migration using HCX, so that I can have an alert mechanism in place and ensure smooth migration processes., As a cloud administrator, I want to view my current subnet usage for App Services/ASEs in Fairfax, so that I can prevent subnet IP exhaustion and ensure continuous production workloads., As an IT manager, I want Azure Automation available in the Spain Central region, so that I can fully automate my environment and progress with my planned projects without delays., As a cloud infrastructure manager, I want to replicate AppStacks between on-prem and AVS without using an NFS share, so that I can ensure seamless application delivery and maintain consistency across environments., As a Kubernetes administrator, I want to create role assignments based on namespace labels, so that I can manage access permissions more efficiently across a large number of namespaces. ]</pre></div></td></tr></tbody></table></div></details></td></tr><tr><td>1</td><td><details class=\"dni-treeview\"><summary><span class=\"dni-code-hint\"><code>{ Cluster = 5, UserStories = System.Collections.Generic.List`1[System.String] }</code></span></summary><div><table><thead><tr></tr></thead><tbody><tr><td>Cluster</td><td><div class=\"dni-plaintext\"><pre>5</pre></div></td></tr><tr><td>UserStories</td><td><div class=\"dni-plaintext\"><pre>[ As a business user, I want to filter Power Automate runs by datetime of execution, so that I can quickly locate specific runs without scrolling extensively., As a developer, I want to use a VSCode extension for Azure API Management, so that I can manage APIs efficiently within my development environment., As a system administrator, I want to enable gMSA v2 support on Windows AKS, so that I can ensure our API pods can access a domain-joined SQL server without disruptions., As a system administrator, I want to upload static images to a backend storage like Azure Blob instead of using Git for Static Web Apps, so that I can avoid hitting the gitpacks hard limit and ensure continuous updates to the business-critical app., As a developer, I want to receive comprehensive guidance and support on using Azure Functions for background processes in Dataverse, so that I can confidently justify the need for permissions and demonstrate the benefits to my IT managers., As a DevOps engineer, I want to have extended support for older Kubernetes versions on Azure Kubernetes Service, so that I can have more time to migrate to fully supported versions and maintain consistency across multi-cloud environments. ]</pre></div></td></tr></tbody></table></div></details></td></tr><tr><td>2</td><td><details class=\"dni-treeview\"><summary><span class=\"dni-code-hint\"><code>{ Cluster = 1, UserStories = System.Collections.Generic.List`1[System.String] }</code></span></summary><div><table><thead><tr></tr></thead><tbody><tr><td>Cluster</td><td><div class=\"dni-plaintext\"><pre>1</pre></div></td></tr><tr><td>UserStories</td><td><div class=\"dni-plaintext\"><pre>[ As a cloud infrastructure architect, I want to extend the bandwidth of AVS ExpressRoute GlobalReach to more than 25Gbps, so that I can support the planned ramp-up of 70 AVS hosts and ensure optimal network performance. ]</pre></div></td></tr></tbody></table></div></details></td></tr><tr><td>3</td><td><details class=\"dni-treeview\"><summary><span class=\"dni-code-hint\"><code>{ Cluster = 2, UserStories = System.Collections.Generic.List`1[System.String] }</code></span></summary><div><table><thead><tr></tr></thead><tbody><tr><td>Cluster</td><td><div class=\"dni-plaintext\"><pre>2</pre></div></td></tr><tr><td>UserStories</td><td><div class=\"dni-plaintext\"><pre>[ As a system administrator, I want to extend the current 15 ASEv1/v2 environments until the end of September 2024, so that I can ensure critical banking services continue to operate without disruption. ]</pre></div></td></tr></tbody></table></div></details></td></tr><tr><td>4</td><td><details class=\"dni-treeview\"><summary><span class=\"dni-code-hint\"><code>{ Cluster = 4, UserStories = System.Collections.Generic.List`1[System.String] }</code></span></summary><div><table><thead><tr></tr></thead><tbody><tr><td>Cluster</td><td><div class=\"dni-plaintext\"><pre>4</pre></div></td></tr><tr><td>UserStories</td><td><div class=\"dni-plaintext\"><pre>[ As a developer, I want to monitor HTTP result codes for my function on a Linux consumption plan, so that I can create alerts when the function returns any 4xx status code. ]</pre></div></td></tr></tbody></table></div></details></td></tr></tbody></table><style>\r\n",
       ".dni-code-hint {\r\n",
       "    font-style: italic;\r\n",
       "    overflow: hidden;\r\n",
       "    white-space: nowrap;\r\n",
       "}\r\n",
       ".dni-treeview {\r\n",
       "    white-space: nowrap;\r\n",
       "}\r\n",
       ".dni-treeview td {\r\n",
       "    vertical-align: top;\r\n",
       "    text-align: start;\r\n",
       "}\r\n",
       "details.dni-treeview {\r\n",
       "    padding-left: 1em;\r\n",
       "}\r\n",
       "table td {\r\n",
       "    text-align: start;\r\n",
       "}\r\n",
       "table tr { \r\n",
       "    vertical-align: top; \r\n",
       "    margin: 0em 0px;\r\n",
       "}\r\n",
       "table tr td pre \r\n",
       "{ \r\n",
       "    vertical-align: top !important; \r\n",
       "    margin: 0em 0px !important;\r\n",
       "} \r\n",
       "table th {\r\n",
       "    text-align: start;\r\n",
       "}\r\n",
       "</style>"
      ]
     },
     "metadata": {},
     "output_type": "display_data"
    }
   ],
   "source": [
    "display(groupedClusters);"
   ]
  }
 ],
 "metadata": {
  "kernelspec": {
   "display_name": ".NET (C#)",
   "language": "C#",
   "name": ".net-csharp"
  },
  "language_info": {
   "name": "python"
  },
  "polyglot_notebook": {
   "kernelInfo": {
    "defaultKernelName": "csharp",
    "items": [
     {
      "aliases": [],
      "name": "csharp"
     }
    ]
   }
  }
 },
 "nbformat": 4,
 "nbformat_minor": 2
}
