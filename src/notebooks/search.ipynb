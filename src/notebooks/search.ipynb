{
 "cells": [
  {
   "cell_type": "markdown",
   "metadata": {},
   "source": [
    "# Feedback Exploration\n",
    "\n",
    "This notebook, leverage the pre-processed data from [this notebook](./research.ipynb).\n",
    "\n",
    "## Approach\n",
    "\n",
    "Using embeddings, we can find the most similar feedbacks to a given user query. For this we would need an OpenAI client. We will embed the user query and seek for `cosine` similarities within the pre-processed feedbacks."
   ]
  },
  {
   "cell_type": "code",
   "execution_count": 7,
   "metadata": {
    "vscode": {
     "languageId": "polyglot-notebook"
    }
   },
   "outputs": [],
   "source": [
    "using System.Text.Json.Serialization;\n",
    "using System.Text.Json;"
   ]
  },
  {
   "cell_type": "code",
   "execution_count": 8,
   "metadata": {
    "dotnet_interactive": {
     "language": "csharp"
    },
    "polyglot_notebook": {
     "kernelName": "csharp"
    },
    "vscode": {
     "languageId": "polyglot-notebook"
    }
   },
   "outputs": [],
   "source": [
    "# load \"../utils/VectorMath.cs\"\n",
    "# load \"../FeedbackApi/Models/FeedbackRecord.cs\""
   ]
  },
  {
   "cell_type": "code",
   "execution_count": 1,
   "metadata": {
    "dotnet_interactive": {
     "language": "csharp"
    },
    "polyglot_notebook": {
     "kernelName": "csharp"
    },
    "vscode": {
     "languageId": "polyglot-notebook"
    }
   },
   "outputs": [
    {
     "data": {
      "text/html": [
       "<div><div></div><div></div><div><strong>Installed Packages</strong><ul><li><span>Azure.AI.OpenAI, 1.0.0-beta.12</span></li><li><span>DotNetEnv, 2.5.0</span></li></ul></div></div>"
      ]
     },
     "metadata": {},
     "output_type": "display_data"
    }
   ],
   "source": [
    "#r \"nuget: Azure.AI.OpenAI, 1.0.0-beta.12\"\n",
    "#r \"nuget: DotNetEnv, 2.5.0\"\n",
    "\n",
    "using Azure; \n",
    "using Azure.AI.OpenAI;\n",
    "using DotNetEnv;\n",
    "using System.IO;\n",
    "using System.Text.Json; "
   ]
  },
  {
   "cell_type": "markdown",
   "metadata": {},
   "source": [
    "## Creating OpenAI Client\n",
    "\n",
    "The following cell initialize the OpenAi client with which all calls would be made to the end-point."
   ]
  },
  {
   "cell_type": "code",
   "execution_count": 2,
   "metadata": {
    "dotnet_interactive": {
     "language": "csharp"
    },
    "polyglot_notebook": {
     "kernelName": "csharp"
    },
    "vscode": {
     "languageId": "polyglot-notebook"
    }
   },
   "outputs": [
    {
     "name": "stdout",
     "output_type": "stream",
     "text": [
      "OpenAI Client created: https://yd-openai-sweden.openai.azure.com/ with: yd-sweeden-40 and emedd-ada-002 deployments\n"
     ]
    }
   ],
   "source": [
    "static string _configurationFile = @\"../../configuration/.env\";\n",
    "Env.Load(_configurationFile);\n",
    "\n",
    "string oAiApiKey = Environment.GetEnvironmentVariable(\"AOAI_APIKEY\") ?? \"AOAI_APIKEY not found\";\n",
    "string oAiEndpoint = Environment.GetEnvironmentVariable(\"AOAI_ENDPOINT\") ?? \"AOAI_ENDPOINT not found\";\n",
    "string chatCompletionDeploymentName = Environment.GetEnvironmentVariable(\"CHATCOMPLETION_DEPLOYMENTNAME\") ?? \"CHATCOMPLETION_DEPLOYMENTNAME not found\";\n",
    "string embeddingDeploymentName = Environment.GetEnvironmentVariable(\"EMBEDDING_DEPLOYMENTNAME\") ?? \"EMBEDDING_DEPLOYMENTNAME not found\";\n",
    "\n",
    "AzureKeyCredential azureKeyCredential = new AzureKeyCredential(oAiApiKey);\n",
    "OpenAIClient openAIClient = new OpenAIClient(new Uri(oAiEndpoint), azureKeyCredential);\n",
    "\n",
    "Console.WriteLine($\"OpenAI Client created: {oAiEndpoint} with: {chatCompletionDeploymentName} and {embeddingDeploymentName} deployments\");"
   ]
  },
  {
   "cell_type": "code",
   "execution_count": 3,
   "metadata": {
    "dotnet_interactive": {
     "language": "csharp"
    },
    "polyglot_notebook": {
     "kernelName": "csharp"
    },
    "vscode": {
     "languageId": "polyglot-notebook"
    }
   },
   "outputs": [],
   "source": [
    "async Task<float[]> GetEmbeddingAsync(string textToBeVecorized)\n",
    "{\n",
    "    // Prepare the embeddings options with the user story\n",
    "    EmbeddingsOptions embeddingsOptions = new EmbeddingsOptions(embeddingDeploymentName, new List<string> { textToBeVecorized });\n",
    "    var modelResponse = await openAIClient.GetEmbeddingsAsync( embeddingsOptions);\n",
    "    float[] response = modelResponse.Value.Data[0].Embedding.ToArray();\n",
    "    return response;\n",
    "}"
   ]
  },
  {
   "cell_type": "markdown",
   "metadata": {},
   "source": [
    "# Search over a list of feedbacks\n",
    "\n",
    "The input is a json file, generated in the `research` notebook, containing a list of feedbacks. The generated user story and the embedding are part of the json file.\n",
    "\n",
    "This notebook, will use the same object that represent a feedback, it will load the content of the file into a list of feedbacks and then few search methods will be implemented to search over the list of feedbacks. in all cases the search would be brute force, but the idea is to show how the search can be done, the number of items in this demo is limited (20) and this concept can grow up to ~1000 before showing significant performance issues.\n",
    "\n",
    "a openai client would be required here to perform embedding on the user question."
   ]
  },
  {
   "cell_type": "markdown",
   "metadata": {},
   "source": [
    "## Loading pre-processed feedbacks\n",
    "\n",
    "The feedbacks are pre-processed in the `research` notebook, and saved in a json file. The file is loaded here and the feedbacks are stored in a list."
   ]
  },
  {
   "cell_type": "code",
   "execution_count": 5,
   "metadata": {
    "dotnet_interactive": {
     "language": "csharp"
    },
    "polyglot_notebook": {
     "kernelName": "csharp"
    },
    "vscode": {
     "languageId": "polyglot-notebook"
    }
   },
   "outputs": [],
   "source": [
    "using System.IO;\n",
    "using System.Collections.Generic;\n",
    "using System.Text.Json;\n",
    "using System.Threading.Tasks;\n",
    "\n",
    "public async Task<List<FeedbackRecord>> ReadFeedbackRecordsFromJsonAsync(string filePath)\n",
    "{\n",
    "    // Read the JSON file content\n",
    "    string jsonString = await File.ReadAllTextAsync(filePath);\n",
    "    \n",
    "    // Deserialize the JSON string into a list of FeedbackRecord objects\n",
    "    List<FeedbackRecord> feedbackRecords = JsonSerializer.Deserialize<List<FeedbackRecord>>(jsonString, new JsonSerializerOptions\n",
    "    {\n",
    "        PropertyNameCaseInsensitive = true // Ignore case differences in JSON property names\n",
    "    });\n",
    "    \n",
    "    return feedbackRecords;\n",
    "}"
   ]
  },
  {
   "cell_type": "markdown",
   "metadata": {},
   "source": [
    "## GetTop Similar Feedbacks\n",
    "\n",
    "This method will return the top similar feedbacks to the user question, the similarity is calculated based on the embedding of the user question and the feedbacks user story (a normalized version of the feedback details).\n",
    "\n",
    "It uses the cosine similarity to calculate the similarity between the user question and the feedbacks."
   ]
  },
  {
   "cell_type": "code",
   "execution_count": 14,
   "metadata": {
    "dotnet_interactive": {
     "language": "csharp"
    },
    "polyglot_notebook": {
     "kernelName": "csharp"
    },
    "vscode": {
     "languageId": "polyglot-notebook"
    }
   },
   "outputs": [],
   "source": [
    "public async Task<List<FeedbackRecord>> GetTopnSimilarUserStoriesAsync(string userQuery,List<FeedbackRecord> feedbackRecords, int topN = 3)\n",
    "{\n",
    "    // Step 1: Get the embedding for the user query\n",
    "    float[] queryEmbedding = await GetEmbeddingAsync(userQuery);\n",
    "\n",
    "    // Step 2: Calculate cosine similarity for each feedback record and store results\n",
    "    var similarityResults = new List<(FeedbackRecord record, float similarity)>();\n",
    "    \n",
    "    foreach (var record in feedbackRecords)\n",
    "    {\n",
    "        if (record.Embedding != null && record.Embedding.Length > 0)\n",
    "        {\n",
    "            float similarity = VectorMath.CosineSimilarity(record.Embedding, queryEmbedding);\n",
    "            similarityResults.Add((record, similarity));\n",
    "        }\n",
    "    }\n",
    "\n",
    "    // Step 3: Sort by similarity and take top n\n",
    "    var top3Stories = similarityResults.OrderByDescending(r => r.similarity).Take(topN).Select(r => r.record).ToList();\n",
    "\n",
    "    return top3Stories;\n",
    "}"
   ]
  },
  {
   "cell_type": "markdown",
   "metadata": {},
   "source": [
    "## Pre-Processed data\n",
    "\n",
    "The feedbacks are pre-processed in the `research` notebook, and saved in a json file. The file is loaded here and the feedbacks are stored in a list. Modify the location and name for the file if needed."
   ]
  },
  {
   "cell_type": "code",
   "execution_count": 9,
   "metadata": {
    "dotnet_interactive": {
     "language": "csharp"
    },
    "polyglot_notebook": {
     "kernelName": "csharp"
    },
    "vscode": {
     "languageId": "polyglot-notebook"
    }
   },
   "outputs": [],
   "source": [
    "var feedbacklocation = \"../../sample-data/exportedstories.json\";\n",
    "List<FeedbackRecord> feedbackRecords = await ReadFeedbackRecordsFromJsonAsync(feedbacklocation);\n"
   ]
  },
  {
   "cell_type": "markdown",
   "metadata": {},
   "source": [
    "## Potential user queries\n",
    "\n",
    "- i wonder if anyone was looking for older windows auth for his aks cluster\n",
    "- I am looking for evidence that there is a capacity issue in europe\n",
    "- I am looking for aks related feedback that devops would benefit\n",
    "- what are the most common featrues requests on app service?\n"
   ]
  },
  {
   "cell_type": "code",
   "execution_count": 21,
   "metadata": {
    "dotnet_interactive": {
     "language": "csharp"
    },
    "polyglot_notebook": {
     "kernelName": "csharp"
    },
    "vscode": {
     "languageId": "polyglot-notebook"
    }
   },
   "outputs": [
    {
     "name": "stdout",
     "output_type": "stream",
     "text": [
      "Id: Molina Healthcare, UserStory: As a system administrator, I want to enable gMSA v2 support on Windows AKS, so that I can ensure our API pods can access a domain-joined SQL server without disruptions.\n",
      "Id: JFrog Ltd, UserStory: As a DevOps engineer, I want to have extended support for older Kubernetes versions on Azure Kubernetes Service, so that I can have more time to migrate to fully supported versions and maintain consistency across multi-cloud environments.\n"
     ]
    }
   ],
   "source": [
    "string userQuery = \"i wonder if anyone was looking for older windows auth for his aks cluster\";\n",
    "List<FeedbackRecord> topStories = await GetTopnSimilarUserStoriesAsync(userQuery,feedbackRecords,2);\n",
    "\n",
    "// Output the top 3 user stories\n",
    "foreach (var story in topStories)\n",
    "{\n",
    "    Console.WriteLine($\"Id: {story.CustomerName}, UserStory: {story.UserStory}\");\n",
    "}"
   ]
  }
 ],
 "metadata": {
  "kernelspec": {
   "display_name": ".NET (C#)",
   "language": "C#",
   "name": ".net-csharp"
  },
  "language_info": {
   "name": "python"
  },
  "polyglot_notebook": {
   "kernelInfo": {
    "defaultKernelName": "csharp",
    "items": [
     {
      "aliases": [],
      "name": "csharp"
     }
    ]
   }
  }
 },
 "nbformat": 4,
 "nbformat_minor": 2
}
